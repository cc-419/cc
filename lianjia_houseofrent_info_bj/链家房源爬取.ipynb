{
 "cells": [
  {
   "cell_type": "code",
   "execution_count": 1,
   "metadata": {},
   "outputs": [
    {
     "name": "stdout",
     "output_type": "stream",
     "text": [
      "3000\n",
      "0\n",
      "20\n",
      "40\n",
      "60\n",
      "80\n",
      "100\n",
      "120\n",
      "140\n",
      "160\n"
     ]
    }
   ],
   "source": [
    "# -*- coding: UTF-8 -*-\n",
    "\n",
    "from bs4 import BeautifulSoup\n",
    "import requests\n",
    "import time\n",
    "import re\n",
    "import pandas as pd \n",
    "import numpy as np\n",
    "\n",
    "## 第一步：获取两居的房源编号（以BJ开头) \n",
    "def get_lianjia_house_code():\n",
    "    house_code_data=[]\n",
    "    #print('程序开始时间{}'.format(time.time()))\n",
    "    for i in range(1,101):\n",
    "        time.sleep(5)\n",
    "        url='https://bj.lianjia.com/zufang/pg'+str(i)+'rt200600000001l1/#contentList'\n",
    "        #https://bj.lianjia.com/zufang/pg98rt200600000001l1l0/#contentList\n",
    "        #print(url)\n",
    "        ##https://bj.lianjia.com/zufang/rt200600000001l1l0/#contentList\n",
    "        headers = {\n",
    "        'Accept': 'application/json',\n",
    "        'Accept-Encoding': 'gzip, deflate, br',\n",
    "        'Accept-Language': 'zh-CN,zh;q=0.9,en;q=0.8',\n",
    "        'Connection': 'keep-alive',\n",
    "        'Cookie':  'lianjia_uuid=99f1e6f8-cc8d-435a-87f7-b0d360d6d5b2; _smt_uid=5cea4b11.2a13524e; _ga=GA1.2.1298220716.1558858518; _jzqa=1.4022354363956294700.1558858514.1559205609.1590936861.3; select_city=110000; _gid=GA1.2.1581606667.1610113282; csrfSecret=kWfghzqtT6sm4JCVrOoNXvhR; activity_ke_com=undefined; lianjia_ssid=be23dce7-ea64-4607-93d0-18e4ca13144c; sensorsdata2015jssdkcross=%7B%22distinct_id%22%3A%2216af3353f76675-0f15018c966e22-37677003-1296000-16af3353f7792b%22%2C%22%24device_id%22%3A%2216af3353f76675-0f15018c966e22-37677003-1296000-16af3353f7792b%22%2C%22props%22%3A%7B%22%24latest_traffic_source_type%22%3A%22%E4%BB%98%E8%B4%B9%E5%B9%BF%E5%91%8A%E6%B5%81%E9%87%8F%22%2C%22%24latest_referrer%22%3A%22%22%2C%22%24latest_referrer_host%22%3A%22%22%2C%22%24latest_search_keyword%22%3A%22%E6%9C%AA%E5%8F%96%E5%88%B0%E5%80%BC_%E7%9B%B4%E6%8E%A5%E6%89%93%E5%BC%80%22%2C%22%24latest_utm_source%22%3A%22guanwang%22%2C%22%24latest_utm_medium%22%3A%22pinzhuan%22%2C%22%24latest_utm_campaign%22%3A%22wybeijing%22%2C%22%24latest_utm_content%22%3A%22biaotimiaoshu%22%2C%22%24latest_utm_term%22%3A%22biaoti%22%7D%7D; Hm_lvt_9152f8221cb6243a53c83b956842be8a=1610113611; Hm_lpvt_9152f8221cb6243a53c83b956842be8a=1610113611; srcid=eyJ0Ijoie1wiZGF0YVwiOlwiMzQ3YjBkNjQzM2FlZDAyMTM2Yzg4Y2IwMTNhMjJkNGViODlhMGZhMGViYjc3NDdkZDdmYjFjOWNkN2E1MTk2ODg2ODYxOWM1MjA5MjhmNjU2MTgzMmFjZTRkZjNiYWU2M2E0YzBlZTVmOGQyNmQ3YzkxNzAwYTI3Y2E2MjZjNDU3YTUwMzZmMjAxNTBiYTU4M2QyMjA0ZWYxZjQ3NjY4NDEwZmY4ZmYyMDkxODJmMTljNmNmMGQzMjQ1NzYwZjZmYTkzOThiODI4NTdmZmQ1NmM4MzU5MTFmODUyN2JjY2Q3OGU5M2Q4YWFlNDk0OTk1YTdkYTk3ZDI3MmNjYTQzOTcyMTQ3ZDc1OGFmMGY5NmNlYjczZGFjMTBjZDdkY2Q2OGZjNjE0NjI4YmYxYmY2NWM1YWE2YTQyMmJjNWU4MmI3YWM3M2M3ZWYwMjc0MTVlZjAxNjNmZDQ1NTFkYWIyNFwiLFwia2V5X2lkXCI6XCIxXCIsXCJzaWduXCI6XCIyMDY3Zjk2ZlwifSIsInIiOiJodHRwczovL20ubGlhbmppYS5jb20vY2h1enUvYmovenVmYW5nL3J0MjAwNjAwMDAwMDAxbDEvIiwib3MiOiJ3ZWIiLCJ2IjoiMC4xIn0=',\n",
    "        'Host': 'bj.lianjia.com',\n",
    "        'Referer': 'https://bj.lianjia.com/zufang/pg1rt200600000001l1/',\n",
    "        'User-Agent': 'Mozilla/5.0 (Windows NT 10.0; Win64; x64) AppleWebKit/537.36 (KHTML, like Gecko) Chrome/78.0.3904.97 Safari/537.36'\n",
    "        }\n",
    "        \n",
    "        html = requests.get(url, headers=headers).text\n",
    "        bs = BeautifulSoup(html,'lxml')\n",
    "        bs_house_code_list = bs.select('div[data-house_code]')\n",
    "        ## 通过属性值获取房源编号,不使用正则，正则效率低\n",
    "        ##house_code_re =re.compile(r' data-house_code=\"BJ\\d*\"')\n",
    "        house_code_data=house_code_data+[i.attrs['data-house_code'] for i in bs_house_code_list]\n",
    "    #print('程序结束时间{}'.format(time.time()))\n",
    "    print(len(house_code_data))\n",
    "    return house_code_data\n",
    "\n",
    "\n",
    "\n",
    "## 第二步：获取每个房源的价格,朝向,面积，经纬度等信息，\n",
    "def get_lianjia_house_detail(house_code_number):\n",
    "    house_code_data=[]\n",
    "    #print('程序开始时间{}'.format(time.time()))\n",
    "\n",
    "    \n",
    "    data_cc1={\n",
    "        'house_code':[],\n",
    "        'city_id':[],\n",
    "        'house_condition_name':[],\n",
    "        'beadroom_num':[],\n",
    "        'rent_price':[],\n",
    "        'name':[],\n",
    "        'longitude':[],\n",
    "        'latitude':[],\n",
    "        'frame_hall_num':[],\n",
    "        'subway':[]\n",
    "\n",
    "    }\n",
    "    \n",
    "    data_cc2={\n",
    "                'house_code':[],\n",
    "                'area':[],\n",
    "                'orientations':[],\n",
    "                'storey':[],\n",
    "                'elevator':[],\n",
    "                'parking':[],\n",
    "                'civil_water':[],\n",
    "                'civil_power':[],\n",
    "                'gas':[],\n",
    "                'heating':[],\n",
    "                'lease_term':[],\n",
    "\n",
    "            }\n",
    "    \n",
    "    re_str=re.compile(r'g_conf.subway = (.*)') ## 20210201新增匹配地铁为止\n",
    "    \n",
    "    for i in range(len(house_code_number)):\n",
    "        time.sleep(10)\n",
    "        url='https://bj.lianjia.com/zufang/'+str(house_code_number[i])+'.html'+'?'+'nav=0&unique_id=99f1e6f8-cc8d-435a-87f7-b0d360d6d5b2zufangl1'+str(int(time.time()*1000))\n",
    "        headers = {\n",
    "        'Accept': 'application/json',\n",
    "        'Accept-Encoding': 'gzip, deflate, br',\n",
    "        'Accept-Language': 'zh-CN,zh;q=0.9,en;q=0.8',\n",
    "        'Connection': 'keep-alive',\n",
    "        'Cookie':  'lianjia_uuid=99f1e6f8-cc8d-435a-87f7-b0d360d6d5b2; _smt_uid=5cea4b11.2a13524e; _ga=GA1.2.1298220716.1558858518; _jzqa=1.4022354363956294700.1558858514.1559205609.1590936861.3; select_city=110000; _gid=GA1.2.1581606667.1610113282; csrfSecret=kWfghzqtT6sm4JCVrOoNXvhR; activity_ke_com=undefined; lianjia_ssid=be23dce7-ea64-4607-93d0-18e4ca13144c; sensorsdata2015jssdkcross=%7B%22distinct_id%22%3A%2216af3353f76675-0f15018c966e22-37677003-1296000-16af3353f7792b%22%2C%22%24device_id%22%3A%2216af3353f76675-0f15018c966e22-37677003-1296000-16af3353f7792b%22%2C%22props%22%3A%7B%22%24latest_traffic_source_type%22%3A%22%E4%BB%98%E8%B4%B9%E5%B9%BF%E5%91%8A%E6%B5%81%E9%87%8F%22%2C%22%24latest_referrer%22%3A%22%22%2C%22%24latest_referrer_host%22%3A%22%22%2C%22%24latest_search_keyword%22%3A%22%E6%9C%AA%E5%8F%96%E5%88%B0%E5%80%BC_%E7%9B%B4%E6%8E%A5%E6%89%93%E5%BC%80%22%2C%22%24latest_utm_source%22%3A%22guanwang%22%2C%22%24latest_utm_medium%22%3A%22pinzhuan%22%2C%22%24latest_utm_campaign%22%3A%22wybeijing%22%2C%22%24latest_utm_content%22%3A%22biaotimiaoshu%22%2C%22%24latest_utm_term%22%3A%22biaoti%22%7D%7D; Hm_lvt_9152f8221cb6243a53c83b956842be8a=1610113611; Hm_lpvt_9152f8221cb6243a53c83b956842be8a=1610113611; srcid=eyJ0Ijoie1wiZGF0YVwiOlwiMzQ3YjBkNjQzM2FlZDAyMTM2Yzg4Y2IwMTNhMjJkNGViODlhMGZhMGViYjc3NDdkZDdmYjFjOWNkN2E1MTk2ODg2ODYxOWM1MjA5MjhmNjU2MTgzMmFjZTRkZjNiYWU2M2E0YzBlZTVmOGQyNmQ3YzkxNzAwYTI3Y2E2MjZjNDU3YTUwMzZmMjAxNTBiYTU4M2QyMjA0ZWYxZjQ3NjY4NDEwZmY4ZmYyMDkxODJmMTljNmNmMGQzMjQ1NzYwZjZmYTkzOThiODI4NTdmZmQ1NmM4MzU5MTFmODUyN2JjY2Q3OGU5M2Q4YWFlNDk0OTk1YTdkYTk3ZDI3MmNjYTQzOTcyMTQ3ZDc1OGFmMGY5NmNlYjczZGFjMTBjZDdkY2Q2OGZjNjE0NjI4YmYxYmY2NWM1YWE2YTQyMmJjNWU4MmI3YWM3M2M3ZWYwMjc0MTVlZjAxNjNmZDQ1NTFkYWIyNFwiLFwia2V5X2lkXCI6XCIxXCIsXCJzaWduXCI6XCIyMDY3Zjk2ZlwifSIsInIiOiJodHRwczovL20ubGlhbmppYS5jb20vY2h1enUvYmovenVmYW5nL3J0MjAwNjAwMDAwMDAxbDEvIiwib3MiOiJ3ZWIiLCJ2IjoiMC4xIn0=',\n",
    "        'Host': 'bj.lianjia.com',\n",
    "        'Referer': 'https://bj.lianjia.com/zufang/pg1rt200600000001l1/',\n",
    "        'User-Agent': 'Mozilla/5.0 (Windows NT 10.0; Win64; x64) AppleWebKit/537.36 (KHTML, like Gecko) Chrome/78.0.3904.97 Safari/537.36'\n",
    "        }\n",
    "        html = requests.get(url, headers=headers).text\n",
    "        bs = BeautifulSoup(html,'lxml')\n",
    "        bs_0=bs.select('script')\n",
    "        \n",
    "\n",
    "\n",
    "        ## 获取第一部分数据\n",
    "        map_columns_cc1={'g_conf.name':'name','g_conf.city_id':'city_id','g_conf.houseCode':'house_code','g_conf.houseConditionName':'house_condition_name'\n",
    "                         ,'g_conf.bedroom_num':'beadroom_num','g_conf.rent_price':'rent_price'\n",
    "                         ,'g_conf.frame_hall_num':'frame_hall_num'}\n",
    "\n",
    "\n",
    "\n",
    "        for k in bs_0[5]:\n",
    "            data_list=k.split('\\n')\n",
    "            \n",
    "            for j in data_list:\n",
    "                for cc1 in map_columns_cc1.items():\n",
    "                    if j.replace(' ','').startswith(cc1[0]):\n",
    "                        try:\n",
    "                            data_cc1[cc1[1]].append(re.sub(\"(')|(=)|(;)|()|()|\",'',j.replace(' ','').replace(cc1[0],'')))\n",
    "                            #data_cc1[cc1[1]].append(j.replace(' ','').replace(\"'\",'').replace('=','').replace(cc1[0],'').replace(';',''))\n",
    "                        except:\n",
    "                            data_cc1[cc1[1]].append(np.nan)\n",
    "                            \n",
    "                if j.replace(' ','').startswith('longitude'):\n",
    "                    try:\n",
    "                        data_cc1['longitude'].append(re.sub(\"(')|(=)|(longitude)|(;)|(:)|()|\",'',j.replace(' ','')))\n",
    "                    except:\n",
    "                        data_cc1['longitude'].append(np.nan)\n",
    "                elif j.replace(' ','').startswith('latitude'):\n",
    "                    try:\n",
    "                        data_cc1['latitude'].append(re.sub(\"(')|(=)|(latitude)|(;)|(:)|()|\",'',j.replace(' ','')))\n",
    "                    except:\n",
    "                        data_cc1['latitude'].append(np.nan)\n",
    "                elif j.replace(' ','').startswith('g_conf.subway'):\n",
    "                    try:\n",
    "                        data_cc1['subway'].append(re_str.search(j).group(1)) ## 使用正则\n",
    "                    except:\n",
    "                        data_cc1['subway'].append(np.nan)\n",
    "                        \n",
    "\n",
    "\n",
    "\n",
    "        ## 获取第二部分数据\n",
    "        map_columns_cc2={'面积':'area','朝向':'orientations','楼层':'storey'\n",
    "                     ,'电梯':'elevator','车位':'parking','用水':'civil_water','用电':'civil_power','燃气':'gas','采暖':'heating','租期':'lease_term'}\n",
    "\n",
    "\n",
    "        data_cc2['house_code'].append(house_code_number[i])\n",
    "\n",
    "        for cc2 in map_columns_cc2.items():\n",
    "            try:\n",
    "                data_cc2[cc2[1]].append(bs.find_all('li',class_='fl oneline',string=re.compile(cc2[0]))[0].getText().split('：')[1])\n",
    "            except:\n",
    "                data_cc2[cc2[1]].append(np.nan)\n",
    "        if i%20==0:\n",
    "            print(i) ##打印一些运行信息，目的为观察程序是运行的\n",
    "    return data_cc1,data_cc2\n",
    "\n",
    "            \n",
    "\n",
    "if __name__ == '__main__':\n",
    "    house_code_data_2 = get_lianjia_house_code()\n",
    "    \n",
    "    house_code_number=set(house_code_data_2)\n",
    "    house_code_number_trim=[]\n",
    "    for a in house_code_number:\n",
    "        if a.startswith('BJ'):\n",
    "            house_code_number_trim.append(a)\n",
    "    \n",
    "    data1,data2 = get_lianjia_house_detail(house_code_number_trim)\n",
    "    \n",
    "    ## 数据存储到本地，不需要索引值\n",
    "    pd.DataFrame(data1).to_csv('北京两室租房房源信息_1.csv',index=False)\n",
    "    pd.DataFrame(data2).to_csv('北京两室租房房源信息_2.csv',index=False)"
   ]
  },
  {
   "cell_type": "code",
   "execution_count": 2,
   "metadata": {},
   "outputs": [
    {
     "data": {
      "text/plain": [
       "165"
      ]
     },
     "execution_count": 2,
     "metadata": {},
     "output_type": "execute_result"
    }
   ],
   "source": [
    "len(house_code_number)"
   ]
  },
  {
   "cell_type": "code",
   "execution_count": 69,
   "metadata": {},
   "outputs": [
    {
     "data": {
      "text/plain": [
       "'[{\"distance\":887,\"lines\":[\"\\\\u516b\\\\u901a\\\\u7ebf\"],\"name\":\"\\\\u9ad8\\\\u7891\\\\u5e97\",\"point_lat\":39.916198,\"point_lng\":116.537052},{\"distance\":1039,\"lines\":[\"1\\\\u53f7\\\\u7ebf\",\"\\\\u516b\\\\u901a\\\\u7ebf\"],\"name\":\"\\\\u56db\\\\u60e0\\\\u4e1c\",\"point_lat\":39.914741,\"point_lng\":116.52183},{\"distance\":1103,\"lines\":[\"6\\\\u53f7\\\\u7ebf\"],\"name\":\"\\\\u9752\\\\u5e74\\\\u8def\",\"point_lat\":39.929697,\"point_lng\":116.525295}];'"
      ]
     },
     "execution_count": 69,
     "metadata": {},
     "output_type": "execute_result"
    }
   ],
   "source": [
    "data1['subway'][4]"
   ]
  },
  {
   "cell_type": "code",
   "execution_count": 8,
   "metadata": {},
   "outputs": [
    {
     "data": {
      "text/plain": [
       "'四惠'"
      ]
     },
     "execution_count": 8,
     "metadata": {},
     "output_type": "execute_result"
    }
   ],
   "source": [
    "'\\\\u56db\\\\u60e0'.encode('utf-8').decode('unicode_escape')"
   ]
  },
  {
   "cell_type": "code",
   "execution_count": 72,
   "metadata": {},
   "outputs": [
    {
     "data": {
      "text/plain": [
       "'BJ2710005715749044224'"
      ]
     },
     "execution_count": 72,
     "metadata": {},
     "output_type": "execute_result"
    }
   ],
   "source": [
    "data1['house_code'][4]"
   ]
  },
  {
   "cell_type": "code",
   "execution_count": 70,
   "metadata": {},
   "outputs": [],
   "source": [
    "import json\n",
    "str_cc=data1['subway'][4]\n",
    "re_str=re.compile(r'\\{(.*)\\}')"
   ]
  },
  {
   "cell_type": "code",
   "execution_count": 73,
   "metadata": {},
   "outputs": [
    {
     "name": "stdout",
     "output_type": "stream",
     "text": [
      "{'distance': 887, 'lines': ['八通线'], 'name': '高碑店', 'point_lat': 39.916198, 'point_lng': 116.537052}\n",
      "{'distance': 1039, 'lines': ['1号线', '八通线'], 'name': '四惠东', 'point_lat': 39.914741, 'point_lng': 116.52183}\n",
      "{'distance': 1103, 'lines': ['6号线'], 'name': '青年路', 'point_lat': 39.929697, 'point_lng': 116.525295}\n"
     ]
    }
   ],
   "source": [
    "str_tt=re_str.search(str_cc).group(0)\n",
    "print(json.loads(str_tt.replace('},{','};{').split(';')[0]))\n",
    "print(json.loads(str_tt.replace('},{','};{').split(';')[1]))\n",
    "print(json.loads(str_tt.replace('},{','};{').split(';')[2]))"
   ]
  },
  {
   "cell_type": "code",
   "execution_count": 40,
   "metadata": {},
   "outputs": [
    {
     "data": {
      "text/plain": [
       "tuple"
      ]
     },
     "execution_count": 40,
     "metadata": {},
     "output_type": "execute_result"
    }
   ],
   "source": [
    "str_tt2={\"distance\":462,\"lines\":[\"1\\u53f7\\u7ebf\",\"\\u516b\\u901a\\u7ebf\"],\"name\":\"\\u56db\\u60e0\",\"point_lat\":39.913735,\"point_lng\":116.502239},{\"distance\":1019,\"lines\":[\"1\\u53f7\\u7ebf\",\"\\u516b\\u901a\\u7ebf\"],\"name\":\"\\u56db\\u60e0\\u4e1c\",\"point_lat\":39.915068,\"point_lng\":116.52184}\n",
    "\n",
    "type(str_tt2)\n"
   ]
  },
  {
   "cell_type": "code",
   "execution_count": 47,
   "metadata": {},
   "outputs": [
    {
     "data": {
      "text/plain": [
       "['aaaa', '', 'ddd']"
      ]
     },
     "execution_count": 47,
     "metadata": {},
     "output_type": "execute_result"
    }
   ],
   "source": [
    "cc='aaaabbbbddd'\n",
    "cc.split('bb')"
   ]
  },
  {
   "cell_type": "code",
   "execution_count": 54,
   "metadata": {},
   "outputs": [
    {
     "name": "stdout",
     "output_type": "stream",
     "text": [
      "<class 'str'>\n",
      "<class 'list'>\n",
      "[{'name': 'Tom', 'gender': 'male'}, {'name': 'Jack', 'gender': 'male'}]\n"
     ]
    }
   ],
   "source": [
    "\n",
    "import json\n",
    " \n",
    "str = '''\n",
    "[{\n",
    "    \"name\": \"Tom\",\n",
    "    \"gender\": \"male\"\n",
    "}, {\n",
    "    \"name\": \"Jack\",\n",
    "    \"gender\": \"male\"   \n",
    "}]\n",
    "'''\n",
    "#将字符串转为json格式\n",
    "print(type(str))\n",
    "data = json.loads(str)\n",
    "print(type(data))\n",
    "print(data)"
   ]
  },
  {
   "cell_type": "code",
   "execution_count": 55,
   "metadata": {},
   "outputs": [
    {
     "name": "stdout",
     "output_type": "stream",
     "text": [
      "<class 'dict'>\n"
     ]
    }
   ],
   "source": [
    "print(type(data[0]))"
   ]
  },
  {
   "cell_type": "code",
   "execution_count": 59,
   "metadata": {},
   "outputs": [
    {
     "ename": "TypeError",
     "evalue": "'str' object is not callable",
     "output_type": "error",
     "traceback": [
      "\u001b[0;31m---------------------------------------------------------------------------\u001b[0m",
      "\u001b[0;31mTypeError\u001b[0m                                 Traceback (most recent call last)",
      "\u001b[0;32m<ipython-input-59-ce06b888d9eb>\u001b[0m in \u001b[0;36m<module>\u001b[0;34m\u001b[0m\n\u001b[1;32m      1\u001b[0m \u001b[0mdd\u001b[0m\u001b[0;34m=\u001b[0m\u001b[0;34m[\u001b[0m\u001b[0;36m1\u001b[0m\u001b[0;34m,\u001b[0m\u001b[0;36m2\u001b[0m\u001b[0;34m,\u001b[0m\u001b[0;36m3\u001b[0m\u001b[0;34m]\u001b[0m\u001b[0;34m\u001b[0m\u001b[0;34m\u001b[0m\u001b[0m\n\u001b[0;32m----> 2\u001b[0;31m \u001b[0mstr\u001b[0m\u001b[0;34m(\u001b[0m\u001b[0mdd\u001b[0m\u001b[0;34m)\u001b[0m\u001b[0;34m\u001b[0m\u001b[0;34m\u001b[0m\u001b[0m\n\u001b[0m",
      "\u001b[0;31mTypeError\u001b[0m: 'str' object is not callable"
     ]
    }
   ],
   "source": [
    "dd=[1,2,3]\n",
    "str(dd)"
   ]
  },
  {
   "cell_type": "code",
   "execution_count": 77,
   "metadata": {},
   "outputs": [
    {
     "name": "stdout",
     "output_type": "stream",
     "text": [
      "21.556996032781562\n"
     ]
    }
   ],
   "source": [
    "from scipy import integrate\n",
    "import numpy as np\n",
    "def f(x):\n",
    "    return 0.6621*(np.power(x,-0.542)) \n",
    "v, _ = integrate.quad(f, 0,365) ## 计算用户一年的LT\n",
    "print(v)"
   ]
  },
  {
   "cell_type": "code",
   "execution_count": 75,
   "metadata": {},
   "outputs": [
    {
     "name": "stdout",
     "output_type": "stream",
     "text": [
      "730\n"
     ]
    }
   ],
   "source": [
    "print(365*2)"
   ]
  },
  {
   "cell_type": "code",
   "execution_count": null,
   "metadata": {},
   "outputs": [],
   "source": []
  }
 ],
 "metadata": {
  "kernelspec": {
   "display_name": "Python 3",
   "language": "python",
   "name": "python3"
  },
  "language_info": {
   "codemirror_mode": {
    "name": "ipython",
    "version": 3
   },
   "file_extension": ".py",
   "mimetype": "text/x-python",
   "name": "python",
   "nbconvert_exporter": "python",
   "pygments_lexer": "ipython3",
   "version": "3.8.3"
  }
 },
 "nbformat": 4,
 "nbformat_minor": 4
}
