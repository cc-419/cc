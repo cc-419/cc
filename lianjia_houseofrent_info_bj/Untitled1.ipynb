{
 "cells": [
  {
   "cell_type": "code",
   "execution_count": 1,
   "metadata": {},
   "outputs": [],
   "source": [
    "import warnings\n",
    "warnings.simplefilter('ignore')\n",
    "\n",
    "import sklearn\n",
    "import numpy as np\n",
    "import pandas as pd\n",
    "import seaborn as sns\n",
    "import collections\n",
    "import matplotlib.pyplot as plt\n",
    "from sklearn.metrics import auc, roc_curve, classification_report\n",
    "from IPython.display import Image  \n",
    "from sklearn import tree\n",
    "import random\n",
    "from sklearn.model_selection import train_test_split\n",
    "from sklearn.model_selection import GridSearchCV\n",
    "from sklearn.ensemble import RandomForestClassifier\n",
    "from sklearn.metrics import precision_score, accuracy_score, recall_score, f1_score, roc_auc_score\n",
    "from sklearn.preprocessing import StandardScaler\n",
    "from sklearn.linear_model import LogisticRegression\n",
    "import numpy as np\n",
    "from scipy.stats import norm\n",
    "from sklearn.linear_model import LogisticRegression\n",
    "from sklearn.metrics import roc_curve, auc\n",
    "from sklearn.metrics import confusion_matrix\n",
    "from pandas import DataFrame"
   ]
  },
  {
   "cell_type": "code",
   "execution_count": 101,
   "metadata": {},
   "outputs": [
    {
     "name": "stdout",
     "output_type": "stream",
     "text": [
      "<class 'pandas.core.frame.DataFrame'>\n",
      "RangeIndex: 220882 entries, 0 to 220881\n",
      "Data columns (total 51 columns):\n",
      " #   Column                                                Non-Null Count   Dtype  \n",
      "---  ------                                                --------------   -----  \n",
      " 0   id_listing                                            220882 non-null  int64  \n",
      " 1   id_host                                               220882 non-null  int64  \n",
      " 2   ds                                                    220882 non-null  object \n",
      " 3   ds_effective                                          220882 non-null  object \n",
      " 4   bookings_counter                                      220882 non-null  int64  \n",
      " 5   cancelled_bookings_china_host                         17007 non-null   float64\n",
      " 6   cancelled_by_host_bookings                            2217 non-null    float64\n",
      " 7   cancelled_by_guest_bookings                           14421 non-null   float64\n",
      " 8   m_tickets                                             6035 non-null    float64\n",
      " 9   dim_is_instant_bookable                               191269 non-null  float64\n",
      " 10  cancelled_samday_bookings_china_host_past_90day       33378 non-null   float64\n",
      " 11  cancelled_samday_bookings_china_host_past_30day       58634 non-null   float64\n",
      " 12  cancelled_samday_bookings_china_host_past_7day        149694 non-null  float64\n",
      " 13  sameday_cancellation_rate_by_booking_date_past_90day  33378 non-null   float64\n",
      " 14  sameday_cancellation_rate_by_booking_date_past_30day  58634 non-null   float64\n",
      " 15  sameday_cancellation_rate_by_booking_date_past_7day   92784 non-null   float64\n",
      " 16  dim_listing_cancellation_policy                       211998 non-null  object \n",
      " 17  dim_listing_has_check_in_method                       181689 non-null  object \n",
      " 18  m_response_rate_24h_past_90day                        166468 non-null  float64\n",
      " 19  m_response_rate_24h_past_30day                        164135 non-null  float64\n",
      " 20  m_response_rate_24h_past_7day                         154436 non-null  float64\n",
      " 21  m_response_rate_1h_past_90day                         165528 non-null  float64\n",
      " 22  m_response_rate_1h_past_30day                         161985 non-null  float64\n",
      " 23  m_response_rate_1h_past_7day                          148804 non-null  float64\n",
      " 24  m_response_rate_30min_past_90day                      165317 non-null  float64\n",
      " 25  m_response_rate_30min_past_30day                      161545 non-null  float64\n",
      " 26  m_response_rate_30min_past_7day                       147553 non-null  float64\n",
      " 27  m_avg_sec_to_first_response_90day                     166468 non-null  float64\n",
      " 28  m_avg_sec_to_first_response_30day                     164135 non-null  float64\n",
      " 29  m_avg_sec_to_first_response_7day                      154436 non-null  float64\n",
      " 30  m_mid_sec_to_first_response_90day                     166468 non-null  float64\n",
      " 31  m_mid_sec_to_first_response_30day                     164135 non-null  float64\n",
      " 32  m_mid_sec_to_first_response_7day                      154436 non-null  float64\n",
      " 33  m_same_day_response_rate_24h_past_90day               144036 non-null  float64\n",
      " 34  m_same_day_response_rate_24h_past_30day               137018 non-null  float64\n",
      " 35  m_same_day_response_rate_24h_past_7day                113332 non-null  float64\n",
      " 36  m_same_day_response_rate_1h_past_90day                142461 non-null  float64\n",
      " 37  m_same_day_response_rate_1h_past_30day                133488 non-null  float64\n",
      " 38  m_same_day_response_rate_1h_past_7day                 106468 non-null  float64\n",
      " 39  m_same_day_response_rate_30min_past_90day             142079 non-null  float64\n",
      " 40  m_same_day_response_rate_30min_past_30day             132670 non-null  float64\n",
      " 41  m_same_day_response_rate_30min_past_7day              104987 non-null  float64\n",
      " 42  m_same_day_avg_sec_to_first_response_90day            144036 non-null  float64\n",
      " 43  m_same_day_avg_sec_to_first_response_30day            137018 non-null  float64\n",
      " 44  m_same_day_avg_sec_to_first_response_7day             113332 non-null  float64\n",
      " 45  m_same_day_mid_sec_to_first_response_90day            144036 non-null  float64\n",
      " 46  m_same_day_mid_sec_to_first_response_30day            137018 non-null  float64\n",
      " 47  m_same_day_mid_sec_to_first_response_7day             113332 non-null  float64\n",
      " 48  dim_host_stage                                        219279 non-null  object \n",
      " 49  m_days_since_last_login                               218575 non-null  float64\n",
      " 50  m_login_days_past_90day                               218575 non-null  float64\n",
      "dtypes: float64(43), int64(3), object(5)\n",
      "memory usage: 85.9+ MB\n"
     ]
    }
   ],
   "source": [
    "data=pd.read_csv('/Users/beanscc/Desktop/feature_selection.csv')\n",
    "data.info()"
   ]
  },
  {
   "cell_type": "code",
   "execution_count": 69,
   "metadata": {},
   "outputs": [
    {
     "name": "stdout",
     "output_type": "stream",
     "text": [
      "<class 'pandas.core.frame.DataFrame'>\n",
      "RangeIndex: 124035 entries, 0 to 124034\n",
      "Data columns (total 51 columns):\n",
      " #   Column                                                Non-Null Count   Dtype  \n",
      "---  ------                                                --------------   -----  \n",
      " 0   id_listing                                            124035 non-null  int64  \n",
      " 1   id_host                                               124035 non-null  int64  \n",
      " 2   ds                                                    124035 non-null  object \n",
      " 3   ds_effective                                          124035 non-null  object \n",
      " 4   bookings_counter                                      124035 non-null  int64  \n",
      " 5   cancelled_bookings_china_host                         124035 non-null  float64\n",
      " 6   cancelled_by_host_bookings                            124035 non-null  float64\n",
      " 7   cancelled_by_guest_bookings                           124035 non-null  float64\n",
      " 8   m_tickets                                             124035 non-null  float64\n",
      " 9   dim_is_instant_bookable                               124035 non-null  float64\n",
      " 10  cancelled_samday_bookings_china_host_past_90day       124035 non-null  float64\n",
      " 11  cancelled_samday_bookings_china_host_past_30day       124035 non-null  float64\n",
      " 12  cancelled_samday_bookings_china_host_past_7day        124035 non-null  float64\n",
      " 13  sameday_cancellation_rate_by_booking_date_past_90day  124035 non-null  float64\n",
      " 14  sameday_cancellation_rate_by_booking_date_past_30day  124035 non-null  float64\n",
      " 15  sameday_cancellation_rate_by_booking_date_past_7day   124035 non-null  float64\n",
      " 16  dim_listing_cancellation_policy                       124035 non-null  object \n",
      " 17  dim_listing_has_check_in_method                       124035 non-null  object \n",
      " 18  m_response_rate_24h_past_90day                        124035 non-null  float64\n",
      " 19  m_response_rate_24h_past_30day                        124035 non-null  float64\n",
      " 20  m_response_rate_24h_past_7day                         124035 non-null  float64\n",
      " 21  m_response_rate_1h_past_90day                         124035 non-null  float64\n",
      " 22  m_response_rate_1h_past_30day                         124035 non-null  float64\n",
      " 23  m_response_rate_1h_past_7day                          124035 non-null  float64\n",
      " 24  m_response_rate_30min_past_90day                      124035 non-null  float64\n",
      " 25  m_response_rate_30min_past_30day                      124035 non-null  float64\n",
      " 26  m_response_rate_30min_past_7day                       124035 non-null  float64\n",
      " 27  m_avg_sec_to_first_response_90day                     124035 non-null  float64\n",
      " 28  m_avg_sec_to_first_response_30day                     124035 non-null  float64\n",
      " 29  m_avg_sec_to_first_response_7day                      124035 non-null  float64\n",
      " 30  m_mid_sec_to_first_response_90day                     124035 non-null  float64\n",
      " 31  m_mid_sec_to_first_response_30day                     124035 non-null  float64\n",
      " 32  m_mid_sec_to_first_response_7day                      124035 non-null  float64\n",
      " 33  m_same_day_response_rate_24h_past_90day               124035 non-null  float64\n",
      " 34  m_same_day_response_rate_24h_past_30day               124035 non-null  float64\n",
      " 35  m_same_day_response_rate_24h_past_7day                124035 non-null  float64\n",
      " 36  m_same_day_response_rate_1h_past_90day                124035 non-null  float64\n",
      " 37  m_same_day_response_rate_1h_past_30day                124035 non-null  float64\n",
      " 38  m_same_day_response_rate_1h_past_7day                 124035 non-null  float64\n",
      " 39  m_same_day_response_rate_30min_past_90day             124035 non-null  float64\n",
      " 40  m_same_day_response_rate_30min_past_30day             124035 non-null  float64\n",
      " 41  m_same_day_response_rate_30min_past_7day              124035 non-null  float64\n",
      " 42  m_same_day_avg_sec_to_first_response_90day            124035 non-null  float64\n",
      " 43  m_same_day_avg_sec_to_first_response_30day            124035 non-null  float64\n",
      " 44  m_same_day_avg_sec_to_first_response_7day             124035 non-null  float64\n",
      " 45  m_same_day_mid_sec_to_first_response_90day            124035 non-null  float64\n",
      " 46  m_same_day_mid_sec_to_first_response_30day            124035 non-null  float64\n",
      " 47  m_same_day_mid_sec_to_first_response_7day             124035 non-null  float64\n",
      " 48  dim_host_stage                                        124035 non-null  object \n",
      " 49  ticket_per_booking                                    124035 non-null  float64\n",
      " 50  dim_has_ticket                                        124035 non-null  int64  \n",
      "dtypes: float64(42), int64(4), object(5)\n",
      "memory usage: 48.3+ MB\n"
     ]
    }
   ],
   "source": [
    "data=pd.read_csv('/Users/beanscc/Desktop/feature_selection.csv')\n",
    "data['cancelled_bookings_china_host'].fillna(0, inplace = True)\n",
    "data['cancelled_by_host_bookings'].fillna(0, inplace=True)\n",
    "data['cancelled_by_guest_bookings'].fillna(0,inplace=True)\n",
    "data['m_tickets'].fillna(0,inplace=True)\n",
    "data['dim_is_instant_bookable'].fillna(1,inplace=True)\n",
    "data['cancelled_samday_bookings_china_host_past_90day'].fillna(0,inplace=True)\n",
    "data['cancelled_samday_bookings_china_host_past_30day'].fillna(0,inplace=True)\n",
    "data['cancelled_samday_bookings_china_host_past_7day'].fillna(0,inplace=True)\n",
    "data['sameday_cancellation_rate_by_booking_date_past_90day'].fillna(0,inplace=True)\n",
    "data['sameday_cancellation_rate_by_booking_date_past_30day'].fillna(0,inplace=True)\n",
    "data['sameday_cancellation_rate_by_booking_date_past_7day'].fillna(0,inplace=True)\n",
    "data['dim_listing_cancellation_policy'].fillna('No Policy',inplace=True)\n",
    "data['dim_listing_has_check_in_method'].fillna(0,inplace=True)\n",
    "\n",
    "\n",
    "data.loc[data['dim_listing_has_check_in_method']==True,'dim_listing_has_check_in_method']=1\n",
    "\n",
    "\n",
    "data['dim_listing_has_check_in_method'].fillna(0,inplace=True)\n",
    "data['m_response_rate_24h_past_90day'].fillna(0,inplace=True)\n",
    "data['m_response_rate_24h_past_30day'].fillna(0,inplace=True)\n",
    "data['m_response_rate_24h_past_7day'].fillna(0,inplace=True)\n",
    "data['m_response_rate_1h_past_90day'].fillna(0,inplace=True)\n",
    "data['m_response_rate_1h_past_30day'].fillna(0,inplace=True)\n",
    "data['m_response_rate_1h_past_7day'].fillna(0,inplace=True)\n",
    "data['m_response_rate_30min_past_90day'].fillna(0,inplace=True)\n",
    "data['m_response_rate_30min_past_30day'].fillna(0,inplace=True)\n",
    "data['m_response_rate_30min_past_7day'].fillna(0,inplace=True)\n",
    "data['m_avg_sec_to_first_response_90day'].fillna(0,inplace=True)\n",
    "data['m_avg_sec_to_first_response_30day'].fillna(0,inplace=True)\n",
    "data['m_avg_sec_to_first_response_7day'].fillna(0,inplace=True)\n",
    "data['m_mid_sec_to_first_response_90day'].fillna(0,inplace=True)\n",
    "data['m_mid_sec_to_first_response_30day'].fillna(0,inplace=True)\n",
    "data['m_mid_sec_to_first_response_7day'].fillna(0,inplace=True)\n",
    "data['m_same_day_response_rate_24h_past_90day'].fillna(0,inplace=True)\n",
    "data['m_same_day_response_rate_24h_past_30day'].fillna(0,inplace=True)\n",
    "data['m_same_day_response_rate_24h_past_7day'].fillna(0,inplace=True)\n",
    "data['m_same_day_response_rate_1h_past_90day'].fillna(0,inplace=True)\n",
    "data['m_same_day_response_rate_1h_past_30day'].fillna(0,inplace=True)\n",
    "data['m_same_day_response_rate_1h_past_7day'].fillna(0,inplace=True)\n",
    "data['m_same_day_response_rate_30min_past_90day'].fillna(0,inplace=True)\n",
    "data['m_same_day_response_rate_30min_past_30day'].fillna(0,inplace=True)\n",
    "data['m_same_day_response_rate_30min_past_7day'].fillna(0,inplace=True)\n",
    "data['m_same_day_avg_sec_to_first_response_90day'].fillna(0,inplace=True)\n",
    "data['m_same_day_avg_sec_to_first_response_30day'].fillna(0,inplace=True)\n",
    "data['m_same_day_avg_sec_to_first_response_7day'].fillna(0,inplace=True)\n",
    "data['m_same_day_mid_sec_to_first_response_90day'].fillna(0,inplace=True)\n",
    "data['m_same_day_mid_sec_to_first_response_30day'].fillna(0,inplace=True)\n",
    "data['m_same_day_mid_sec_to_first_response_7day'].fillna(0,inplace=True)\n",
    "data['ticket_per_booking'] =data['m_tickets']*1.0/data['bookings_counter']\n",
    "data['dim_has_ticket'] = data['m_tickets'].apply(lambda x: 1 if x >0 else 0)\n",
    "\n",
    "data_all=data\n",
    "data_all.info()"
   ]
  },
  {
   "cell_type": "code",
   "execution_count": 96,
   "metadata": {},
   "outputs": [
    {
     "data": {
      "text/html": [
       "<div>\n",
       "<style scoped>\n",
       "    .dataframe tbody tr th:only-of-type {\n",
       "        vertical-align: middle;\n",
       "    }\n",
       "\n",
       "    .dataframe tbody tr th {\n",
       "        vertical-align: top;\n",
       "    }\n",
       "\n",
       "    .dataframe thead th {\n",
       "        text-align: right;\n",
       "    }\n",
       "</style>\n",
       "<table border=\"1\" class=\"dataframe\">\n",
       "  <thead>\n",
       "    <tr style=\"text-align: right;\">\n",
       "      <th></th>\n",
       "      <th>m_response_rate_24h_past_90day</th>\n",
       "      <th>m_same_day_response_rate_24h_past_90day</th>\n",
       "    </tr>\n",
       "  </thead>\n",
       "  <tbody>\n",
       "    <tr>\n",
       "      <th>0</th>\n",
       "      <td>0.972222</td>\n",
       "      <td>0.972222</td>\n",
       "    </tr>\n",
       "    <tr>\n",
       "      <th>1</th>\n",
       "      <td>0.972222</td>\n",
       "      <td>0.972222</td>\n",
       "    </tr>\n",
       "    <tr>\n",
       "      <th>2</th>\n",
       "      <td>0.972222</td>\n",
       "      <td>0.972222</td>\n",
       "    </tr>\n",
       "    <tr>\n",
       "      <th>3</th>\n",
       "      <td>NaN</td>\n",
       "      <td>NaN</td>\n",
       "    </tr>\n",
       "    <tr>\n",
       "      <th>4</th>\n",
       "      <td>0.916667</td>\n",
       "      <td>0.916667</td>\n",
       "    </tr>\n",
       "    <tr>\n",
       "      <th>5</th>\n",
       "      <td>0.916667</td>\n",
       "      <td>0.916667</td>\n",
       "    </tr>\n",
       "    <tr>\n",
       "      <th>6</th>\n",
       "      <td>1.000000</td>\n",
       "      <td>1.000000</td>\n",
       "    </tr>\n",
       "    <tr>\n",
       "      <th>7</th>\n",
       "      <td>1.000000</td>\n",
       "      <td>1.000000</td>\n",
       "    </tr>\n",
       "    <tr>\n",
       "      <th>8</th>\n",
       "      <td>0.939394</td>\n",
       "      <td>0.939394</td>\n",
       "    </tr>\n",
       "    <tr>\n",
       "      <th>9</th>\n",
       "      <td>0.952381</td>\n",
       "      <td>0.952381</td>\n",
       "    </tr>\n",
       "  </tbody>\n",
       "</table>\n",
       "</div>"
      ],
      "text/plain": [
       "   m_response_rate_24h_past_90day  m_same_day_response_rate_24h_past_90day\n",
       "0                        0.972222                                 0.972222\n",
       "1                        0.972222                                 0.972222\n",
       "2                        0.972222                                 0.972222\n",
       "3                             NaN                                      NaN\n",
       "4                        0.916667                                 0.916667\n",
       "5                        0.916667                                 0.916667\n",
       "6                        1.000000                                 1.000000\n",
       "7                        1.000000                                 1.000000\n",
       "8                        0.939394                                 0.939394\n",
       "9                        0.952381                                 0.952381"
      ]
     },
     "execution_count": 96,
     "metadata": {},
     "output_type": "execute_result"
    }
   ],
   "source": [
    "data2=pd.read_csv('/Users/beanscc/Desktop/feature_selection.csv')\n",
    "data2[['m_response_rate_24h_past_90day','m_same_day_response_rate_24h_past_90day']].head(10)"
   ]
  },
  {
   "cell_type": "code",
   "execution_count": 59,
   "metadata": {},
   "outputs": [],
   "source": [
    "data2.corr().to_csv('/Users/beanscc/Desktop/data_corr.csv')\n",
    "#相关系数为1，drop掉一个值 \n",
    "['cancelled_samday_bookings_china_host_past_30day','sameday_cancellation_rate_by_booking_date_past_30day']"
   ]
  },
  {
   "cell_type": "code",
   "execution_count": 63,
   "metadata": {},
   "outputs": [],
   "source": [
    "x_feature =['cancelled_samday_bookings_china_host_past_90day','cancelled_samday_bookings_china_host_past_30day','cancelled_samday_bookings_china_host_past_7day','sameday_cancellation_rate_by_booking_date_past_90day','sameday_cancellation_rate_by_booking_date_past_30day','sameday_cancellation_rate_by_booking_date_past_7day','m_response_rate_24h_past_90day','m_response_rate_24h_past_30day','m_response_rate_24h_past_7day','m_response_rate_1h_past_90day','m_response_rate_1h_past_30day','m_response_rate_1h_past_7day','m_response_rate_30min_past_90day','m_response_rate_30min_past_30day','m_response_rate_30min_past_7day','m_avg_sec_to_first_response_90day','m_avg_sec_to_first_response_30day','m_avg_sec_to_first_response_7day','m_mid_sec_to_first_response_90day','m_mid_sec_to_first_response_30day','m_mid_sec_to_first_response_7day','m_same_day_response_rate_24h_past_90day','m_same_day_response_rate_24h_past_30day','m_same_day_response_rate_24h_past_7day','m_same_day_response_rate_1h_past_90day','m_same_day_response_rate_1h_past_30day','m_same_day_response_rate_1h_past_7day','m_same_day_response_rate_30min_past_90day','m_same_day_response_rate_30min_past_30day','m_same_day_response_rate_30min_past_7day','m_same_day_avg_sec_to_first_response_90day','m_same_day_avg_sec_to_first_response_30day','m_same_day_avg_sec_to_first_response_7day','m_same_day_mid_sec_to_first_response_90day','m_same_day_mid_sec_to_first_response_30day','m_same_day_mid_sec_to_first_response_7day','dim_listing_has_check_in_method']\n",
    "\n",
    "data_all[x_feature].corr().to_csv('/Users/beanscc/Desktop/data_X_corr.csv')\n",
    "### 相关系数为1的\n",
    "columns_dorp=['cancelled_samday_bookings_china_host_past_30day','sameday_cancellation_rate_by_booking_date_past_30day','m_response_rate_24h_past_90day','m_response_rate_24h_past_30day','m_response_rate_24h_past_7day','m_response_rate_1h_past_90day','m_response_rate_1h_past_30day','m_response_rate_1h_past_7day','m_response_rate_30min_past_90day','m_response_rate_30min_past_30day','m_response_rate_30min_past_7day','m_avg_sec_to_first_response_90day','m_avg_sec_to_first_response_30day','m_avg_sec_to_first_response_7day','m_mid_sec_to_first_response_90day','m_mid_sec_to_first_response_30day','m_mid_sec_to_first_response_7day']"
   ]
  },
  {
   "cell_type": "code",
   "execution_count": 94,
   "metadata": {},
   "outputs": [
    {
     "ename": "TypeError",
     "evalue": "ufunc 'isfinite' not supported for the input types, and the inputs could not be safely coerced to any supported types according to the casting rule ''safe''",
     "output_type": "error",
     "traceback": [
      "\u001b[0;31m---------------------------------------------------------------------------\u001b[0m",
      "\u001b[0;31mTypeError\u001b[0m                                 Traceback (most recent call last)",
      "\u001b[0;32m<ipython-input-94-bec036f58761>\u001b[0m in \u001b[0;36m<module>\u001b[0;34m\u001b[0m\n\u001b[1;32m     14\u001b[0m \u001b[0;31m#data_X2.drop(columns=columns_dorp2,inplace=True,errors='ignore')\u001b[0m\u001b[0;34m\u001b[0m\u001b[0;34m\u001b[0m\u001b[0;34m\u001b[0m\u001b[0m\n\u001b[1;32m     15\u001b[0m \u001b[0;32mfor\u001b[0m \u001b[0mi\u001b[0m \u001b[0;32min\u001b[0m \u001b[0mrange\u001b[0m\u001b[0;34m(\u001b[0m\u001b[0mlen\u001b[0m\u001b[0;34m(\u001b[0m\u001b[0mdata_X2\u001b[0m\u001b[0;34m.\u001b[0m\u001b[0mcolumns\u001b[0m\u001b[0;34m)\u001b[0m\u001b[0;34m)\u001b[0m\u001b[0;34m:\u001b[0m\u001b[0;34m\u001b[0m\u001b[0;34m\u001b[0m\u001b[0m\n\u001b[0;32m---> 16\u001b[0;31m     \u001b[0mprint\u001b[0m\u001b[0;34m(\u001b[0m\u001b[0;34m'{} 的方差膨胀因子VIF = {}'\u001b[0m\u001b[0;34m.\u001b[0m\u001b[0mformat\u001b[0m\u001b[0;34m(\u001b[0m\u001b[0mdata_X2\u001b[0m\u001b[0;34m.\u001b[0m\u001b[0mcolumns\u001b[0m\u001b[0;34m[\u001b[0m\u001b[0mi\u001b[0m\u001b[0;34m]\u001b[0m\u001b[0;34m,\u001b[0m\u001b[0mvariance_inflation_factor\u001b[0m\u001b[0;34m(\u001b[0m\u001b[0mdata_X2\u001b[0m\u001b[0;34m.\u001b[0m\u001b[0mvalues\u001b[0m\u001b[0;34m,\u001b[0m\u001b[0mi\u001b[0m\u001b[0;34m)\u001b[0m\u001b[0;34m)\u001b[0m\u001b[0;34m)\u001b[0m\u001b[0;34m\u001b[0m\u001b[0;34m\u001b[0m\u001b[0m\n\u001b[0m",
      "\u001b[0;32m/opt/anaconda3/lib/python3.8/site-packages/statsmodels/stats/outliers_influence.py\u001b[0m in \u001b[0;36mvariance_inflation_factor\u001b[0;34m(exog, exog_idx)\u001b[0m\n\u001b[1;32m    190\u001b[0m     \u001b[0mmask\u001b[0m \u001b[0;34m=\u001b[0m \u001b[0mnp\u001b[0m\u001b[0;34m.\u001b[0m\u001b[0marange\u001b[0m\u001b[0;34m(\u001b[0m\u001b[0mk_vars\u001b[0m\u001b[0;34m)\u001b[0m \u001b[0;34m!=\u001b[0m \u001b[0mexog_idx\u001b[0m\u001b[0;34m\u001b[0m\u001b[0;34m\u001b[0m\u001b[0m\n\u001b[1;32m    191\u001b[0m     \u001b[0mx_noti\u001b[0m \u001b[0;34m=\u001b[0m \u001b[0mexog\u001b[0m\u001b[0;34m[\u001b[0m\u001b[0;34m:\u001b[0m\u001b[0;34m,\u001b[0m \u001b[0mmask\u001b[0m\u001b[0;34m]\u001b[0m\u001b[0;34m\u001b[0m\u001b[0;34m\u001b[0m\u001b[0m\n\u001b[0;32m--> 192\u001b[0;31m     \u001b[0mr_squared_i\u001b[0m \u001b[0;34m=\u001b[0m \u001b[0mOLS\u001b[0m\u001b[0;34m(\u001b[0m\u001b[0mx_i\u001b[0m\u001b[0;34m,\u001b[0m \u001b[0mx_noti\u001b[0m\u001b[0;34m)\u001b[0m\u001b[0;34m.\u001b[0m\u001b[0mfit\u001b[0m\u001b[0;34m(\u001b[0m\u001b[0;34m)\u001b[0m\u001b[0;34m.\u001b[0m\u001b[0mrsquared\u001b[0m\u001b[0;34m\u001b[0m\u001b[0;34m\u001b[0m\u001b[0m\n\u001b[0m\u001b[1;32m    193\u001b[0m     \u001b[0mvif\u001b[0m \u001b[0;34m=\u001b[0m \u001b[0;36m1.\u001b[0m \u001b[0;34m/\u001b[0m \u001b[0;34m(\u001b[0m\u001b[0;36m1.\u001b[0m \u001b[0;34m-\u001b[0m \u001b[0mr_squared_i\u001b[0m\u001b[0;34m)\u001b[0m\u001b[0;34m\u001b[0m\u001b[0;34m\u001b[0m\u001b[0m\n\u001b[1;32m    194\u001b[0m     \u001b[0;32mreturn\u001b[0m \u001b[0mvif\u001b[0m\u001b[0;34m\u001b[0m\u001b[0;34m\u001b[0m\u001b[0m\n",
      "\u001b[0;32m/opt/anaconda3/lib/python3.8/site-packages/statsmodels/regression/linear_model.py\u001b[0m in \u001b[0;36m__init__\u001b[0;34m(self, endog, exog, missing, hasconst, **kwargs)\u001b[0m\n\u001b[1;32m    856\u001b[0m     def __init__(self, endog, exog=None, missing='none', hasconst=None,\n\u001b[1;32m    857\u001b[0m                  **kwargs):\n\u001b[0;32m--> 858\u001b[0;31m         super(OLS, self).__init__(endog, exog, missing=missing,\n\u001b[0m\u001b[1;32m    859\u001b[0m                                   hasconst=hasconst, **kwargs)\n\u001b[1;32m    860\u001b[0m         \u001b[0;32mif\u001b[0m \u001b[0;34m\"weights\"\u001b[0m \u001b[0;32min\u001b[0m \u001b[0mself\u001b[0m\u001b[0;34m.\u001b[0m\u001b[0m_init_keys\u001b[0m\u001b[0;34m:\u001b[0m\u001b[0;34m\u001b[0m\u001b[0;34m\u001b[0m\u001b[0m\n",
      "\u001b[0;32m/opt/anaconda3/lib/python3.8/site-packages/statsmodels/regression/linear_model.py\u001b[0m in \u001b[0;36m__init__\u001b[0;34m(self, endog, exog, weights, missing, hasconst, **kwargs)\u001b[0m\n\u001b[1;32m    699\u001b[0m         \u001b[0;32melse\u001b[0m\u001b[0;34m:\u001b[0m\u001b[0;34m\u001b[0m\u001b[0;34m\u001b[0m\u001b[0m\n\u001b[1;32m    700\u001b[0m             \u001b[0mweights\u001b[0m \u001b[0;34m=\u001b[0m \u001b[0mweights\u001b[0m\u001b[0;34m.\u001b[0m\u001b[0msqueeze\u001b[0m\u001b[0;34m(\u001b[0m\u001b[0;34m)\u001b[0m\u001b[0;34m\u001b[0m\u001b[0;34m\u001b[0m\u001b[0m\n\u001b[0;32m--> 701\u001b[0;31m         super(WLS, self).__init__(endog, exog, missing=missing,\n\u001b[0m\u001b[1;32m    702\u001b[0m                                   weights=weights, hasconst=hasconst, **kwargs)\n\u001b[1;32m    703\u001b[0m         \u001b[0mnobs\u001b[0m \u001b[0;34m=\u001b[0m \u001b[0mself\u001b[0m\u001b[0;34m.\u001b[0m\u001b[0mexog\u001b[0m\u001b[0;34m.\u001b[0m\u001b[0mshape\u001b[0m\u001b[0;34m[\u001b[0m\u001b[0;36m0\u001b[0m\u001b[0;34m]\u001b[0m\u001b[0;34m\u001b[0m\u001b[0;34m\u001b[0m\u001b[0m\n",
      "\u001b[0;32m/opt/anaconda3/lib/python3.8/site-packages/statsmodels/regression/linear_model.py\u001b[0m in \u001b[0;36m__init__\u001b[0;34m(self, endog, exog, **kwargs)\u001b[0m\n\u001b[1;32m    188\u001b[0m     \"\"\"\n\u001b[1;32m    189\u001b[0m     \u001b[0;32mdef\u001b[0m \u001b[0m__init__\u001b[0m\u001b[0;34m(\u001b[0m\u001b[0mself\u001b[0m\u001b[0;34m,\u001b[0m \u001b[0mendog\u001b[0m\u001b[0;34m,\u001b[0m \u001b[0mexog\u001b[0m\u001b[0;34m,\u001b[0m \u001b[0;34m**\u001b[0m\u001b[0mkwargs\u001b[0m\u001b[0;34m)\u001b[0m\u001b[0;34m:\u001b[0m\u001b[0;34m\u001b[0m\u001b[0;34m\u001b[0m\u001b[0m\n\u001b[0;32m--> 190\u001b[0;31m         \u001b[0msuper\u001b[0m\u001b[0;34m(\u001b[0m\u001b[0mRegressionModel\u001b[0m\u001b[0;34m,\u001b[0m \u001b[0mself\u001b[0m\u001b[0;34m)\u001b[0m\u001b[0;34m.\u001b[0m\u001b[0m__init__\u001b[0m\u001b[0;34m(\u001b[0m\u001b[0mendog\u001b[0m\u001b[0;34m,\u001b[0m \u001b[0mexog\u001b[0m\u001b[0;34m,\u001b[0m \u001b[0;34m**\u001b[0m\u001b[0mkwargs\u001b[0m\u001b[0;34m)\u001b[0m\u001b[0;34m\u001b[0m\u001b[0;34m\u001b[0m\u001b[0m\n\u001b[0m\u001b[1;32m    191\u001b[0m         \u001b[0mself\u001b[0m\u001b[0;34m.\u001b[0m\u001b[0m_data_attr\u001b[0m\u001b[0;34m.\u001b[0m\u001b[0mextend\u001b[0m\u001b[0;34m(\u001b[0m\u001b[0;34m[\u001b[0m\u001b[0;34m'pinv_wexog'\u001b[0m\u001b[0;34m,\u001b[0m \u001b[0;34m'wendog'\u001b[0m\u001b[0;34m,\u001b[0m \u001b[0;34m'wexog'\u001b[0m\u001b[0;34m,\u001b[0m \u001b[0;34m'weights'\u001b[0m\u001b[0;34m]\u001b[0m\u001b[0;34m)\u001b[0m\u001b[0;34m\u001b[0m\u001b[0;34m\u001b[0m\u001b[0m\n\u001b[1;32m    192\u001b[0m \u001b[0;34m\u001b[0m\u001b[0m\n",
      "\u001b[0;32m/opt/anaconda3/lib/python3.8/site-packages/statsmodels/base/model.py\u001b[0m in \u001b[0;36m__init__\u001b[0;34m(self, endog, exog, **kwargs)\u001b[0m\n\u001b[1;32m    234\u001b[0m \u001b[0;34m\u001b[0m\u001b[0m\n\u001b[1;32m    235\u001b[0m     \u001b[0;32mdef\u001b[0m \u001b[0m__init__\u001b[0m\u001b[0;34m(\u001b[0m\u001b[0mself\u001b[0m\u001b[0;34m,\u001b[0m \u001b[0mendog\u001b[0m\u001b[0;34m,\u001b[0m \u001b[0mexog\u001b[0m\u001b[0;34m=\u001b[0m\u001b[0;32mNone\u001b[0m\u001b[0;34m,\u001b[0m \u001b[0;34m**\u001b[0m\u001b[0mkwargs\u001b[0m\u001b[0;34m)\u001b[0m\u001b[0;34m:\u001b[0m\u001b[0;34m\u001b[0m\u001b[0;34m\u001b[0m\u001b[0m\n\u001b[0;32m--> 236\u001b[0;31m         \u001b[0msuper\u001b[0m\u001b[0;34m(\u001b[0m\u001b[0mLikelihoodModel\u001b[0m\u001b[0;34m,\u001b[0m \u001b[0mself\u001b[0m\u001b[0;34m)\u001b[0m\u001b[0;34m.\u001b[0m\u001b[0m__init__\u001b[0m\u001b[0;34m(\u001b[0m\u001b[0mendog\u001b[0m\u001b[0;34m,\u001b[0m \u001b[0mexog\u001b[0m\u001b[0;34m,\u001b[0m \u001b[0;34m**\u001b[0m\u001b[0mkwargs\u001b[0m\u001b[0;34m)\u001b[0m\u001b[0;34m\u001b[0m\u001b[0;34m\u001b[0m\u001b[0m\n\u001b[0m\u001b[1;32m    237\u001b[0m         \u001b[0mself\u001b[0m\u001b[0;34m.\u001b[0m\u001b[0minitialize\u001b[0m\u001b[0;34m(\u001b[0m\u001b[0;34m)\u001b[0m\u001b[0;34m\u001b[0m\u001b[0;34m\u001b[0m\u001b[0m\n\u001b[1;32m    238\u001b[0m \u001b[0;34m\u001b[0m\u001b[0m\n",
      "\u001b[0;32m/opt/anaconda3/lib/python3.8/site-packages/statsmodels/base/model.py\u001b[0m in \u001b[0;36m__init__\u001b[0;34m(self, endog, exog, **kwargs)\u001b[0m\n\u001b[1;32m     74\u001b[0m         \u001b[0mmissing\u001b[0m \u001b[0;34m=\u001b[0m \u001b[0mkwargs\u001b[0m\u001b[0;34m.\u001b[0m\u001b[0mpop\u001b[0m\u001b[0;34m(\u001b[0m\u001b[0;34m'missing'\u001b[0m\u001b[0;34m,\u001b[0m \u001b[0;34m'none'\u001b[0m\u001b[0;34m)\u001b[0m\u001b[0;34m\u001b[0m\u001b[0;34m\u001b[0m\u001b[0m\n\u001b[1;32m     75\u001b[0m         \u001b[0mhasconst\u001b[0m \u001b[0;34m=\u001b[0m \u001b[0mkwargs\u001b[0m\u001b[0;34m.\u001b[0m\u001b[0mpop\u001b[0m\u001b[0;34m(\u001b[0m\u001b[0;34m'hasconst'\u001b[0m\u001b[0;34m,\u001b[0m \u001b[0;32mNone\u001b[0m\u001b[0;34m)\u001b[0m\u001b[0;34m\u001b[0m\u001b[0;34m\u001b[0m\u001b[0m\n\u001b[0;32m---> 76\u001b[0;31m         self.data = self._handle_data(endog, exog, missing, hasconst,\n\u001b[0m\u001b[1;32m     77\u001b[0m                                       **kwargs)\n\u001b[1;32m     78\u001b[0m         \u001b[0mself\u001b[0m\u001b[0;34m.\u001b[0m\u001b[0mk_constant\u001b[0m \u001b[0;34m=\u001b[0m \u001b[0mself\u001b[0m\u001b[0;34m.\u001b[0m\u001b[0mdata\u001b[0m\u001b[0;34m.\u001b[0m\u001b[0mk_constant\u001b[0m\u001b[0;34m\u001b[0m\u001b[0;34m\u001b[0m\u001b[0m\n",
      "\u001b[0;32m/opt/anaconda3/lib/python3.8/site-packages/statsmodels/base/model.py\u001b[0m in \u001b[0;36m_handle_data\u001b[0;34m(self, endog, exog, missing, hasconst, **kwargs)\u001b[0m\n\u001b[1;32m     98\u001b[0m \u001b[0;34m\u001b[0m\u001b[0m\n\u001b[1;32m     99\u001b[0m     \u001b[0;32mdef\u001b[0m \u001b[0m_handle_data\u001b[0m\u001b[0;34m(\u001b[0m\u001b[0mself\u001b[0m\u001b[0;34m,\u001b[0m \u001b[0mendog\u001b[0m\u001b[0;34m,\u001b[0m \u001b[0mexog\u001b[0m\u001b[0;34m,\u001b[0m \u001b[0mmissing\u001b[0m\u001b[0;34m,\u001b[0m \u001b[0mhasconst\u001b[0m\u001b[0;34m,\u001b[0m \u001b[0;34m**\u001b[0m\u001b[0mkwargs\u001b[0m\u001b[0;34m)\u001b[0m\u001b[0;34m:\u001b[0m\u001b[0;34m\u001b[0m\u001b[0;34m\u001b[0m\u001b[0m\n\u001b[0;32m--> 100\u001b[0;31m         \u001b[0mdata\u001b[0m \u001b[0;34m=\u001b[0m \u001b[0mhandle_data\u001b[0m\u001b[0;34m(\u001b[0m\u001b[0mendog\u001b[0m\u001b[0;34m,\u001b[0m \u001b[0mexog\u001b[0m\u001b[0;34m,\u001b[0m \u001b[0mmissing\u001b[0m\u001b[0;34m,\u001b[0m \u001b[0mhasconst\u001b[0m\u001b[0;34m,\u001b[0m \u001b[0;34m**\u001b[0m\u001b[0mkwargs\u001b[0m\u001b[0;34m)\u001b[0m\u001b[0;34m\u001b[0m\u001b[0;34m\u001b[0m\u001b[0m\n\u001b[0m\u001b[1;32m    101\u001b[0m         \u001b[0;31m# kwargs arrays could have changed, easier to just attach here\u001b[0m\u001b[0;34m\u001b[0m\u001b[0;34m\u001b[0m\u001b[0;34m\u001b[0m\u001b[0m\n\u001b[1;32m    102\u001b[0m         \u001b[0;32mfor\u001b[0m \u001b[0mkey\u001b[0m \u001b[0;32min\u001b[0m \u001b[0mkwargs\u001b[0m\u001b[0;34m:\u001b[0m\u001b[0;34m\u001b[0m\u001b[0;34m\u001b[0m\u001b[0m\n",
      "\u001b[0;32m/opt/anaconda3/lib/python3.8/site-packages/statsmodels/base/data.py\u001b[0m in \u001b[0;36mhandle_data\u001b[0;34m(endog, exog, missing, hasconst, **kwargs)\u001b[0m\n\u001b[1;32m    669\u001b[0m \u001b[0;34m\u001b[0m\u001b[0m\n\u001b[1;32m    670\u001b[0m     \u001b[0mklass\u001b[0m \u001b[0;34m=\u001b[0m \u001b[0mhandle_data_class_factory\u001b[0m\u001b[0;34m(\u001b[0m\u001b[0mendog\u001b[0m\u001b[0;34m,\u001b[0m \u001b[0mexog\u001b[0m\u001b[0;34m)\u001b[0m\u001b[0;34m\u001b[0m\u001b[0;34m\u001b[0m\u001b[0m\n\u001b[0;32m--> 671\u001b[0;31m     return klass(endog, exog=exog, missing=missing, hasconst=hasconst,\n\u001b[0m\u001b[1;32m    672\u001b[0m                  **kwargs)\n",
      "\u001b[0;32m/opt/anaconda3/lib/python3.8/site-packages/statsmodels/base/data.py\u001b[0m in \u001b[0;36m__init__\u001b[0;34m(self, endog, exog, missing, hasconst, **kwargs)\u001b[0m\n\u001b[1;32m     85\u001b[0m         \u001b[0mself\u001b[0m\u001b[0;34m.\u001b[0m\u001b[0mconst_idx\u001b[0m \u001b[0;34m=\u001b[0m \u001b[0;32mNone\u001b[0m\u001b[0;34m\u001b[0m\u001b[0;34m\u001b[0m\u001b[0m\n\u001b[1;32m     86\u001b[0m         \u001b[0mself\u001b[0m\u001b[0;34m.\u001b[0m\u001b[0mk_constant\u001b[0m \u001b[0;34m=\u001b[0m \u001b[0;36m0\u001b[0m\u001b[0;34m\u001b[0m\u001b[0;34m\u001b[0m\u001b[0m\n\u001b[0;32m---> 87\u001b[0;31m         \u001b[0mself\u001b[0m\u001b[0;34m.\u001b[0m\u001b[0m_handle_constant\u001b[0m\u001b[0;34m(\u001b[0m\u001b[0mhasconst\u001b[0m\u001b[0;34m)\u001b[0m\u001b[0;34m\u001b[0m\u001b[0;34m\u001b[0m\u001b[0m\n\u001b[0m\u001b[1;32m     88\u001b[0m         \u001b[0mself\u001b[0m\u001b[0;34m.\u001b[0m\u001b[0m_check_integrity\u001b[0m\u001b[0;34m(\u001b[0m\u001b[0;34m)\u001b[0m\u001b[0;34m\u001b[0m\u001b[0;34m\u001b[0m\u001b[0m\n\u001b[1;32m     89\u001b[0m         \u001b[0mself\u001b[0m\u001b[0;34m.\u001b[0m\u001b[0m_cache\u001b[0m \u001b[0;34m=\u001b[0m \u001b[0;34m{\u001b[0m\u001b[0;34m}\u001b[0m\u001b[0;34m\u001b[0m\u001b[0;34m\u001b[0m\u001b[0m\n",
      "\u001b[0;32m/opt/anaconda3/lib/python3.8/site-packages/statsmodels/base/data.py\u001b[0m in \u001b[0;36m_handle_constant\u001b[0;34m(self, hasconst)\u001b[0m\n\u001b[1;32m    130\u001b[0m             \u001b[0mcheck_implicit\u001b[0m \u001b[0;34m=\u001b[0m \u001b[0;32mFalse\u001b[0m\u001b[0;34m\u001b[0m\u001b[0;34m\u001b[0m\u001b[0m\n\u001b[1;32m    131\u001b[0m             \u001b[0mexog_max\u001b[0m \u001b[0;34m=\u001b[0m \u001b[0mnp\u001b[0m\u001b[0;34m.\u001b[0m\u001b[0mmax\u001b[0m\u001b[0;34m(\u001b[0m\u001b[0mself\u001b[0m\u001b[0;34m.\u001b[0m\u001b[0mexog\u001b[0m\u001b[0;34m,\u001b[0m \u001b[0maxis\u001b[0m\u001b[0;34m=\u001b[0m\u001b[0;36m0\u001b[0m\u001b[0;34m)\u001b[0m\u001b[0;34m\u001b[0m\u001b[0;34m\u001b[0m\u001b[0m\n\u001b[0;32m--> 132\u001b[0;31m             \u001b[0;32mif\u001b[0m \u001b[0;32mnot\u001b[0m \u001b[0mnp\u001b[0m\u001b[0;34m.\u001b[0m\u001b[0misfinite\u001b[0m\u001b[0;34m(\u001b[0m\u001b[0mexog_max\u001b[0m\u001b[0;34m)\u001b[0m\u001b[0;34m.\u001b[0m\u001b[0mall\u001b[0m\u001b[0;34m(\u001b[0m\u001b[0;34m)\u001b[0m\u001b[0;34m:\u001b[0m\u001b[0;34m\u001b[0m\u001b[0;34m\u001b[0m\u001b[0m\n\u001b[0m\u001b[1;32m    133\u001b[0m                 \u001b[0;32mraise\u001b[0m \u001b[0mMissingDataError\u001b[0m\u001b[0;34m(\u001b[0m\u001b[0;34m'exog contains inf or nans'\u001b[0m\u001b[0;34m)\u001b[0m\u001b[0;34m\u001b[0m\u001b[0;34m\u001b[0m\u001b[0m\n\u001b[1;32m    134\u001b[0m             \u001b[0mexog_min\u001b[0m \u001b[0;34m=\u001b[0m \u001b[0mnp\u001b[0m\u001b[0;34m.\u001b[0m\u001b[0mmin\u001b[0m\u001b[0;34m(\u001b[0m\u001b[0mself\u001b[0m\u001b[0;34m.\u001b[0m\u001b[0mexog\u001b[0m\u001b[0;34m,\u001b[0m \u001b[0maxis\u001b[0m\u001b[0;34m=\u001b[0m\u001b[0;36m0\u001b[0m\u001b[0;34m)\u001b[0m\u001b[0;34m\u001b[0m\u001b[0;34m\u001b[0m\u001b[0m\n",
      "\u001b[0;31mTypeError\u001b[0m: ufunc 'isfinite' not supported for the input types, and the inputs could not be safely coerced to any supported types according to the casting rule ''safe''"
     ]
    }
   ],
   "source": [
    "y_label = ['dim_has_ticket']\n",
    "# numerical_features = dataset.columns\n",
    "x_feature =['cancelled_samday_bookings_china_host_past_90day','cancelled_samday_bookings_china_host_past_30day','cancelled_samday_bookings_china_host_past_7day','sameday_cancellation_rate_by_booking_date_past_90day','sameday_cancellation_rate_by_booking_date_past_30day','sameday_cancellation_rate_by_booking_date_past_7day','m_response_rate_24h_past_90day','m_response_rate_24h_past_30day','m_response_rate_24h_past_7day','m_response_rate_1h_past_90day','m_response_rate_1h_past_30day','m_response_rate_1h_past_7day','m_response_rate_30min_past_90day','m_response_rate_30min_past_30day','m_response_rate_30min_past_7day','m_avg_sec_to_first_response_90day','m_avg_sec_to_first_response_30day','m_avg_sec_to_first_response_7day','m_mid_sec_to_first_response_90day','m_mid_sec_to_first_response_30day','m_mid_sec_to_first_response_7day','m_same_day_response_rate_24h_past_90day','m_same_day_response_rate_24h_past_30day','m_same_day_response_rate_24h_past_7day','m_same_day_response_rate_1h_past_90day','m_same_day_response_rate_1h_past_30day','m_same_day_response_rate_1h_past_7day','m_same_day_response_rate_30min_past_90day','m_same_day_response_rate_30min_past_30day','m_same_day_response_rate_30min_past_7day','m_same_day_avg_sec_to_first_response_90day','m_same_day_avg_sec_to_first_response_30day','m_same_day_avg_sec_to_first_response_7day','m_same_day_mid_sec_to_first_response_90day','m_same_day_mid_sec_to_first_response_30day','m_same_day_mid_sec_to_first_response_7day','dim_listing_has_check_in_method']\n",
    "\n",
    "data_X = data_all[x_feature]\n",
    "X_train, X_test, y_train, y_test = train_test_split(data_X, data_Y, test_size=0.3, random_state=42)\n",
    "\n",
    "from statsmodels.stats.outliers_influence import variance_inflation_factor\n",
    "#columns_dorp2=['m_same_day_response_rate_30min_past_90day','m_same_day_response_rate_1h_past_30day','m_same_day_response_rate_24h_past_90day','m_same_day_response_rate_1h_past_7day','m_same_day_response_rate_24h_past_30day','m_same_day_response_rate_24h_past_7day','m_same_day_response_rate_30min_past_30day']\n",
    "x_feature =['cancelled_samday_bookings_china_host_past_90day','cancelled_samday_bookings_china_host_past_30day','cancelled_samday_bookings_china_host_past_7day','sameday_cancellation_rate_by_booking_date_past_90day','sameday_cancellation_rate_by_booking_date_past_30day','sameday_cancellation_rate_by_booking_date_past_7day','m_response_rate_24h_past_90day','m_response_rate_24h_past_30day','m_response_rate_24h_past_7day','m_response_rate_1h_past_90day','m_response_rate_1h_past_30day','m_response_rate_1h_past_7day','m_response_rate_30min_past_90day','m_response_rate_30min_past_30day','m_response_rate_30min_past_7day','m_avg_sec_to_first_response_90day','m_avg_sec_to_first_response_30day','m_avg_sec_to_first_response_7day','m_mid_sec_to_first_response_90day','m_mid_sec_to_first_response_30day','m_mid_sec_to_first_response_7day'\n",
    "            ,'m_same_day_response_rate_24h_past_90day','m_same_day_response_rate_24h_past_30day','m_same_day_response_rate_24h_past_7day','m_same_day_response_rate_1h_past_90day','m_same_day_response_rate_1h_past_30day','m_same_day_response_rate_1h_past_7day','m_same_day_response_rate_30min_past_90day','m_same_day_response_rate_30min_past_30day','m_same_day_response_rate_30min_past_7day','m_same_day_avg_sec_to_first_response_90day','m_same_day_avg_sec_to_first_response_30day','m_same_day_avg_sec_to_first_response_7day','m_same_day_mid_sec_to_first_response_90day','m_same_day_mid_sec_to_first_response_30day','m_same_day_mid_sec_to_first_response_7day']\n",
    "data_X2=X_train[x_feature]\n",
    "data_X2.drop(columns=columns_dorp,inplace=True,errors='ignore')\n",
    "#data_X2.drop(columns=columns_dorp2,inplace=True,errors='ignore')\n",
    "for i in range(len(data_X2.columns)):\n",
    "    print('{} 的方差膨胀因子VIF = {}'.format(data_X2.columns[i],variance_inflation_factor(data_X2.values,i)))"
   ]
  },
  {
   "cell_type": "code",
   "execution_count": 99,
   "metadata": {},
   "outputs": [],
   "source": [
    "y_label = ['dim_has_ticket']\n",
    "# numerical_features = dataset.columns\n",
    "x_feature =['cancelled_samday_bookings_china_host_past_90day','cancelled_samday_bookings_china_host_past_30day','cancelled_samday_bookings_china_host_past_7day','sameday_cancellation_rate_by_booking_date_past_90day','sameday_cancellation_rate_by_booking_date_past_30day','sameday_cancellation_rate_by_booking_date_past_7day','m_response_rate_24h_past_90day','m_response_rate_24h_past_30day','m_response_rate_24h_past_7day','m_response_rate_1h_past_90day','m_response_rate_1h_past_30day','m_response_rate_1h_past_7day','m_response_rate_30min_past_90day','m_response_rate_30min_past_30day','m_response_rate_30min_past_7day','m_avg_sec_to_first_response_90day','m_avg_sec_to_first_response_30day','m_avg_sec_to_first_response_7day','m_mid_sec_to_first_response_90day','m_mid_sec_to_first_response_30day','m_mid_sec_to_first_response_7day','m_same_day_response_rate_24h_past_90day','m_same_day_response_rate_24h_past_30day','m_same_day_response_rate_24h_past_7day','m_same_day_response_rate_1h_past_90day','m_same_day_response_rate_1h_past_30day','m_same_day_response_rate_1h_past_7day','m_same_day_response_rate_30min_past_90day','m_same_day_response_rate_30min_past_30day','m_same_day_response_rate_30min_past_7day','m_same_day_avg_sec_to_first_response_90day','m_same_day_avg_sec_to_first_response_30day','m_same_day_avg_sec_to_first_response_7day','m_same_day_mid_sec_to_first_response_90day','m_same_day_mid_sec_to_first_response_30day','m_same_day_mid_sec_to_first_response_7day','dim_listing_has_check_in_method']\n",
    "\n",
    "\n",
    "data_X = data_all[x_feature]\n",
    "\n",
    "data_X = data_X.join(pd.get_dummies(data_X.dim_listing_has_check_in_method))\n",
    "data_X.drop(columns=['dim_listing_has_check_in_method'],inplace=True,errors='ignore')\n",
    "## drop重复列\n",
    "data_X.drop(columns=columns_dorp,inplace=True,errors='ignore')\n",
    "## 删除共线性严重的\n",
    "data_X.drop(columns=columns_dorp2,inplace=True,errors='ignore')\n",
    "\n",
    "data_Y = data_all[y_label]\n",
    "\n",
    "X_train, X_test, y_train, y_test = train_test_split(data_X, data_Y, test_size=0.3, random_state=42)\n",
    "\n",
    "scaler = StandardScaler()\n",
    "X_train_scaled = scaler.fit_transform(X_train)\n",
    "X_test_scaled = scaler.transform(X_test)\n",
    "\n",
    "lr1 = LogisticRegression(penalty='l2', solver='liblinear', C = 0.002, tol=1e-6, max_iter=int(1e6),warm_start=True)\n",
    "\n",
    "lr1.fit(X_train_scaled, y_train)\n",
    "y_train_pred = lr1.predict(X_train_scaled)\n",
    "p_train_pred = lr1.predict_proba(X_train_scaled)[:,1]\n",
    "y_test_pred = lr1.predict(X_test_scaled)\n",
    "p_test_pred = lr1.predict_proba(X_test_scaled)[:,1]\n",
    "AUC_train = roc_auc_score(y_train, p_train_pred)\n",
    "AUC_test = roc_auc_score(y_test, p_test_pred)"
   ]
  },
  {
   "cell_type": "code",
   "execution_count": 13,
   "metadata": {},
   "outputs": [
    {
     "ename": "NameError",
     "evalue": "name 'logit_pvalue' is not defined",
     "output_type": "error",
     "traceback": [
      "\u001b[0;31m---------------------------------------------------------------------------\u001b[0m",
      "\u001b[0;31mNameError\u001b[0m                                 Traceback (most recent call last)",
      "\u001b[0;32m<ipython-input-13-08b2673b728e>\u001b[0m in \u001b[0;36m<module>\u001b[0;34m\u001b[0m\n\u001b[0;32m----> 1\u001b[0;31m \u001b[0mpvalues\u001b[0m \u001b[0;34m=\u001b[0m \u001b[0mlogit_pvalue\u001b[0m\u001b[0;34m(\u001b[0m\u001b[0mlr1\u001b[0m\u001b[0;34m,\u001b[0m \u001b[0mX_train_scaled\u001b[0m\u001b[0;34m)\u001b[0m\u001b[0;34m\u001b[0m\u001b[0;34m\u001b[0m\u001b[0m\n\u001b[0m\u001b[1;32m      2\u001b[0m \u001b[0mdf_coeffs_top\u001b[0m \u001b[0;34m=\u001b[0m \u001b[0mpd\u001b[0m\u001b[0;34m.\u001b[0m\u001b[0mDataFrame\u001b[0m\u001b[0;34m(\u001b[0m\u001b[0mlist\u001b[0m\u001b[0;34m(\u001b[0m\u001b[0mzip\u001b[0m\u001b[0;34m(\u001b[0m\u001b[0mX_train\u001b[0m\u001b[0;34m.\u001b[0m\u001b[0mcolumns\u001b[0m\u001b[0;34m,\u001b[0m \u001b[0mlr1\u001b[0m\u001b[0;34m.\u001b[0m\u001b[0mcoef_\u001b[0m\u001b[0;34m[\u001b[0m\u001b[0;36m0\u001b[0m\u001b[0;34m]\u001b[0m\u001b[0;34m,\u001b[0m \u001b[0mpvalues\u001b[0m\u001b[0;34m)\u001b[0m\u001b[0;34m)\u001b[0m\u001b[0;34m)\u001b[0m\u001b[0;34m.\u001b[0m\u001b[0msort_values\u001b[0m\u001b[0;34m(\u001b[0m\u001b[0mby\u001b[0m\u001b[0;34m=\u001b[0m\u001b[0;34m[\u001b[0m\u001b[0;36m1\u001b[0m\u001b[0;34m]\u001b[0m\u001b[0;34m,\u001b[0m \u001b[0mascending\u001b[0m\u001b[0;34m=\u001b[0m\u001b[0;32mFalse\u001b[0m\u001b[0;34m)\u001b[0m\u001b[0;34m\u001b[0m\u001b[0;34m\u001b[0m\u001b[0m\n\u001b[1;32m      3\u001b[0m \u001b[0mdf_coeffs_top\u001b[0m\u001b[0;34m.\u001b[0m\u001b[0mcolumns\u001b[0m \u001b[0;34m=\u001b[0m \u001b[0;34m[\u001b[0m\u001b[0;34m'columns'\u001b[0m\u001b[0;34m,\u001b[0m \u001b[0;34m'coefficient'\u001b[0m\u001b[0;34m,\u001b[0m \u001b[0;34m'p-value'\u001b[0m\u001b[0;34m]\u001b[0m\u001b[0;34m\u001b[0m\u001b[0;34m\u001b[0m\u001b[0m\n\u001b[1;32m      4\u001b[0m \u001b[0mdf_coeffs_top\u001b[0m\u001b[0;34m[\u001b[0m\u001b[0;34m'coefficient_abs'\u001b[0m\u001b[0;34m]\u001b[0m \u001b[0;34m=\u001b[0m \u001b[0mabs\u001b[0m\u001b[0;34m(\u001b[0m\u001b[0mdf_coeffs_top\u001b[0m\u001b[0;34m[\u001b[0m\u001b[0;34m'coefficient'\u001b[0m\u001b[0;34m]\u001b[0m\u001b[0;34m)\u001b[0m\u001b[0;34m\u001b[0m\u001b[0;34m\u001b[0m\u001b[0m\n\u001b[1;32m      5\u001b[0m \u001b[0mdf_coeffs_top\u001b[0m\u001b[0;34m[\u001b[0m\u001b[0;34m'coefficient_standardize'\u001b[0m\u001b[0;34m]\u001b[0m \u001b[0;34m=\u001b[0m \u001b[0mdf_coeffs_top\u001b[0m\u001b[0;34m[\u001b[0m\u001b[0;34m'coefficient_abs'\u001b[0m\u001b[0;34m]\u001b[0m\u001b[0;34m/\u001b[0m\u001b[0mdf_coeffs_top\u001b[0m\u001b[0;34m[\u001b[0m\u001b[0;34m'coefficient_abs'\u001b[0m\u001b[0;34m]\u001b[0m\u001b[0;34m.\u001b[0m\u001b[0msum\u001b[0m\u001b[0;34m(\u001b[0m\u001b[0;34m)\u001b[0m\u001b[0;34m\u001b[0m\u001b[0;34m\u001b[0m\u001b[0m\n",
      "\u001b[0;31mNameError\u001b[0m: name 'logit_pvalue' is not defined"
     ]
    }
   ],
   "source": [
    "pvalues = logit_pvalue(lr1, X_train_scaled)\n",
    "df_coeffs_top = pd.DataFrame(list(zip(X_train.columns, lr1.coef_[0], pvalues))).sort_values(by=[1], ascending=False)\n",
    "df_coeffs_top.columns = ['columns', 'coefficient', 'p-value']\n",
    "df_coeffs_top['coefficient_abs'] = abs(df_coeffs_top['coefficient'])\n",
    "df_coeffs_top['coefficient_standardize'] = df_coeffs_top['coefficient_abs']/df_coeffs_top['coefficient_abs'].sum()                                                         \n",
    "\n",
    "\n",
    "df_coeffs_top.sort_values('coefficient_abs',ascending=False).reset_index(drop=True)"
   ]
  },
  {
   "cell_type": "code",
   "execution_count": 95,
   "metadata": {},
   "outputs": [
    {
     "data": {
      "text/plain": [
       "cancelled_samday_bookings_china_host_past_90day             8\n",
       "cancelled_samday_bookings_china_host_past_7day              7\n",
       "sameday_cancellation_rate_by_booking_date_past_90day      129\n",
       "sameday_cancellation_rate_by_booking_date_past_7day        49\n",
       "m_same_day_response_rate_24h_past_90day                  2925\n",
       "m_same_day_response_rate_24h_past_30day                  1131\n",
       "m_same_day_response_rate_24h_past_7day                    285\n",
       "m_same_day_response_rate_1h_past_90day                   3645\n",
       "m_same_day_response_rate_1h_past_30day                   1373\n",
       "m_same_day_response_rate_1h_past_7day                     343\n",
       "m_same_day_response_rate_30min_past_90day                3792\n",
       "m_same_day_response_rate_30min_past_30day                1472\n",
       "m_same_day_response_rate_30min_past_7day                  364\n",
       "m_same_day_avg_sec_to_first_response_90day              39378\n",
       "m_same_day_avg_sec_to_first_response_30day              31487\n",
       "m_same_day_avg_sec_to_first_response_7day               16206\n",
       "m_same_day_mid_sec_to_first_response_90day               5047\n",
       "m_same_day_mid_sec_to_first_response_30day               6075\n",
       "m_same_day_mid_sec_to_first_response_7day                5610\n",
       "dim_listing_has_check_in_method                             2\n",
       "dtype: int64"
      ]
     },
     "execution_count": 95,
     "metadata": {},
     "output_type": "execute_result"
    }
   ],
   "source": [
    "data_X2.nunique()"
   ]
  },
  {
   "cell_type": "code",
   "execution_count": 89,
   "metadata": {},
   "outputs": [
    {
     "data": {
      "text/plain": [
       "0.0    81683\n",
       "1.0     4726\n",
       "2.0      369\n",
       "3.0       34\n",
       "4.0       10\n",
       "7.0        1\n",
       "5.0        1\n",
       "Name: cancelled_samday_bookings_china_host_past_7day, dtype: int64"
      ]
     },
     "execution_count": 89,
     "metadata": {},
     "output_type": "execute_result"
    }
   ],
   "source": [
    "X_train[['cancelled_samday_bookings_china_host_past_7day','X'],errors='ignore']"
   ]
  },
  {
   "cell_type": "code",
   "execution_count": 100,
   "metadata": {},
   "outputs": [
    {
     "name": "stdout",
     "output_type": "stream",
     "text": [
      "Warning: Maximum number of iterations has been exceeded.\n",
      "         Current function value: 0.689136\n",
      "         Iterations: 35\n"
     ]
    },
    {
     "name": "stderr",
     "output_type": "stream",
     "text": [
      "/opt/anaconda3/lib/python3.8/site-packages/statsmodels/base/model.py:567: ConvergenceWarning: Maximum Likelihood optimization failed to converge. Check mle_retvals\n",
      "  warn(\"Maximum Likelihood optimization failed to converge. \"\n"
     ]
    },
    {
     "data": {
      "text/html": [
       "<table class=\"simpletable\">\n",
       "<caption>Logit Regression Results</caption>\n",
       "<tr>\n",
       "  <th>Dep. Variable:</th>    <td>dim_has_ticket</td>  <th>  No. Observations:  </th>  <td> 86824</td> \n",
       "</tr>\n",
       "<tr>\n",
       "  <th>Model:</th>                 <td>Logit</td>      <th>  Df Residuals:      </th>  <td> 86811</td> \n",
       "</tr>\n",
       "<tr>\n",
       "  <th>Method:</th>                 <td>MLE</td>       <th>  Df Model:          </th>  <td>    12</td> \n",
       "</tr>\n",
       "<tr>\n",
       "  <th>Date:</th>            <td>Fri, 05 Feb 2021</td> <th>  Pseudo R-squ.:     </th>  <td>-4.520</td> \n",
       "</tr>\n",
       "<tr>\n",
       "  <th>Time:</th>                <td>15:59:02</td>     <th>  Log-Likelihood:    </th> <td> -59834.</td>\n",
       "</tr>\n",
       "<tr>\n",
       "  <th>converged:</th>             <td>False</td>      <th>  LL-Null:           </th> <td> -10840.</td>\n",
       "</tr>\n",
       "<tr>\n",
       "  <th>Covariance Type:</th>     <td>nonrobust</td>    <th>  LLR p-value:       </th>  <td> 1.000</td> \n",
       "</tr>\n",
       "</table>\n",
       "<table class=\"simpletable\">\n",
       "<tr>\n",
       "   <td></td>      <th>coef</th>     <th>std err</th>      <th>z</th>      <th>P>|z|</th>  <th>[0.025</th>    <th>0.975]</th>  \n",
       "</tr>\n",
       "<tr>\n",
       "  <th>x1</th>  <td>   -0.0061</td> <td>    0.012</td> <td>   -0.497</td> <td> 0.619</td> <td>   -0.030</td> <td>    0.018</td>\n",
       "</tr>\n",
       "<tr>\n",
       "  <th>x2</th>  <td>    0.0150</td> <td>    0.016</td> <td>    0.959</td> <td> 0.338</td> <td>   -0.016</td> <td>    0.046</td>\n",
       "</tr>\n",
       "<tr>\n",
       "  <th>x3</th>  <td>    0.1841</td> <td>    0.012</td> <td>   14.798</td> <td> 0.000</td> <td>    0.160</td> <td>    0.209</td>\n",
       "</tr>\n",
       "<tr>\n",
       "  <th>x4</th>  <td>   -0.0074</td> <td>    0.016</td> <td>   -0.479</td> <td> 0.632</td> <td>   -0.038</td> <td>    0.023</td>\n",
       "</tr>\n",
       "<tr>\n",
       "  <th>x5</th>  <td>   -0.0112</td> <td>    0.010</td> <td>   -1.092</td> <td> 0.275</td> <td>   -0.031</td> <td>    0.009</td>\n",
       "</tr>\n",
       "<tr>\n",
       "  <th>x6</th>  <td>   -0.0088</td> <td>    0.008</td> <td>   -1.139</td> <td> 0.255</td> <td>   -0.024</td> <td>    0.006</td>\n",
       "</tr>\n",
       "<tr>\n",
       "  <th>x7</th>  <td>   -0.0027</td> <td>    0.016</td> <td>   -0.162</td> <td> 0.871</td> <td>   -0.035</td> <td>    0.029</td>\n",
       "</tr>\n",
       "<tr>\n",
       "  <th>x8</th>  <td>   -0.0093</td> <td>    0.017</td> <td>   -0.536</td> <td> 0.592</td> <td>   -0.043</td> <td>    0.025</td>\n",
       "</tr>\n",
       "<tr>\n",
       "  <th>x9</th>  <td>   -0.0101</td> <td>    0.017</td> <td>   -0.582</td> <td> 0.560</td> <td>   -0.044</td> <td>    0.024</td>\n",
       "</tr>\n",
       "<tr>\n",
       "  <th>x10</th> <td>    0.0002</td> <td>    0.013</td> <td>    0.012</td> <td> 0.991</td> <td>   -0.025</td> <td>    0.025</td>\n",
       "</tr>\n",
       "<tr>\n",
       "  <th>x11</th> <td>    0.0014</td> <td>    0.015</td> <td>    0.090</td> <td> 0.928</td> <td>   -0.028</td> <td>    0.031</td>\n",
       "</tr>\n",
       "<tr>\n",
       "  <th>x12</th> <td>    0.0028</td> <td>    0.017</td> <td>    0.165</td> <td> 0.869</td> <td>   -0.030</td> <td>    0.036</td>\n",
       "</tr>\n",
       "<tr>\n",
       "  <th>x13</th> <td>    0.0031</td> <td>      nan</td> <td>      nan</td> <td>   nan</td> <td>      nan</td> <td>      nan</td>\n",
       "</tr>\n",
       "<tr>\n",
       "  <th>x14</th> <td>   -0.0031</td> <td>      nan</td> <td>      nan</td> <td>   nan</td> <td>      nan</td> <td>      nan</td>\n",
       "</tr>\n",
       "</table>"
      ],
      "text/plain": [
       "<class 'statsmodels.iolib.summary.Summary'>\n",
       "\"\"\"\n",
       "                           Logit Regression Results                           \n",
       "==============================================================================\n",
       "Dep. Variable:         dim_has_ticket   No. Observations:                86824\n",
       "Model:                          Logit   Df Residuals:                    86811\n",
       "Method:                           MLE   Df Model:                           12\n",
       "Date:                Fri, 05 Feb 2021   Pseudo R-squ.:                  -4.520\n",
       "Time:                        15:59:02   Log-Likelihood:                -59834.\n",
       "converged:                      False   LL-Null:                       -10840.\n",
       "Covariance Type:            nonrobust   LLR p-value:                     1.000\n",
       "==============================================================================\n",
       "                 coef    std err          z      P>|z|      [0.025      0.975]\n",
       "------------------------------------------------------------------------------\n",
       "x1            -0.0061      0.012     -0.497      0.619      -0.030       0.018\n",
       "x2             0.0150      0.016      0.959      0.338      -0.016       0.046\n",
       "x3             0.1841      0.012     14.798      0.000       0.160       0.209\n",
       "x4            -0.0074      0.016     -0.479      0.632      -0.038       0.023\n",
       "x5            -0.0112      0.010     -1.092      0.275      -0.031       0.009\n",
       "x6            -0.0088      0.008     -1.139      0.255      -0.024       0.006\n",
       "x7            -0.0027      0.016     -0.162      0.871      -0.035       0.029\n",
       "x8            -0.0093      0.017     -0.536      0.592      -0.043       0.025\n",
       "x9            -0.0101      0.017     -0.582      0.560      -0.044       0.024\n",
       "x10            0.0002      0.013      0.012      0.991      -0.025       0.025\n",
       "x11            0.0014      0.015      0.090      0.928      -0.028       0.031\n",
       "x12            0.0028      0.017      0.165      0.869      -0.030       0.036\n",
       "x13            0.0031        nan        nan        nan         nan         nan\n",
       "x14           -0.0031        nan        nan        nan         nan         nan\n",
       "==============================================================================\n",
       "\"\"\""
      ]
     },
     "execution_count": 100,
     "metadata": {},
     "output_type": "execute_result"
    }
   ],
   "source": [
    "import statsmodels.api as sm\n",
    "\n",
    "#X_train_scaled = X_train_scaled.join(pd.get_dummies(X_train_scaled.dim_listing_has_check_in_method))\n",
    "\n",
    "\n",
    "test=sm.Logit(y_train,X_train_scaled)\n",
    "#result=(sm.Logit(y_train,x_train)).fit(method='nm',maxiter=8000)\n",
    "#result=test.fit(method='bfgs',maxiter=1000)\n",
    "\n",
    "result=test.fit()\n",
    "result.summary()"
   ]
  },
  {
   "cell_type": "code",
   "execution_count": 18,
   "metadata": {},
   "outputs": [
    {
     "data": {
      "text/plain": [
       "0    120629\n",
       "1      3406\n",
       "Name: dim_has_ticket, dtype: int64"
      ]
     },
     "execution_count": 18,
     "metadata": {},
     "output_type": "execute_result"
    }
   ],
   "source": [
    "data_Y.dim_has_ticket.value_counts()"
   ]
  },
  {
   "cell_type": "code",
   "execution_count": 20,
   "metadata": {},
   "outputs": [
    {
     "data": {
      "text/plain": [
       "0    84463\n",
       "1     2361\n",
       "Name: dim_has_ticket, dtype: int64"
      ]
     },
     "execution_count": 20,
     "metadata": {},
     "output_type": "execute_result"
    }
   ],
   "source": [
    "y_train.dim_has_ticket.value_counts()"
   ]
  },
  {
   "cell_type": "code",
   "execution_count": null,
   "metadata": {},
   "outputs": [],
   "source": []
  }
 ],
 "metadata": {
  "kernelspec": {
   "display_name": "Python 3",
   "language": "python",
   "name": "python3"
  },
  "language_info": {
   "codemirror_mode": {
    "name": "ipython",
    "version": 3
   },
   "file_extension": ".py",
   "mimetype": "text/x-python",
   "name": "python",
   "nbconvert_exporter": "python",
   "pygments_lexer": "ipython3",
   "version": "3.8.3"
  }
 },
 "nbformat": 4,
 "nbformat_minor": 4
}
