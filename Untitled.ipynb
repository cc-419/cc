{
 "cells": [
  {
   "cell_type": "code",
   "execution_count": 1,
   "metadata": {},
   "outputs": [
    {
     "data": {
      "text/plain": [
       "array([3.5934385 , 1.30508973, 0.84484858, 0.25124974])"
      ]
     },
     "execution_count": 1,
     "metadata": {},
     "output_type": "execute_result"
    }
   ],
   "source": [
    "import os\n",
    "import numpy as np\n",
    "import pandas as pd\n",
    "import matplotlib.pyplot as plt\n",
    "from sklearn.decomposition import PCA\n",
    "from sklearn.datasets import load_breast_cancer\n",
    "#数据导入\n",
    "#数据用sklearn自带的癌症数据，只选前6列，降低复杂度\n",
    "cancer = load_breast_cancer()\n",
    "df=pd.DataFrame(cancer.data,columns=cancer.feature_names).iloc[:,0:6] \n",
    "##df.to_csv(r'cancer.csv') #SPSS分析用这份数据\n",
    "#数据标准化\n",
    "from sklearn import preprocessing\n",
    "scaler = preprocessing.StandardScaler().fit(df)\n",
    "X_scaler=pd.DataFrame(scaler.transform(df),columns=['Z1','Z2','Z3','Z4','Z5','Z6'])\n",
    "#主成分分析建模\n",
    "pca = PCA(n_components=4) #n_components提取因子数量\n",
    "pca.fit(X_scaler)\n",
    "pca.explained_variance_ #贡献方差，即特征根"
   ]
  },
  {
   "cell_type": "code",
   "execution_count": 8,
   "metadata": {},
   "outputs": [
    {
     "name": "stdout",
     "output_type": "stream",
     "text": [
      "<class 'sklearn.preprocessing._data.StandardScaler'>\n"
     ]
    }
   ],
   "source": [
    "print(type(scaler))"
   ]
  },
  {
   "cell_type": "code",
   "execution_count": 9,
   "metadata": {},
   "outputs": [
    {
     "data": {
      "text/plain": [
       "array([[0.98125728, 0.61951841, 0.86329643, 0.43175689, 0.48200812],\n",
       "       [0.52255432, 0.50539971, 0.1816698 , 0.37140878, 0.57772295],\n",
       "       [0.31202108, 0.57117225, 0.92617581, 0.46842398, 0.44311426],\n",
       "       [0.29052434, 0.77975559, 0.35816741, 0.01086536, 0.02542311],\n",
       "       [0.72111788, 0.73437338, 0.75085643, 0.77838742, 0.90857106],\n",
       "       [0.39097608, 0.4173828 , 0.94018731, 0.28185345, 0.52423575],\n",
       "       [0.88413961, 0.487688  , 0.52334322, 0.69727521, 0.96464672],\n",
       "       [0.27448827, 0.48435404, 0.1706686 , 0.62006597, 0.78722861],\n",
       "       [0.24601507, 0.4563384 , 0.61525636, 0.12654578, 0.99197986],\n",
       "       [0.8879603 , 0.09778627, 0.20050776, 0.28969825, 0.45142749],\n",
       "       [0.67641314, 0.93968293, 0.61886854, 0.87211042, 0.89634355],\n",
       "       [0.47009912, 0.17680485, 0.92544939, 0.55806953, 0.8196133 ],\n",
       "       [0.1299406 , 0.05784698, 0.34964536, 0.21368324, 0.32458914],\n",
       "       [0.62171724, 0.18608612, 0.95530254, 0.23891492, 0.47697947],\n",
       "       [0.17395819, 0.99840841, 0.15148392, 0.10238584, 0.97300164],\n",
       "       [0.90854347, 0.99473794, 0.65722655, 0.35488658, 0.42827886],\n",
       "       [0.32097398, 0.86255567, 0.16394107, 0.82321275, 0.90453921],\n",
       "       [0.18369565, 0.01935885, 0.46193703, 0.10099741, 0.05436963],\n",
       "       [0.18825314, 0.7923745 , 0.97664668, 0.80696341, 0.40181621],\n",
       "       [0.41510116, 0.50110506, 0.10012092, 0.50261743, 0.96138001]])"
      ]
     },
     "execution_count": 9,
     "metadata": {},
     "output_type": "execute_result"
    }
   ],
   "source": [
    "np.random.rand(20,5)"
   ]
  },
  {
   "cell_type": "code",
   "execution_count": 12,
   "metadata": {},
   "outputs": [
    {
     "name": "stdout",
     "output_type": "stream",
     "text": [
      "[' size=\"large\"', ' quantity=\"6\"']\n",
      "<item size=\"large\" quantity=\"6\">Albatross</item>\n",
      "[]\n",
      "<p>&lt;spam&gt;</p>\n"
     ]
    }
   ],
   "source": [
    "import html\n",
    "\n",
    "def make_element(name, value, **attrs):\n",
    "    keyvals = [' %s=\"%s\"' % item for item in attrs.items()]\n",
    "    print(keyvals)\n",
    "    attr_str = ''.join(keyvals)\n",
    "    element = '<{name}{attrs}>{value}</{name}>'.format(\n",
    "                name=name,\n",
    "                attrs=attr_str,\n",
    "                value=html.escape(value))\n",
    "    print(element)\n",
    "\n",
    "# Example\n",
    "# Creates '<item size=\"large\" quantity=\"6\">Albatross</item>'\n",
    "make_element('item', 'Albatross', size='large', quantity=6)\n",
    "\n",
    "# Creates '<p>&lt;spam&gt;</p>'\n",
    "make_element('p', '<spam>')"
   ]
  },
  {
   "cell_type": "code",
   "execution_count": null,
   "metadata": {},
   "outputs": [],
   "source": []
  }
 ],
 "metadata": {
  "kernelspec": {
   "display_name": "Python 3",
   "language": "python",
   "name": "python3"
  },
  "language_info": {
   "codemirror_mode": {
    "name": "ipython",
    "version": 3
   },
   "file_extension": ".py",
   "mimetype": "text/x-python",
   "name": "python",
   "nbconvert_exporter": "python",
   "pygments_lexer": "ipython3",
   "version": "3.8.3"
  }
 },
 "nbformat": 4,
 "nbformat_minor": 4
}
