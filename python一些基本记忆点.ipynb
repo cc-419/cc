{
 "cells": [
  {
   "cell_type": "markdown",
   "metadata": {},
   "source": [
    "## 0-\"*\"符号的使用场景\n",
    "\n",
    "`背景:`> python可迭代的对象，均可以通过赋值操作来拆解为n个变量，举个例子，一个list=[1,2,3],若想取每个值，则可以操作a,b,c=list，其中a=1,b=2,c=3;即要求变量个数和迭代对象的个数一致，否则会抛错，往往会造成不便，若迭代对象字段很多，只想取第一个，或者最后一个，则可以使用*\n",
    "\n",
    "`使用方法(例子):` list=[1,2,3,4,....10000],想去第一个，则list_0,*list_not_0=list,list_0即表示第一个元素，list_not_0则表示非第一位其它的所有元素(列表类型),例如下"
   ]
  },
  {
   "cell_type": "code",
   "execution_count": 17,
   "metadata": {},
   "outputs": [
    {
     "name": "stdout",
     "output_type": "stream",
     "text": [
      "foo\n",
      "[1, 2]\n",
      "1 2\n",
      "bar\n",
      "['hello']\n",
      "hello\n",
      "foo\n",
      "[3, 4]\n",
      "3 4\n",
      "uname:nobody\n",
      "homedir:/var/empty\n",
      "sh:/usr/bin/false\n"
     ]
    }
   ],
   "source": [
    "## 非fun例子\n",
    "records = [\n",
    "    ('foo', 1, 2),\n",
    "    ('bar', 'hello'),\n",
    "    ('foo', 3, 4),\n",
    "]\n",
    "for tag, *args in records:\n",
    "    print(tag)\n",
    "    print(args)\n",
    "    print(*args)\n",
    "\n",
    "## 使用场景字段截取\n",
    "line = 'nobody:*:-2:-2:Unprivileged User:/var/empty:/usr/bin/false'\n",
    "uname, *fields, homedir, sh = line.split(':')\n",
    "print('uname:%s' % (uname))\n",
    "print('homedir:%s' % (homedir))\n",
    "print('sh:%s' % (sh))"
   ]
  },
  {
   "cell_type": "markdown",
   "metadata": {},
   "source": [
    "## 1-\"*\"符号的使用场景2-定义的方法使用\n",
    "`单个*：`为了让函数接受任意数量的位置参数,如下面tt()例子，first_n表示传入的第一个参数，剩余的参数都可以用else_n传入\n",
    "\n",
    "`双*`"
   ]
  },
  {
   "cell_type": "code",
   "execution_count": 33,
   "metadata": {},
   "outputs": [
    {
     "name": "stdout",
     "output_type": "stream",
     "text": [
      "1\n",
      "type;<class 'tuple'>,result:(2,)\n",
      "1\n",
      "type;<class 'tuple'>,result:(2, 3, 4)\n",
      "\n",
      "\n",
      "----------------分割线-------------------\n",
      "\n",
      "\n",
      "1.5\n",
      "2.5\n"
     ]
    }
   ],
   "source": [
    "## 单个*的例子 fun例子\n",
    "def tt(first_n,*else_n):\n",
    "    print(first_n)\n",
    "    print('type;{t},result:{data}'.format(t=type(else_n),data=else_n))\n",
    "tt(1,2)\n",
    "tt(1,2,3,4)\n",
    "print('\\n')\n",
    "print('----------------分割线-------------------')\n",
    "print('\\n')\n",
    "def avg(first, *rest):\n",
    "    return (first + sum(rest)) / (1 + len(rest))\n",
    "\n",
    "print(avg(1, 2)) # 1.5\n",
    "print(avg(1, 2, 3, 4)) # 2.5"
   ]
  },
  {
   "cell_type": "code",
   "execution_count": 51,
   "metadata": {},
   "outputs": [
    {
     "name": "stdout",
     "output_type": "stream",
     "text": [
      "attrs的类型<class 'dict'>\n",
      "attrs的值{'size': 'large', 'quantity': 6}\n",
      "attrs使用items之后的值[' size=\"large\"', ' quantity=\"6\"']\n",
      " size=\"large\" quantity=\"6\"\n",
      "<item size=\"large\" quantity=\"6\">Albatross</item>\n",
      "\n",
      "\n",
      "----------------分割线-------------------\n",
      "\n",
      "\n",
      "dic类型的items方法\n",
      "('size', 'large')\n",
      "('quantity', 6)\n",
      "\n",
      "\n",
      "----------------分割线-------------------\n",
      "\n",
      "\n",
      " .join()的使用 \n",
      "1234\n",
      "size quantity\n",
      "{'size': 'large', 'quantity': 6}\n"
     ]
    }
   ],
   "source": [
    "import html\n",
    "\n",
    "def make_element(name, value, **attrs):\n",
    "    print('attrs的类型{}'.format(type(attrs)))\n",
    "    print('attrs的值{}'.format(attrs))\n",
    "    keyvals = [' %s=\"%s\"' % item for item in attrs.items()]\n",
    "    print('attrs使用items之后的值{}'.format(keyvals))\n",
    "    attr_str = ''.join(keyvals)\n",
    "    print(attr_str)\n",
    "    element = '<{name}{attrs}>{value}</{name}>'.format(\n",
    "                name=name,\n",
    "                attrs=attr_str,\n",
    "                value=html.escape(value))\n",
    "    return element\n",
    "\n",
    "# Example\n",
    "# Creates '<item size=\"large\" quantity=\"6\">Albatross</item>'\n",
    "print(make_element('item', 'Albatross', size='large', quantity=6))\n",
    "\n",
    "\n",
    "print('\\n')\n",
    "print('----------------分割线-------------------')\n",
    "print('\\n')\n",
    "\n",
    "## 额外补充关于dic类型的items方法\n",
    "print('dic类型的items方法')\n",
    "dic_t={'size': 'large', 'quantity': 6}\n",
    "for dic_data in dic_t.items():\n",
    "    print(dic_data) \n",
    "    \n",
    "print('\\n')\n",
    "print('----------------分割线-------------------')\n",
    "print('\\n')\n",
    "print(' ''.join()的使用 ')\n",
    "print(''.join(['1','2','3','4']))\n",
    "print(' '.join(dic_t))\n",
    "print(dic_t)"
   ]
  },
  {
   "cell_type": "markdown",
   "metadata": {},
   "source": [
    "## 2-排序"
   ]
  },
  {
   "cell_type": "code",
   "execution_count": 6,
   "metadata": {},
   "outputs": [
    {
     "name": "stdout",
     "output_type": "stream",
     "text": [
      "[9, 8, 6, 6, 5, 5, 4, 3, 2, 2, 1]\n"
     ]
    }
   ],
   "source": [
    "## 列表排序\n",
    "c1=[6,5,9,8,2,1,3,4,2,5,6]\n",
    "c1.sort(reverse=True) ## 倒序排\n",
    "print(c1)\n",
    "## 字典排序\n",
    "\n"
   ]
  },
  {
   "cell_type": "code",
   "execution_count": 5,
   "metadata": {},
   "outputs": [
    {
     "name": "stdout",
     "output_type": "stream",
     "text": [
      "Help on built-in function sort:\n",
      "\n",
      "sort(*, key=None, reverse=False) method of builtins.list instance\n",
      "    Sort the list in ascending order and return None.\n",
      "    \n",
      "    The sort is in-place (i.e. the list itself is modified) and stable (i.e. the\n",
      "    order of two equal elements is maintained).\n",
      "    \n",
      "    If a key function is given, apply it once to each list item and sort them,\n",
      "    ascending or descending, according to their function values.\n",
      "    \n",
      "    The reverse flag can be set to sort in descending order.\n",
      "\n"
     ]
    }
   ],
   "source": [
    "help(c1.sort)"
   ]
  },
  {
   "cell_type": "code",
   "execution_count": null,
   "metadata": {},
   "outputs": [],
   "source": []
  }
 ],
 "metadata": {
  "kernelspec": {
   "display_name": "Python 3",
   "language": "python",
   "name": "python3"
  },
  "language_info": {
   "codemirror_mode": {
    "name": "ipython",
    "version": 3
   },
   "file_extension": ".py",
   "mimetype": "text/x-python",
   "name": "python",
   "nbconvert_exporter": "python",
   "pygments_lexer": "ipython3",
   "version": "3.8.3"
  }
 },
 "nbformat": 4,
 "nbformat_minor": 4
}
