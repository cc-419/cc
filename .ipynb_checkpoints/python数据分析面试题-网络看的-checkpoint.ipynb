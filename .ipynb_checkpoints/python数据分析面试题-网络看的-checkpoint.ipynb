{
 "cells": [
  {
   "cell_type": "code",
   "execution_count": 35,
   "metadata": {},
   "outputs": [
    {
     "data": {
      "text/html": [
       "<div>\n",
       "<style scoped>\n",
       "    .dataframe tbody tr th:only-of-type {\n",
       "        vertical-align: middle;\n",
       "    }\n",
       "\n",
       "    .dataframe tbody tr th {\n",
       "        vertical-align: top;\n",
       "    }\n",
       "\n",
       "    .dataframe thead th {\n",
       "        text-align: right;\n",
       "    }\n",
       "</style>\n",
       "<table border=\"1\" class=\"dataframe\">\n",
       "  <thead>\n",
       "    <tr style=\"text-align: right;\">\n",
       "      <th></th>\n",
       "      <th>age</th>\n",
       "      <th>income</th>\n",
       "      <th>sales</th>\n",
       "    </tr>\n",
       "  </thead>\n",
       "  <tbody>\n",
       "    <tr>\n",
       "      <th>0</th>\n",
       "      <td>34</td>\n",
       "      <td>350</td>\n",
       "      <td>123</td>\n",
       "    </tr>\n",
       "    <tr>\n",
       "      <th>1</th>\n",
       "      <td>40</td>\n",
       "      <td>450</td>\n",
       "      <td>114</td>\n",
       "    </tr>\n",
       "    <tr>\n",
       "      <th>2</th>\n",
       "      <td>37</td>\n",
       "      <td>169</td>\n",
       "      <td>135</td>\n",
       "    </tr>\n",
       "    <tr>\n",
       "      <th>3</th>\n",
       "      <td>30</td>\n",
       "      <td>189</td>\n",
       "      <td>139</td>\n",
       "    </tr>\n",
       "    <tr>\n",
       "      <th>4</th>\n",
       "      <td>44</td>\n",
       "      <td>183</td>\n",
       "      <td>117</td>\n",
       "    </tr>\n",
       "    <tr>\n",
       "      <th>5</th>\n",
       "      <td>36</td>\n",
       "      <td>80</td>\n",
       "      <td>121</td>\n",
       "    </tr>\n",
       "    <tr>\n",
       "      <th>6</th>\n",
       "      <td>32</td>\n",
       "      <td>166</td>\n",
       "      <td>133</td>\n",
       "    </tr>\n",
       "    <tr>\n",
       "      <th>7</th>\n",
       "      <td>26</td>\n",
       "      <td>120</td>\n",
       "      <td>140</td>\n",
       "    </tr>\n",
       "    <tr>\n",
       "      <th>8</th>\n",
       "      <td>32</td>\n",
       "      <td>75</td>\n",
       "      <td>133</td>\n",
       "    </tr>\n",
       "    <tr>\n",
       "      <th>9</th>\n",
       "      <td>36</td>\n",
       "      <td>40</td>\n",
       "      <td>133</td>\n",
       "    </tr>\n",
       "  </tbody>\n",
       "</table>\n",
       "</div>"
      ],
      "text/plain": [
       "   age  income  sales\n",
       "0   34     350    123\n",
       "1   40     450    114\n",
       "2   37     169    135\n",
       "3   30     189    139\n",
       "4   44     183    117\n",
       "5   36      80    121\n",
       "6   32     166    133\n",
       "7   26     120    140\n",
       "8   32      75    133\n",
       "9   36      40    133"
      ]
     },
     "execution_count": 35,
     "metadata": {},
     "output_type": "execute_result"
    }
   ],
   "source": [
    "# 1.一家超市的顾客数据，\n",
    "# 将数据可视化并分析销售额和年龄、收入的关系\n",
    "# 并给出营销建议\n",
    "# 年龄 收入 销售额\n",
    "import numpy as np\n",
    "import pandas as pd\n",
    "import matplotlib.pyplot as plt \n",
    "np.random.seed(10)\n",
    "\n",
    "age=np.array([34,40,37,30,44,36,32,26,32,36])\n",
    "rev=np.array([350,450,169,189,183,80,166,120,75,40])\n",
    "sales=np.array([123,114,135,139,117,121,133,140,133,133])\n",
    "data={'age':age,'income':rev,'sales':sales}\n",
    "data_f = pd.DataFrame(data)\n",
    "data_f"
   ]
  },
  {
   "cell_type": "code",
   "execution_count": 53,
   "metadata": {},
   "outputs": [
    {
     "data": {
      "text/html": [
       "<div>\n",
       "<style scoped>\n",
       "    .dataframe tbody tr th:only-of-type {\n",
       "        vertical-align: middle;\n",
       "    }\n",
       "\n",
       "    .dataframe tbody tr th {\n",
       "        vertical-align: top;\n",
       "    }\n",
       "\n",
       "    .dataframe thead th {\n",
       "        text-align: right;\n",
       "    }\n",
       "</style>\n",
       "<table border=\"1\" class=\"dataframe\">\n",
       "  <thead>\n",
       "    <tr style=\"text-align: right;\">\n",
       "      <th></th>\n",
       "      <th></th>\n",
       "      <th>sales</th>\n",
       "    </tr>\n",
       "    <tr>\n",
       "      <th>age</th>\n",
       "      <th>income</th>\n",
       "      <th></th>\n",
       "    </tr>\n",
       "  </thead>\n",
       "  <tbody>\n",
       "    <tr>\n",
       "      <th>26</th>\n",
       "      <th>120</th>\n",
       "      <td>140</td>\n",
       "    </tr>\n",
       "    <tr>\n",
       "      <th>30</th>\n",
       "      <th>189</th>\n",
       "      <td>139</td>\n",
       "    </tr>\n",
       "    <tr>\n",
       "      <th rowspan=\"2\" valign=\"top\">32</th>\n",
       "      <th>75</th>\n",
       "      <td>133</td>\n",
       "    </tr>\n",
       "    <tr>\n",
       "      <th>166</th>\n",
       "      <td>133</td>\n",
       "    </tr>\n",
       "    <tr>\n",
       "      <th>34</th>\n",
       "      <th>350</th>\n",
       "      <td>123</td>\n",
       "    </tr>\n",
       "    <tr>\n",
       "      <th rowspan=\"2\" valign=\"top\">36</th>\n",
       "      <th>40</th>\n",
       "      <td>133</td>\n",
       "    </tr>\n",
       "    <tr>\n",
       "      <th>80</th>\n",
       "      <td>121</td>\n",
       "    </tr>\n",
       "    <tr>\n",
       "      <th>37</th>\n",
       "      <th>169</th>\n",
       "      <td>135</td>\n",
       "    </tr>\n",
       "    <tr>\n",
       "      <th>40</th>\n",
       "      <th>450</th>\n",
       "      <td>114</td>\n",
       "    </tr>\n",
       "    <tr>\n",
       "      <th>44</th>\n",
       "      <th>183</th>\n",
       "      <td>117</td>\n",
       "    </tr>\n",
       "  </tbody>\n",
       "</table>\n",
       "</div>"
      ],
      "text/plain": [
       "            sales\n",
       "age income       \n",
       "26  120       140\n",
       "30  189       139\n",
       "32  75        133\n",
       "    166       133\n",
       "34  350       123\n",
       "36  40        133\n",
       "    80        121\n",
       "37  169       135\n",
       "40  450       114\n",
       "44  183       117"
      ]
     },
     "execution_count": 53,
     "metadata": {},
     "output_type": "execute_result"
    }
   ],
   "source": [
    "data_f.groupby(['age','income']).mean()"
   ]
  },
  {
   "cell_type": "code",
   "execution_count": 52,
   "metadata": {},
   "outputs": [
    {
     "data": {
      "image/png": "[encoded data removed]",
      "text/plain": [
       "<Figure size 720x720 with 4 Axes>"
      ]
     },
     "metadata": {
      "needs_background": "light"
     },
     "output_type": "display_data"
    }
   ],
   "source": [
    "fig,ax=plt.subplots(2,2,figsize=(10,10))\n",
    "ax[0][0].scatter(data_f.age,data_f.sales,c='g')\n",
    "ax[0][0].set_xlabel('age')\n",
    "ax[0][0].set_ylabel('sales')\n",
    "ax[0][0].set_title('age Vs sales:scatter')\n",
    "\n",
    "ax[0][1].plot(data_f.groupby('age').mean().index,data_f.groupby('age').mean().sales,c='b')\n",
    "ax[0][1].set_xlabel('age')\n",
    "ax[0][1].set_ylabel('sales')\n",
    "ax[0][1].set_title('age Vs sales:line')\n",
    "\n",
    "ax[1][0].scatter(data_f.income,data_f.sales)\n",
    "ax[1][0].set_xlabel('income')\n",
    "ax[1][0].set_ylabel('sales')\n",
    "ax[1][0].set_title('income Vs sales:scatter')\n",
    "\n",
    "ax[1][1].plot(data_f.groupby('income').mean().index,data_f.groupby('income').mean().sales,c='b')\n",
    "ax[1][1].set_xlabel('income')\n",
    "ax[1][1].set_ylabel('sales')\n",
    "ax[1][1].set_title('income Vs sales:line')\n",
    "plt.show()\n",
    "\n",
    "## 结论： （1）年龄越小，销售额越高；（2）收入与销售额呈负相关 建议：年龄20～37，收入在100～200是目标用户"
   ]
  },
  {
   "cell_type": "code",
   "execution_count": 37,
   "metadata": {},
   "outputs": [
    {
     "name": "stdout",
     "output_type": "stream",
     "text": [
      "Help on method scatter in module matplotlib.axes._axes:\n",
      "\n",
      "scatter(x, y, s=None, c=None, marker=None, cmap=None, norm=None, vmin=None, vmax=None, alpha=None, linewidths=None, verts=<deprecated parameter>, edgecolors=None, *, plotnonfinite=False, data=None, **kwargs) method of matplotlib.axes._subplots.AxesSubplot instance\n",
      "    A scatter plot of *y* vs. *x* with varying marker size and/or color.\n",
      "    \n",
      "    Parameters\n",
      "    ----------\n",
      "    x, y : scalar or array-like, shape (n, )\n",
      "        The data positions.\n",
      "    \n",
      "    s : scalar or array-like, shape (n, ), optional\n",
      "        The marker size in points**2.\n",
      "        Default is ``rcParams['lines.markersize'] ** 2``.\n",
      "    \n",
      "    c : array-like or list of colors or color, optional\n",
      "        The marker colors. Possible values:\n",
      "    \n",
      "        - A scalar or sequence of n numbers to be mapped to colors using\n",
      "          *cmap* and *norm*.\n",
      "        - A 2-D array in which the rows are RGB or RGBA.\n",
      "        - A sequence of colors of length n.\n",
      "        - A single color format string.\n",
      "    \n",
      "        Note that *c* should not be a single numeric RGB or RGBA sequence\n",
      "        because that is indistinguishable from an array of values to be\n",
      "        colormapped. If you want to specify the same RGB or RGBA value for\n",
      "        all points, use a 2-D array with a single row.  Otherwise, value-\n",
      "        matching will have precedence in case of a size matching with *x*\n",
      "        and *y*.\n",
      "    \n",
      "        If you wish to specify a single color for all points\n",
      "        prefer the *color* keyword argument.\n",
      "    \n",
      "        Defaults to `None`. In that case the marker color is determined\n",
      "        by the value of *color*, *facecolor* or *facecolors*. In case\n",
      "        those are not specified or `None`, the marker color is determined\n",
      "        by the next color of the ``Axes``' current \"shape and fill\" color\n",
      "        cycle. This cycle defaults to :rc:`axes.prop_cycle`.\n",
      "    \n",
      "    marker : `~matplotlib.markers.MarkerStyle`, optional\n",
      "        The marker style. *marker* can be either an instance of the class\n",
      "        or the text shorthand for a particular marker.\n",
      "        Defaults to ``None``, in which case it takes the value of\n",
      "        :rc:`scatter.marker` = 'o'.\n",
      "        See `~matplotlib.markers` for more information about marker styles.\n",
      "    \n",
      "    cmap : `~matplotlib.colors.Colormap`, optional, default: None\n",
      "        A `.Colormap` instance or registered colormap name. *cmap* is only\n",
      "        used if *c* is an array of floats. If ``None``, defaults to rc\n",
      "        ``image.cmap``.\n",
      "    \n",
      "    norm : `~matplotlib.colors.Normalize`, optional, default: None\n",
      "        A `.Normalize` instance is used to scale luminance data to 0, 1.\n",
      "        *norm* is only used if *c* is an array of floats. If *None*, use\n",
      "        the default `.colors.Normalize`.\n",
      "    \n",
      "    vmin, vmax : scalar, optional, default: None\n",
      "        *vmin* and *vmax* are used in conjunction with *norm* to normalize\n",
      "        luminance data. If None, the respective min and max of the color\n",
      "        array is used. *vmin* and *vmax* are ignored if you pass a *norm*\n",
      "        instance.\n",
      "    \n",
      "    alpha : scalar, optional, default: None\n",
      "        The alpha blending value, between 0 (transparent) and 1 (opaque).\n",
      "    \n",
      "    linewidths : scalar or array-like, optional, default: None\n",
      "        The linewidth of the marker edges. Note: The default *edgecolors*\n",
      "        is 'face'. You may want to change this as well.\n",
      "        If *None*, defaults to :rc:`lines.linewidth`.\n",
      "    \n",
      "    edgecolors : {'face', 'none', *None*} or color or sequence of color, optional.\n",
      "        The edge color of the marker. Possible values:\n",
      "    \n",
      "        - 'face': The edge color will always be the same as the face color.\n",
      "        - 'none': No patch boundary will be drawn.\n",
      "        - A Matplotlib color or sequence of color.\n",
      "    \n",
      "        Defaults to ``None``, in which case it takes the value of\n",
      "        :rc:`scatter.edgecolors` = 'face'.\n",
      "    \n",
      "        For non-filled markers, the *edgecolors* kwarg is ignored and\n",
      "        forced to 'face' internally.\n",
      "    \n",
      "    plotnonfinite : boolean, optional, default: False\n",
      "        Set to plot points with nonfinite *c*, in conjunction with\n",
      "        `~matplotlib.colors.Colormap.set_bad`.\n",
      "    \n",
      "    Returns\n",
      "    -------\n",
      "    paths : `~matplotlib.collections.PathCollection`\n",
      "    \n",
      "    Other Parameters\n",
      "    ----------------\n",
      "    **kwargs : `~matplotlib.collections.Collection` properties\n",
      "    \n",
      "    See Also\n",
      "    --------\n",
      "    plot : To plot scatter plots when markers are identical in size and\n",
      "        color.\n",
      "    \n",
      "    Notes\n",
      "    -----\n",
      "    * The `.plot` function will be faster for scatterplots where markers\n",
      "      don't vary in size or color.\n",
      "    \n",
      "    * Any or all of *x*, *y*, *s*, and *c* may be masked arrays, in which\n",
      "      case all masks will be combined and only unmasked points will be\n",
      "      plotted.\n",
      "    \n",
      "    * Fundamentally, scatter works with 1-D arrays; *x*, *y*, *s*, and *c*\n",
      "      may be input as N-D arrays, but within scatter they will be\n",
      "      flattened. The exception is *c*, which will be flattened only if its\n",
      "      size matches the size of *x* and *y*.\n",
      "    \n",
      "    .. note::\n",
      "        In addition to the above described arguments, this function can take a\n",
      "        **data** keyword argument. If such a **data** argument is given, the\n",
      "        following arguments are replaced by **data[<arg>]**:\n",
      "    \n",
      "        * All arguments with the following names: 'c', 'color', 'edgecolors', 'facecolor', 'facecolors', 'linewidths', 's', 'x', 'y'.\n",
      "    \n",
      "        Objects passed as **data** must support item access (``data[<arg>]``) and\n",
      "        membership test (``<arg> in data``).\n",
      "\n"
     ]
    }
   ],
   "source": [
    "help(ax[1].scatter)"
   ]
  },
  {
   "cell_type": "code",
   "execution_count": 62,
   "metadata": {},
   "outputs": [
    {
     "data": {
      "text/plain": [
       "array([15, 29])"
      ]
     },
     "execution_count": 62,
     "metadata": {},
     "output_type": "execute_result"
    }
   ],
   "source": [
    "# 2.使用原生Python代码和Numpy并行计算分别求解下面的y值\n",
    "# 条件：\n",
    "# x1 = [1,2,3,4,5]\n",
    "# x2 = [3,5,2,9,10]\n",
    "# y = x12 + x23\n",
    "\n",
    "x1 = [1,2,3,4,5]\n",
    "x2 = [3,5,2,9,10]\n",
    "y=np.sum([x1,x2],axis=0) ## 按索引加\n",
    "x1*2=np.array(x1)*2"
   ]
  },
  {
   "cell_type": "code",
   "execution_count": 65,
   "metadata": {},
   "outputs": [
    {
     "data": {
      "text/plain": [
       "array([ 2,  4,  6,  8, 10])"
      ]
     },
     "execution_count": 65,
     "metadata": {},
     "output_type": "execute_result"
    }
   ],
   "source": [
    "# 3.返回下表中所有同学语文成绩最低的1次考试成绩\n",
    "chinese=np.array([75,68,54,55,59,45,61])\n",
    "english=np.array([69,85,42,57,35,63,53])\n",
    "math=np.array([36,87,59,63,92,92,76])\n",
    "name=np.array(['张三','李四','王五','李四','王五','王五','赵六'])\n",
    "test=np.array(['一','一','一','二','二','三','一'])\n",
    "data2={'chinese':chinese,'english':english,'math':math,'name':name,'test':test}\n",
    "data2_f = pd.DataFrame(data)\n",
    "data2_f\n"
   ]
  },
  {
   "cell_type": "code",
   "execution_count": 98,
   "metadata": {},
   "outputs": [
    {
     "data": {
      "image/png": "[encoded data removed]",
      "text/plain": [
       "<Figure size 576x432 with 1 Axes>"
      ]
     },
     "metadata": {
      "needs_background": "light"
     },
     "output_type": "display_data"
    }
   ],
   "source": [
    "#  线性模型\n",
    "import numpy as np\n",
    "import pandas as pd\n",
    "import matplotlib.pyplot as plt\n",
    "\n",
    "import statsmodels.api as sm\n",
    "from statsmodels.sandbox.regression.predstd import wls_prediction_std\n",
    "\n",
    "nsample = 50\n",
    "groups = np.zeros(nsample, int)\n",
    "groups[20:40] = 1\n",
    "groups[40:] = 2\n",
    "#dummy = (groups[:,None] == np.unique(groups)).astype(float)\n",
    "\n",
    "dummy = pd.get_dummies(groups).values\n",
    "x = np.linspace(0, 20, nsample)\n",
    "# drop reference category\n",
    "X = np.column_stack((x, dummy[:,1:]))\n",
    "X = sm.add_constant(X, prepend=False)\n",
    "\n",
    "beta = [1., 3, -3, 10]\n",
    "y_true = np.dot(X, beta)\n",
    "e = np.random.normal(size=nsample)\n",
    "y = y_true + e\n",
    "\n",
    "res2 = sm.OLS(y, X).fit()\n",
    "\n",
    "prstd, iv_l, iv_u = wls_prediction_std(res2)\n",
    "\n",
    "fig, ax = plt.subplots(figsize=(8,6))\n",
    "\n",
    "ax.plot(x, y, 'o', label=\"Data\")\n",
    "ax.plot(x, y_true, 'b-', label=\"True\")\n",
    "ax.plot(x, res2.fittedvalues, 'r--.', label=\"Predicted\")\n",
    "ax.plot(x, iv_u, 'b--',label=\"iv_u\")\n",
    "ax.plot(x, iv_l, 'b--',label=\"iv_l\")\n",
    "legend = ax.legend(loc=\"best\")"
   ]
  },
  {
   "cell_type": "code",
   "execution_count": 87,
   "metadata": {},
   "outputs": [
    {
     "name": "stderr",
     "output_type": "stream",
     "text": [
      "/opt/anaconda3/lib/python3.8/site-packages/numpy/core/numeric.py:2327: FutureWarning: elementwise comparison failed; returning scalar instead, but in the future will perform elementwise comparison\n",
      "  return bool(asarray(a1 == a2).all())\n"
     ]
    },
    {
     "data": {
      "text/plain": [
       "0    1\n",
       "1    2\n",
       "2    3\n",
       "dtype: int64"
      ]
     },
     "execution_count": 87,
     "metadata": {},
     "output_type": "execute_result"
    }
   ],
   "source": [
    "pd.Series(['1', '2', '3'], dtype=int)"
   ]
  },
  {
   "cell_type": "code",
   "execution_count": 99,
   "metadata": {},
   "outputs": [
    {
     "data": {
      "text/plain": [
       "a    10\n",
       "b    10\n",
       "c    10\n",
       "dtype: int64"
      ]
     },
     "execution_count": 99,
     "metadata": {},
     "output_type": "execute_result"
    }
   ],
   "source": [
    "import pandas as pd\n",
    "s = pd.Series(10, index=['a', 'b', 'c'])\n",
    "s"
   ]
  },
  {
   "cell_type": "code",
   "execution_count": 107,
   "metadata": {},
   "outputs": [
    {
     "data": {
      "text/html": [
       "<div>\n",
       "<style scoped>\n",
       "    .dataframe tbody tr th:only-of-type {\n",
       "        vertical-align: middle;\n",
       "    }\n",
       "\n",
       "    .dataframe tbody tr th {\n",
       "        vertical-align: top;\n",
       "    }\n",
       "\n",
       "    .dataframe thead th {\n",
       "        text-align: right;\n",
       "    }\n",
       "</style>\n",
       "<table border=\"1\" class=\"dataframe\">\n",
       "  <thead>\n",
       "    <tr style=\"text-align: right;\">\n",
       "      <th></th>\n",
       "      <th>one</th>\n",
       "      <th>two</th>\n",
       "    </tr>\n",
       "  </thead>\n",
       "  <tbody>\n",
       "    <tr>\n",
       "      <th>0</th>\n",
       "      <td>9</td>\n",
       "      <td>3</td>\n",
       "    </tr>\n",
       "    <tr>\n",
       "      <th>1</th>\n",
       "      <td>8</td>\n",
       "      <td>2</td>\n",
       "    </tr>\n",
       "    <tr>\n",
       "      <th>3</th>\n",
       "      <td>6</td>\n",
       "      <td>0</td>\n",
       "    </tr>\n",
       "    <tr>\n",
       "      <th>2</th>\n",
       "      <td>7</td>\n",
       "      <td>1</td>\n",
       "    </tr>\n",
       "  </tbody>\n",
       "</table>\n",
       "</div>"
      ],
      "text/plain": [
       "   one  two\n",
       "0    9    3\n",
       "1    8    2\n",
       "3    6    0\n",
       "2    7    1"
      ]
     },
     "execution_count": 107,
     "metadata": {},
     "output_type": "execute_result"
    }
   ],
   "source": [
    "import pandas as pd\n",
    "dt = {'one': [9, 8, 7, 6], 'two': [3, 2, 1, 0]}\n",
    "a_befroe = pd.DataFrame(dt)\n",
    "\n",
    "a_after = a_befroe.reindex(index = (0,1,3,2))\n",
    "a_after"
   ]
  },
  {
   "cell_type": "code",
   "execution_count": 108,
   "metadata": {},
   "outputs": [
    {
     "data": {
      "text/html": [
       "<div>\n",
       "<style scoped>\n",
       "    .dataframe tbody tr th:only-of-type {\n",
       "        vertical-align: middle;\n",
       "    }\n",
       "\n",
       "    .dataframe tbody tr th {\n",
       "        vertical-align: top;\n",
       "    }\n",
       "\n",
       "    .dataframe thead th {\n",
       "        text-align: right;\n",
       "    }\n",
       "</style>\n",
       "<table border=\"1\" class=\"dataframe\">\n",
       "  <thead>\n",
       "    <tr style=\"text-align: right;\">\n",
       "      <th></th>\n",
       "      <th>one</th>\n",
       "      <th>two</th>\n",
       "    </tr>\n",
       "  </thead>\n",
       "  <tbody>\n",
       "    <tr>\n",
       "      <th>0</th>\n",
       "      <td>9</td>\n",
       "      <td>3</td>\n",
       "    </tr>\n",
       "    <tr>\n",
       "      <th>1</th>\n",
       "      <td>8</td>\n",
       "      <td>2</td>\n",
       "    </tr>\n",
       "    <tr>\n",
       "      <th>2</th>\n",
       "      <td>7</td>\n",
       "      <td>1</td>\n",
       "    </tr>\n",
       "    <tr>\n",
       "      <th>3</th>\n",
       "      <td>6</td>\n",
       "      <td>0</td>\n",
       "    </tr>\n",
       "  </tbody>\n",
       "</table>\n",
       "</div>"
      ],
      "text/plain": [
       "   one  two\n",
       "0    9    3\n",
       "1    8    2\n",
       "2    7    1\n",
       "3    6    0"
      ]
     },
     "execution_count": 108,
     "metadata": {},
     "output_type": "execute_result"
    }
   ],
   "source": [
    "a_befroe"
   ]
  },
  {
   "cell_type": "code",
   "execution_count": 109,
   "metadata": {},
   "outputs": [
    {
     "data": {
      "text/html": [
       "<div>\n",
       "<style scoped>\n",
       "    .dataframe tbody tr th:only-of-type {\n",
       "        vertical-align: middle;\n",
       "    }\n",
       "\n",
       "    .dataframe tbody tr th {\n",
       "        vertical-align: top;\n",
       "    }\n",
       "\n",
       "    .dataframe thead th {\n",
       "        text-align: right;\n",
       "    }\n",
       "</style>\n",
       "<table border=\"1\" class=\"dataframe\">\n",
       "  <thead>\n",
       "    <tr style=\"text-align: right;\">\n",
       "      <th></th>\n",
       "      <th>one</th>\n",
       "      <th>two</th>\n",
       "    </tr>\n",
       "  </thead>\n",
       "  <tbody>\n",
       "    <tr>\n",
       "      <th>0</th>\n",
       "      <td>9</td>\n",
       "      <td>3</td>\n",
       "    </tr>\n",
       "    <tr>\n",
       "      <th>1</th>\n",
       "      <td>8</td>\n",
       "      <td>2</td>\n",
       "    </tr>\n",
       "    <tr>\n",
       "      <th>2</th>\n",
       "      <td>7</td>\n",
       "      <td>1</td>\n",
       "    </tr>\n",
       "    <tr>\n",
       "      <th>3</th>\n",
       "      <td>6</td>\n",
       "      <td>0</td>\n",
       "    </tr>\n",
       "  </tbody>\n",
       "</table>\n",
       "</div>"
      ],
      "text/plain": [
       "   one  two\n",
       "0    9    3\n",
       "1    8    2\n",
       "2    7    1\n",
       "3    6    0"
      ]
     },
     "execution_count": 109,
     "metadata": {},
     "output_type": "execute_result"
    }
   ],
   "source": [
    "a_after.sort_index()"
   ]
  },
  {
   "cell_type": "code",
   "execution_count": 146,
   "metadata": {},
   "outputs": [
    {
     "data": {
      "text/html": [
       "<div>\n",
       "<style scoped>\n",
       "    .dataframe tbody tr th:only-of-type {\n",
       "        vertical-align: middle;\n",
       "    }\n",
       "\n",
       "    .dataframe tbody tr th {\n",
       "        vertical-align: top;\n",
       "    }\n",
       "\n",
       "    .dataframe thead th {\n",
       "        text-align: right;\n",
       "    }\n",
       "</style>\n",
       "<table border=\"1\" class=\"dataframe\">\n",
       "  <thead>\n",
       "    <tr style=\"text-align: right;\">\n",
       "      <th></th>\n",
       "      <th>0</th>\n",
       "      <th>1</th>\n",
       "      <th>2</th>\n",
       "      <th>3</th>\n",
       "      <th>4</th>\n",
       "    </tr>\n",
       "  </thead>\n",
       "  <tbody>\n",
       "    <tr>\n",
       "      <th>x</th>\n",
       "      <td>15</td>\n",
       "      <td>16</td>\n",
       "      <td>17</td>\n",
       "      <td>18</td>\n",
       "      <td>19</td>\n",
       "    </tr>\n",
       "    <tr>\n",
       "      <th>y</th>\n",
       "      <td>10</td>\n",
       "      <td>11</td>\n",
       "      <td>12</td>\n",
       "      <td>13</td>\n",
       "      <td>14</td>\n",
       "    </tr>\n",
       "    <tr>\n",
       "      <th>w</th>\n",
       "      <td>5</td>\n",
       "      <td>6</td>\n",
       "      <td>7</td>\n",
       "      <td>8</td>\n",
       "      <td>9</td>\n",
       "    </tr>\n",
       "    <tr>\n",
       "      <th>z</th>\n",
       "      <td>0</td>\n",
       "      <td>1</td>\n",
       "      <td>2</td>\n",
       "      <td>3</td>\n",
       "      <td>4</td>\n",
       "    </tr>\n",
       "  </tbody>\n",
       "</table>\n",
       "</div>"
      ],
      "text/plain": [
       "    0   1   2   3   4\n",
       "x  15  16  17  18  19\n",
       "y  10  11  12  13  14\n",
       "w   5   6   7   8   9\n",
       "z   0   1   2   3   4"
      ]
     },
     "execution_count": 146,
     "metadata": {},
     "output_type": "execute_result"
    }
   ],
   "source": [
    "import pandas as pd\n",
    "import numpy as np\n",
    "a = pd.DataFrame(np.arange(20).reshape(4,5), index = ['z', 'w', 'y', 'x'])\n",
    "a.sort_values(by=2,ascending=False)"
   ]
  },
  {
   "cell_type": "code",
   "execution_count": 151,
   "metadata": {},
   "outputs": [
    {
     "data": {
      "text/plain": [
       "z    5\n",
       "w    5\n",
       "y    5\n",
       "x    5\n",
       "dtype: int64"
      ]
     },
     "execution_count": 151,
     "metadata": {},
     "output_type": "execute_result"
    }
   ],
   "source": [
    "a.notnull().sum(axis=1)"
   ]
  },
  {
   "cell_type": "code",
   "execution_count": 120,
   "metadata": {},
   "outputs": [],
   "source": [
    "prices = {\n",
    "    'ACME': 45.23,\n",
    "    'AAPL': 612.78,\n",
    "    'IBM': 205.55,\n",
    "    'HPQ': 37.20,\n",
    "    'FB': 10.75\n",
    "}"
   ]
  },
  {
   "cell_type": "code",
   "execution_count": 123,
   "metadata": {},
   "outputs": [
    {
     "data": {
      "text/plain": [
       "dict_keys(['ACME', 'AAPL', 'IBM', 'HPQ', 'FB'])"
      ]
     },
     "execution_count": 123,
     "metadata": {},
     "output_type": "execute_result"
    }
   ],
   "source": [
    "prices.keys()"
   ]
  },
  {
   "cell_type": "code",
   "execution_count": 127,
   "metadata": {},
   "outputs": [
    {
     "data": {
      "text/plain": [
       "0    6.5\n",
       "1    1.0\n",
       "2    6.5\n",
       "3    4.5\n",
       "4    3.0\n",
       "5    2.0\n",
       "6    4.5\n",
       "dtype: float64"
      ]
     },
     "execution_count": 127,
     "metadata": {},
     "output_type": "execute_result"
    }
   ],
   "source": [
    "obj = pd.Series([7,-5,7,4,2,0,4])\n",
    "obj.rank()"
   ]
  },
  {
   "cell_type": "code",
   "execution_count": 131,
   "metadata": {},
   "outputs": [
    {
     "data": {
      "text/plain": [
       "set"
      ]
     },
     "execution_count": 131,
     "metadata": {},
     "output_type": "execute_result"
    }
   ],
   "source": [
    "a = [5, 6, 2, 2, 1, 2, 3,  3, 6, 9, 9]\n",
    "type(set(a))"
   ]
  },
  {
   "cell_type": "code",
   "execution_count": 141,
   "metadata": {},
   "outputs": [
    {
     "name": "stdout",
     "output_type": "stream",
     "text": [
      "30414093201713378043612608166064768844377641568960512000000368047\n",
      "30414093201713378043612608166064768844377641568960512000000368047\n"
     ]
    }
   ],
   "source": [
    "#求1 +3！+5！+7！+9！+50!之和。\n",
    "def n_factorial(n):\n",
    "    if n==1:\n",
    "        return 1\n",
    "    else:\n",
    "        return n*n_factorial(n-1)\n",
    "data_list=[1,3,5,7,9,50]\n",
    "data_list_sum=0\n",
    "for i in data_list:\n",
    "    data_list_sum+=n_factorial(i)\n",
    "print(data_list_sum)\n",
    "print(sum([n_factorial(i) for i in data_list]))"
   ]
  },
  {
   "cell_type": "code",
   "execution_count": 139,
   "metadata": {},
   "outputs": [
    {
     "name": "stdout",
     "output_type": "stream",
     "text": [
      "30414093201713378043612608166064768844377641568960512000000368046\n"
     ]
    }
   ],
   "source": [
    "print(n_factorial(50)+n_factorial(9)+n_factorial(7)+n_factorial(5)+n_factorial(3))"
   ]
  },
  {
   "cell_type": "code",
   "execution_count": 142,
   "metadata": {},
   "outputs": [
    {
     "name": "stdout",
     "output_type": "stream",
     "text": [
      "[1, 6, 120, 5040, 362880, 30414093201713378043612608166064768844377641568960512000000000000]\n"
     ]
    }
   ],
   "source": [
    "print([n_factorial(i) for i in data_list])"
   ]
  },
  {
   "cell_type": "code",
   "execution_count": 170,
   "metadata": {},
   "outputs": [
    {
     "data": {
      "text/html": [
       "<div>\n",
       "<style scoped>\n",
       "    .dataframe tbody tr th:only-of-type {\n",
       "        vertical-align: middle;\n",
       "    }\n",
       "\n",
       "    .dataframe tbody tr th {\n",
       "        vertical-align: top;\n",
       "    }\n",
       "\n",
       "    .dataframe thead th {\n",
       "        text-align: right;\n",
       "    }\n",
       "</style>\n",
       "<table border=\"1\" class=\"dataframe\">\n",
       "  <thead>\n",
       "    <tr style=\"text-align: right;\">\n",
       "      <th></th>\n",
       "      <th>date</th>\n",
       "      <th>age</th>\n",
       "      <th>salary</th>\n",
       "      <th>m</th>\n",
       "      <th>year</th>\n",
       "      <th>month</th>\n",
       "      <th>day</th>\n",
       "    </tr>\n",
       "  </thead>\n",
       "  <tbody>\n",
       "    <tr>\n",
       "      <th>0</th>\n",
       "      <td>2020-04-01</td>\n",
       "      <td>27</td>\n",
       "      <td>12000</td>\n",
       "      <td>4</td>\n",
       "      <td>2020</td>\n",
       "      <td>04</td>\n",
       "      <td>01</td>\n",
       "    </tr>\n",
       "    <tr>\n",
       "      <th>1</th>\n",
       "      <td>2020-05-01</td>\n",
       "      <td>40</td>\n",
       "      <td>58000</td>\n",
       "      <td>5</td>\n",
       "      <td>2020</td>\n",
       "      <td>05</td>\n",
       "      <td>01</td>\n",
       "    </tr>\n",
       "    <tr>\n",
       "      <th>2</th>\n",
       "      <td>2020-06-01</td>\n",
       "      <td>22</td>\n",
       "      <td>9000</td>\n",
       "      <td>6</td>\n",
       "      <td>2020</td>\n",
       "      <td>06</td>\n",
       "      <td>01</td>\n",
       "    </tr>\n",
       "    <tr>\n",
       "      <th>3</th>\n",
       "      <td>2020-04-02</td>\n",
       "      <td>22</td>\n",
       "      <td>9000</td>\n",
       "      <td>4</td>\n",
       "      <td>2020</td>\n",
       "      <td>04</td>\n",
       "      <td>02</td>\n",
       "    </tr>\n",
       "    <tr>\n",
       "      <th>4</th>\n",
       "      <td>2020-05-03</td>\n",
       "      <td>22</td>\n",
       "      <td>9000</td>\n",
       "      <td>5</td>\n",
       "      <td>2020</td>\n",
       "      <td>05</td>\n",
       "      <td>03</td>\n",
       "    </tr>\n",
       "    <tr>\n",
       "      <th>5</th>\n",
       "      <td>2020-05-04</td>\n",
       "      <td>22</td>\n",
       "      <td>9000</td>\n",
       "      <td>5</td>\n",
       "      <td>2020</td>\n",
       "      <td>05</td>\n",
       "      <td>04</td>\n",
       "    </tr>\n",
       "    <tr>\n",
       "      <th>6</th>\n",
       "      <td>2020-07-01</td>\n",
       "      <td>22</td>\n",
       "      <td>9000</td>\n",
       "      <td>7</td>\n",
       "      <td>2020</td>\n",
       "      <td>07</td>\n",
       "      <td>01</td>\n",
       "    </tr>\n",
       "    <tr>\n",
       "      <th>7</th>\n",
       "      <td>2020-06-02</td>\n",
       "      <td>22</td>\n",
       "      <td>9000</td>\n",
       "      <td>6</td>\n",
       "      <td>2020</td>\n",
       "      <td>06</td>\n",
       "      <td>02</td>\n",
       "    </tr>\n",
       "  </tbody>\n",
       "</table>\n",
       "</div>"
      ],
      "text/plain": [
       "         date  age  salary  m  year month day\n",
       "0  2020-04-01   27   12000  4  2020    04  01\n",
       "1  2020-05-01   40   58000  5  2020    05  01\n",
       "2  2020-06-01   22    9000  6  2020    06  01\n",
       "3  2020-04-02   22    9000  4  2020    04  02\n",
       "4  2020-05-03   22    9000  5  2020    05  03\n",
       "5  2020-05-04   22    9000  5  2020    05  04\n",
       "6  2020-07-01   22    9000  7  2020    07  01\n",
       "7  2020-06-02   22    9000  6  2020    06  02"
      ]
     },
     "execution_count": 170,
     "metadata": {},
     "output_type": "execute_result"
    }
   ],
   "source": [
    "#新建属性列，提取日期中的月份\n",
    "df1=pd.DataFrame([['2020-04-01',27,12000],['2020-05-01',40,58000],['2020-06-01',22,9000]\n",
    "                  ,['2020-04-02',22,9000]\n",
    "                 ,['2020-05-03',22,9000]\n",
    "                 ,['2020-05-04',22,9000]\n",
    "                 ,['2020-07-01',22,9000]\n",
    "                 ,['2020-06-02',22,9000]]\n",
    "                 ,columns=['date','age','salary'])\n",
    "df1['m']=pd.DatetimeIndex(df1['date']).month\n",
    "df1\n",
    "\n",
    "## 第二种方案\n",
    "df1_t1=df1['date'].str.split('-',expand=True)\n",
    "df1_t1.columns=['year','month','day']\n",
    "df1=df1.join(df1_t1)\n",
    "df1"
   ]
  },
  {
   "cell_type": "code",
   "execution_count": 186,
   "metadata": {},
   "outputs": [
    {
     "data": {
      "text/html": [
       "<div>\n",
       "<style scoped>\n",
       "    .dataframe tbody tr th:only-of-type {\n",
       "        vertical-align: middle;\n",
       "    }\n",
       "\n",
       "    .dataframe tbody tr th {\n",
       "        vertical-align: top;\n",
       "    }\n",
       "\n",
       "    .dataframe thead th {\n",
       "        text-align: right;\n",
       "    }\n",
       "</style>\n",
       "<table border=\"1\" class=\"dataframe\">\n",
       "  <thead>\n",
       "    <tr style=\"text-align: right;\">\n",
       "      <th></th>\n",
       "      <th>age</th>\n",
       "      <th>month</th>\n",
       "      <th>date</th>\n",
       "      <th>salary</th>\n",
       "    </tr>\n",
       "  </thead>\n",
       "  <tbody>\n",
       "    <tr>\n",
       "      <th>0</th>\n",
       "      <td>22</td>\n",
       "      <td>04</td>\n",
       "      <td>1</td>\n",
       "      <td>9000</td>\n",
       "    </tr>\n",
       "    <tr>\n",
       "      <th>1</th>\n",
       "      <td>22</td>\n",
       "      <td>05</td>\n",
       "      <td>2</td>\n",
       "      <td>18000</td>\n",
       "    </tr>\n",
       "    <tr>\n",
       "      <th>2</th>\n",
       "      <td>22</td>\n",
       "      <td>06</td>\n",
       "      <td>2</td>\n",
       "      <td>18000</td>\n",
       "    </tr>\n",
       "    <tr>\n",
       "      <th>3</th>\n",
       "      <td>22</td>\n",
       "      <td>07</td>\n",
       "      <td>1</td>\n",
       "      <td>9000</td>\n",
       "    </tr>\n",
       "    <tr>\n",
       "      <th>4</th>\n",
       "      <td>27</td>\n",
       "      <td>04</td>\n",
       "      <td>1</td>\n",
       "      <td>12000</td>\n",
       "    </tr>\n",
       "    <tr>\n",
       "      <th>5</th>\n",
       "      <td>40</td>\n",
       "      <td>05</td>\n",
       "      <td>1</td>\n",
       "      <td>58000</td>\n",
       "    </tr>\n",
       "  </tbody>\n",
       "</table>\n",
       "</div>"
      ],
      "text/plain": [
       "   age month  date  salary\n",
       "0   22    04     1    9000\n",
       "1   22    05     2   18000\n",
       "2   22    06     2   18000\n",
       "3   22    07     1    9000\n",
       "4   27    04     1   12000\n",
       "5   40    05     1   58000"
      ]
     },
     "execution_count": 186,
     "metadata": {},
     "output_type": "execute_result"
    }
   ],
   "source": [
    "##根据id和月份，做数据透视表，并分别求出每个id在不同月份的收入笔数、收入总额。\n",
    "df1_t2=pd.pivot_table(df1,values=['salary','date'],index=['age','month'],aggfunc={'salary':np.sum,'date':np.size})\n",
    "df1_t2.reset_index() ## 重置列索引\n",
    "# df1.groupby(['age','month'])['salary'].sum()\n",
    "# df1.groupby(['age','month'])['date'].size()\n"
   ]
  },
  {
   "cell_type": "code",
   "execution_count": 192,
   "metadata": {},
   "outputs": [
    {
     "data": {
      "text/html": [
       "<div>\n",
       "<style scoped>\n",
       "    .dataframe tbody tr th:only-of-type {\n",
       "        vertical-align: middle;\n",
       "    }\n",
       "\n",
       "    .dataframe tbody tr th {\n",
       "        vertical-align: top;\n",
       "    }\n",
       "\n",
       "    .dataframe thead th {\n",
       "        text-align: right;\n",
       "    }\n",
       "</style>\n",
       "<table border=\"1\" class=\"dataframe\">\n",
       "  <thead>\n",
       "    <tr style=\"text-align: right;\">\n",
       "      <th></th>\n",
       "      <th>date_left</th>\n",
       "      <th>age</th>\n",
       "      <th>salary_left</th>\n",
       "      <th>m</th>\n",
       "      <th>year</th>\n",
       "      <th>month</th>\n",
       "      <th>day</th>\n",
       "      <th>date_right</th>\n",
       "      <th>salary_right</th>\n",
       "    </tr>\n",
       "  </thead>\n",
       "  <tbody>\n",
       "    <tr>\n",
       "      <th>0</th>\n",
       "      <td>2020-04-01</td>\n",
       "      <td>27</td>\n",
       "      <td>12000</td>\n",
       "      <td>4</td>\n",
       "      <td>2020</td>\n",
       "      <td>04</td>\n",
       "      <td>01</td>\n",
       "      <td>1</td>\n",
       "      <td>12000</td>\n",
       "    </tr>\n",
       "    <tr>\n",
       "      <th>1</th>\n",
       "      <td>2020-05-01</td>\n",
       "      <td>40</td>\n",
       "      <td>58000</td>\n",
       "      <td>5</td>\n",
       "      <td>2020</td>\n",
       "      <td>05</td>\n",
       "      <td>01</td>\n",
       "      <td>1</td>\n",
       "      <td>58000</td>\n",
       "    </tr>\n",
       "    <tr>\n",
       "      <th>2</th>\n",
       "      <td>2020-06-01</td>\n",
       "      <td>22</td>\n",
       "      <td>9000</td>\n",
       "      <td>6</td>\n",
       "      <td>2020</td>\n",
       "      <td>06</td>\n",
       "      <td>01</td>\n",
       "      <td>2</td>\n",
       "      <td>18000</td>\n",
       "    </tr>\n",
       "    <tr>\n",
       "      <th>3</th>\n",
       "      <td>2020-06-02</td>\n",
       "      <td>22</td>\n",
       "      <td>9000</td>\n",
       "      <td>6</td>\n",
       "      <td>2020</td>\n",
       "      <td>06</td>\n",
       "      <td>02</td>\n",
       "      <td>2</td>\n",
       "      <td>18000</td>\n",
       "    </tr>\n",
       "    <tr>\n",
       "      <th>4</th>\n",
       "      <td>2020-04-02</td>\n",
       "      <td>22</td>\n",
       "      <td>9000</td>\n",
       "      <td>4</td>\n",
       "      <td>2020</td>\n",
       "      <td>04</td>\n",
       "      <td>02</td>\n",
       "      <td>1</td>\n",
       "      <td>9000</td>\n",
       "    </tr>\n",
       "    <tr>\n",
       "      <th>5</th>\n",
       "      <td>2020-05-03</td>\n",
       "      <td>22</td>\n",
       "      <td>9000</td>\n",
       "      <td>5</td>\n",
       "      <td>2020</td>\n",
       "      <td>05</td>\n",
       "      <td>03</td>\n",
       "      <td>2</td>\n",
       "      <td>18000</td>\n",
       "    </tr>\n",
       "    <tr>\n",
       "      <th>6</th>\n",
       "      <td>2020-05-04</td>\n",
       "      <td>22</td>\n",
       "      <td>9000</td>\n",
       "      <td>5</td>\n",
       "      <td>2020</td>\n",
       "      <td>05</td>\n",
       "      <td>04</td>\n",
       "      <td>2</td>\n",
       "      <td>18000</td>\n",
       "    </tr>\n",
       "    <tr>\n",
       "      <th>7</th>\n",
       "      <td>2020-07-01</td>\n",
       "      <td>22</td>\n",
       "      <td>9000</td>\n",
       "      <td>7</td>\n",
       "      <td>2020</td>\n",
       "      <td>07</td>\n",
       "      <td>01</td>\n",
       "      <td>1</td>\n",
       "      <td>9000</td>\n",
       "    </tr>\n",
       "  </tbody>\n",
       "</table>\n",
       "</div>"
      ],
      "text/plain": [
       "    date_left  age  salary_left  m  year month day  date_right  salary_right\n",
       "0  2020-04-01   27        12000  4  2020    04  01           1         12000\n",
       "1  2020-05-01   40        58000  5  2020    05  01           1         58000\n",
       "2  2020-06-01   22         9000  6  2020    06  01           2         18000\n",
       "3  2020-06-02   22         9000  6  2020    06  02           2         18000\n",
       "4  2020-04-02   22         9000  4  2020    04  02           1          9000\n",
       "5  2020-05-03   22         9000  5  2020    05  03           2         18000\n",
       "6  2020-05-04   22         9000  5  2020    05  04           2         18000\n",
       "7  2020-07-01   22         9000  7  2020    07  01           1          9000"
      ]
     },
     "execution_count": 192,
     "metadata": {},
     "output_type": "execute_result"
    }
   ],
   "source": [
    "##合并刚刚得到的数据透视表和原始表，并按年龄和合并\n",
    "#help(pd.merge)\n",
    "df1_t3=df1.merge(df1_t2,left_on=['age','month'],right_on=['age','month'],suffixes=('_left', '_right'),how='inner')\n",
    "df1_t3"
   ]
  },
  {
   "cell_type": "code",
   "execution_count": 196,
   "metadata": {},
   "outputs": [
    {
     "data": {
      "text/plain": [
       "1"
      ]
     },
     "execution_count": 196,
     "metadata": {},
     "output_type": "execute_result"
    }
   ],
   "source": [
    "df1_t3['date_right'].value_counts().index[1]"
   ]
  },
  {
   "cell_type": "code",
   "execution_count": null,
   "metadata": {},
   "outputs": [],
   "source": [
    "## 把数据集随机划分为训练集和测试集，按8：2的比例。\n",
    "from sklearn.model_selection import train_test_split\n",
    "data_train,data_test,target_train,target_test= train_test_split(data,target,test_size=0.2,random_sate=42)"
   ]
  },
  {
   "cell_type": "code",
   "execution_count": 12,
   "metadata": {},
   "outputs": [
    {
     "name": "stdout",
     "output_type": "stream",
     "text": [
      "张三  深圳\n"
     ]
    }
   ],
   "source": [
    "# 字符串a = \"not 404 found 张三 99 深圳\"，每个词中间是空格，用正则过滤掉英文和数字，最终输出\"张三  深圳\"\n",
    "import re \n",
    "a='not 404 found 张三 99 深圳'\n",
    "b=re.sub(r'[a-zA-Z0-9]', \"\", a)\n",
    "print(b.lstrip())"
   ]
  },
  {
   "cell_type": "code",
   "execution_count": 25,
   "metadata": {},
   "outputs": [
    {
     "name": "stdout",
     "output_type": "stream",
     "text": [
      "None ['12', '34']\n",
      "<re.Match object; span=(0, 4), match='wwww'>\n"
     ]
    }
   ],
   "source": [
    "# 正则re.complie作用\n",
    "import re \n",
    "'''\n",
    "compile 函数用于编译正则表达式，生成一个正则表达式（ Pattern ）对象，供 match() 和 search() 这两个函数使用\n",
    "'''\n",
    "pattern = re.compile(r'\\d+') \n",
    "m = pattern.match('one12twothree34four') \n",
    "n = pattern.findall('one12twothree34four')\n",
    "print(m,n)\n",
    "print(re.match('wwww', 'wwww.runoob.com')) \n",
    "\n",
    "\n",
    "'''\n",
    "51、正则匹配，匹配日期为2018-03-20 的所有链接\n",
    "\n",
    "url='https://sycm.taobao.com/bda/tradinganaly/overview/get_summary.json?dateRange=2018-03-20%7C2018-03-20&dateType=recent1&device=1&token=ff25b109b&_=1521595613462'\n",
    "\n",
    "'''\n",
    "url='https://sycm.taobao.com/bda/tradinganaly/overview/get_summary.json?dateRange=2018-03-20%7C2018-03-20&dateType=recent1&device=1&token=ff25b109b&_=1521595613462'\n",
    "re_url=re.compile(r'(.*)dateRange=2018-03-20(.*)')\n",
    "print(re_url.search(url).group(0))##https://sycm.taobao.com/bda/tradinganaly/overview/get_summary.json?dateRange=2018-03-20\n",
    "print(re_url.search(url).group(1)) ##https://sycm.taobao.com/bda/tradinganaly/overview/get_summary.json?\n",
    "print(re_url.search(url).group(2)) ##%7C2018-03-20&dateType=recent1&device=1&token=ff25b109b&_=1521595613462\n",
    "\n",
    "\n",
    "\n"
   ]
  },
  {
   "cell_type": "code",
   "execution_count": 145,
   "metadata": {},
   "outputs": [
    {
     "name": "stdout",
     "output_type": "stream",
     "text": [
      "2011-01-03 00:00:00\n",
      "<class 'datetime.datetime'>\n",
      "2011-01-03\n",
      "2011-01-03 12:00:01\n",
      "<class 'datetime.datetime'>\n"
     ]
    },
    {
     "data": {
      "text/plain": [
       "DatetimeIndex(['2011-07-06', '2011-08-06'], dtype='datetime64[ns]', freq=None)"
      ]
     },
     "execution_count": 145,
     "metadata": {},
     "output_type": "execute_result"
    }
   ],
   "source": [
    "import datetime\n",
    "import pandas as pd\n",
    "stamp=datetime.datetime(2011,1,3)\n",
    "print(stamp)\n",
    "print(type(stamp))\n",
    "print(stamp.strftime('%Y-%m-%d'))\n",
    "value='2011-01-03 12:00:01'\n",
    "print(datetime.datetime.strptime(value,'%Y-%m-%d %H:%M:%S'))\n",
    "print(type(datetime.datetime.strptime(value,'%Y-%m-%d %H:%M:%S')))\n",
    "\n",
    "date_str=['7/6/2011','8/6/2011']\n",
    "pd.to_datetime(date_str)"
   ]
  },
  {
   "cell_type": "code",
   "execution_count": 33,
   "metadata": {},
   "outputs": [
    {
     "name": "stdout",
     "output_type": "stream",
     "text": [
      "[1, 5, 7, 9, 2, 2, 6, 8]\n",
      "[1, 2, 2, 5, 6, 7, 8, 9]\n",
      "[1, 5, 7, 9, [2, 2, 6, 8]]\n"
     ]
    }
   ],
   "source": [
    "#两个列表[1,5,7,9]和[2,2,6,8]合并为[1,2,2,3,6,7,8,9]\n",
    "a=[1,5,7,9]\n",
    "b=[2,2,6,8]\n",
    "print(a+b)\n",
    "a.extend(b)\n",
    "a.sort(reverse=False)\n",
    "print(a)\n",
    "a=[1,5,7,9]\n",
    "c=a.append(b)\n",
    "print(a)"
   ]
  },
  {
   "cell_type": "code",
   "execution_count": 58,
   "metadata": {},
   "outputs": [
    {
     "name": "stdout",
     "output_type": "stream",
     "text": [
      "time.struct_time(tm_year=2021, tm_mon=1, tm_mday=21, tm_hour=20, tm_min=34, tm_sec=34, tm_wday=3, tm_yday=21, tm_isdst=0)\n",
      "2021-01-21 20:34:34\n",
      "1611232474.0493078\n",
      "1611232474\n",
      "time.struct_time(tm_year=2021, tm_mon=1, tm_mday=21, tm_hour=20, tm_min=34, tm_sec=34, tm_wday=3, tm_yday=21, tm_isdst=0)\n",
      "2021-01-21 20:34:34\n"
     ]
    }
   ],
   "source": [
    "#log日志中，我们需要用时间戳记录error,warning等的发生时间，请用datetime模块打印当前时间戳 “2018-04-01 11:38:54”\n",
    "import time\n",
    "print(time.localtime()) ##time.struct_time(tm_year=2021, tm_mon=1, tm_mday=21, tm_hour=20, tm_min=33, tm_sec=4, tm_wday=3, tm_yday=21, tm_isdst=0)\n",
    "print(time.strftime(\"%Y-%m-%d %H:%M:%S\",time.localtime())) ##2021-01-21 20:33:04\n",
    "print(time.time()) ##1611232384.067116\n",
    "\n",
    "now = int(time.time())\n",
    "print(now) ##1611232474\n",
    "timeArray = time.localtime(now)\n",
    "print(timeArray) ##time.struct_time(tm_year=2021, tm_mon=1, tm_mday=21, tm_hour=20, tm_min=34, tm_sec=34, tm_wday=3, tm_yday=21, tm_isdst=0)\n",
    "print(time.strftime(\"%Y-%m-%d %H:%M:%S\", timeArray)) ## 2021-01-21 20:34:34\n"
   ]
  },
  {
   "cell_type": "code",
   "execution_count": 56,
   "metadata": {},
   "outputs": [
    {
     "name": "stdout",
     "output_type": "stream",
     "text": [
      "2021-01-21 20:31:28.217652\n",
      "2021-01-21 20:31:28\n"
     ]
    }
   ],
   "source": [
    "import datetime\n",
    "nowtime=datetime.datetime.now()\n",
    "print(nowtime)\n",
    "print(nowtime.strftime(\"%Y-%m-%d %H:%M:%S\"))\n"
   ]
  },
  {
   "cell_type": "code",
   "execution_count": 156,
   "metadata": {},
   "outputs": [
    {
     "name": "stdout",
     "output_type": "stream",
     "text": [
      "Help on method randrange in module random:\n",
      "\n",
      "randrange(start, stop=None, step=1, _int=<class 'int'>) method of random.Random instance\n",
      "    Choose a random item from range(start, stop[, step]).\n",
      "    \n",
      "    This fixes the problem with randint() which includes the\n",
      "    endpoint; in Python this is usually not what you want.\n",
      "\n"
     ]
    }
   ],
   "source": [
    "import random\n",
    "#random.randint(1,10)\n",
    "help(random.randrange)\n",
    "#random.randrange(1,20,2)\n",
    "#a=[]"
   ]
  },
  {
   "cell_type": "code",
   "execution_count": 61,
   "metadata": {},
   "outputs": [
    {
     "name": "stdout",
     "output_type": "stream",
     "text": [
      "[1, 2, 3, 4, 5, 6]\n",
      "[1, 2, 3, 4, 5, 6]\n"
     ]
    }
   ],
   "source": [
    "##[[1,2],[3,4],[5,6]]一行代码展开该列表，得出[1,2,3,4,5,6]\n",
    "a=[[1,2],[3,4],[5,6]]\n",
    "b=[] \n",
    "for i in a:\n",
    "    for j in i:\n",
    "        b.append(j)\n",
    "print(b)\n",
    "c=[j for i in a for j in i]\n",
    "print(c)"
   ]
  },
  {
   "cell_type": "code",
   "execution_count": 67,
   "metadata": {},
   "outputs": [
    {
     "name": "stdout",
     "output_type": "stream",
     "text": [
      "dabceabcf\n",
      "dabceabcf\n",
      "def\n",
      "d=e=f\n"
     ]
    }
   ],
   "source": [
    "#x=\"abc\",y=\"def\",z=[\"d\",\"e\",\"f\"],分别求出x.join(y)和x.join(z)返回的结果\n",
    "x=\"abc\"\n",
    "y=\"def\"\n",
    "z=[\"d\",\"e\",\"f\"]\n",
    "print(x.join(y))\n",
    "print(x.join(z))\n",
    "print(''.join(z))\n",
    "print('='.join(z))"
   ]
  },
  {
   "cell_type": "code",
   "execution_count": 106,
   "metadata": {},
   "outputs": [
    {
     "name": "stdout",
     "output_type": "stream",
     "text": [
      "<class 'str'>\n"
     ]
    },
    {
     "data": {
      "text/plain": [
       "False"
      ]
     },
     "execution_count": 106,
     "metadata": {},
     "output_type": "execute_result"
    }
   ],
   "source": [
    "# 41、举例说明异常模块中try except else finally的相关意义\n",
    "# try..except..else没有捕获到异常，执行else语句\n",
    "# try..except..finally不管是否捕获到异常，都执行finally语句\n",
    "\n",
    "# def test_1(x):\n",
    "#     try:\n",
    "#         if(x>=1):\n",
    "#             print('大于1')\n",
    "#     except:\n",
    "#         print('')\n",
    "a=\"a\"\n",
    "print(type(a))\n",
    "a.isdecimal()"
   ]
  },
  {
   "cell_type": "code",
   "execution_count": 103,
   "metadata": {},
   "outputs": [
    {
     "name": "stdout",
     "output_type": "stream",
     "text": [
      "0 1 22\n",
      "<zip object at 0x7f84b3c13040>\n",
      "(1, 3)\n",
      "(2, 4)\n",
      "{}\n"
     ]
    }
   ],
   "source": [
    "a,b,c=0,1,22 \n",
    "print(a,b,c)\n",
    "\n",
    "## zip\n",
    "a=[1,2]\n",
    "b=[3,4]\n",
    "c=zip(a,b)\n",
    "print(c)\n",
    "for i in c:\n",
    "    print(i)\n",
    "d=dict(c)\n",
    "print(d)"
   ]
  },
  {
   "cell_type": "code",
   "execution_count": 76,
   "metadata": {},
   "outputs": [
    {
     "name": "stdout",
     "output_type": "stream",
     "text": [
      "张明 100分\n",
      "张明 100分\n"
     ]
    }
   ],
   "source": [
    "#a=\"张明 98分\"，用re.sub，将98替换为100\n",
    "a=\"张明 98分\"\n",
    "b=re.sub(r\"98\",'100',a)\n",
    "print(b)\n",
    "c=a.replace('98','100')\n",
    "print(c)"
   ]
  },
  {
   "cell_type": "code",
   "execution_count": 96,
   "metadata": {},
   "outputs": [
    {
     "name": "stdout",
     "output_type": "stream",
     "text": [
      "[2, 3, 4, 5, 6, 9]\n",
      "{'age': 18}\n",
      "{'age': 18}\n",
      "hehheh 6\n",
      "hehheh   8\n",
      "  hehheh 8\n"
     ]
    }
   ],
   "source": [
    "##list=[2,3,5,4,9,6]，从小到大排序，不许用sort，输出[2,3,4,5,6,9]\n",
    "a=[2,3,5,4,9,6]\n",
    "b=[]\n",
    "for i in range(len(a)):\n",
    "    min_a=min(a)\n",
    "    b.append(min_a)\n",
    "    a.remove(min_a)\n",
    "print(b)\n",
    "\n",
    "## 使用pop和del删除字典中的\"name\"字段，dic={\"name\":\"zs\",\"age\":18}\n",
    "dic={\"name\":\"zs\",\"age\":18}\n",
    "dic.pop('name')\n",
    "print(dic)\n",
    "dic={\"name\":\"zs\",\"age\":18}\n",
    "del (dic['name'])\n",
    "print(dic)\n",
    "\n",
    "#a = \"  hehheh  \",去除收尾空格\n",
    "a = \"  hehheh  \"\n",
    "print(a.strip(),len(a.strip()))\n",
    "print(a.lstrip(),len(a.lstrip()))\n",
    "print(a.rstrip(),len(a.rstrip()))"
   ]
  },
  {
   "cell_type": "code",
   "execution_count": 166,
   "metadata": {},
   "outputs": [
    {
     "data": {
      "text/plain": [
       "41"
      ]
     },
     "execution_count": 166,
     "metadata": {},
     "output_type": "execute_result"
    }
   ],
   "source": [
    "random.randint(1,200)"
   ]
  },
  {
   "cell_type": "code",
   "execution_count": 192,
   "metadata": {},
   "outputs": [
    {
     "name": "stdout",
     "output_type": "stream",
     "text": [
      "499.285\n",
      "83182.79577500002\n",
      "83182.795775\n",
      "83182.79577500005\n"
     ]
    }
   ],
   "source": [
    "#有样本X1~Xn，不用内置函数，怎么求方差？\n",
    "import numpy as np\n",
    "import random \n",
    "random.seed(100)\n",
    "a=[]\n",
    "\n",
    "for i in range(1000):\n",
    "    a.append(random.randint(1,1000))\n",
    "print(np.mean(a))\n",
    "print(np.std(a)**2) ##np.std()  是标准差\n",
    "print(np.var(a)) ##np.var() 是方差计算公式\n",
    "\n",
    "sum_a=0\n",
    "for i in a:\n",
    "    sum_a+=(i-sum(a)/len(a))*(i-sum(a)/len(a))\n",
    "    \n",
    "print(sum_a/len(a))"
   ]
  },
  {
   "cell_type": "code",
   "execution_count": 260,
   "metadata": {},
   "outputs": [
    {
     "data": {
      "text/html": [
       "<div>\n",
       "<style scoped>\n",
       "    .dataframe tbody tr th:only-of-type {\n",
       "        vertical-align: middle;\n",
       "    }\n",
       "\n",
       "    .dataframe tbody tr th {\n",
       "        vertical-align: top;\n",
       "    }\n",
       "\n",
       "    .dataframe thead th {\n",
       "        text-align: right;\n",
       "    }\n",
       "</style>\n",
       "<table border=\"1\" class=\"dataframe\">\n",
       "  <thead>\n",
       "    <tr style=\"text-align: right;\">\n",
       "      <th></th>\n",
       "      <th>item_id</th>\n",
       "      <th>day</th>\n",
       "      <th>last_insert_time</th>\n",
       "    </tr>\n",
       "  </thead>\n",
       "  <tbody>\n",
       "    <tr>\n",
       "      <th>0</th>\n",
       "      <td>2</td>\n",
       "      <td>2020-02-01</td>\n",
       "      <td>2020-02-01 11:20:02</td>\n",
       "    </tr>\n",
       "  </tbody>\n",
       "</table>\n",
       "</div>"
      ],
      "text/plain": [
       "   item_id        day     last_insert_time\n",
       "0        2 2020-02-01  2020-02-01 11:20:02"
      ]
     },
     "execution_count": 260,
     "metadata": {},
     "output_type": "execute_result"
    }
   ],
   "source": [
    "data = pd.DataFrame({\"item_id\": [1, 2, 3, 2, 3, 6], \"insert_time\": [\n",
    "                  '2020-02-01 11:20:00', '2020-02-01 11:40:00', '2020-02-02 11:20:00', '2020-02-01 11:20:02'\n",
    "    , '2020-02-01 11:22:00', '2020-02-01 11:30:00']})\n",
    "data['day']=pd.to_datetime(data['insert_time'].str.slice(start=0,stop=10))\n",
    "data_g=data.groupby(['item_id','day'])['insert_time'].nunique().reset_index()\n",
    "\n",
    "data_g[data_g['insert_time']>1][['item_id','day']]\n",
    "\n",
    "data_l=data.groupby(['item_id','day'])['insert_time'].last().reset_index()\n",
    "data_l.rename( columns = { \"insert_time\" : \"last_insert_time\" },inplace=True )\n",
    "\n",
    "pd.merge(data_g[data_g['insert_time']>1][['item_id','day']],data_l,how='inner',on=['item_id','day'])"
   ]
  },
  {
   "cell_type": "code",
   "execution_count": 290,
   "metadata": {},
   "outputs": [
    {
     "ename": "SyntaxError",
     "evalue": "invalid syntax (<ipython-input-290-555dd9b571bf>, line 12)",
     "output_type": "error",
     "traceback": [
      "\u001b[0;36m  File \u001b[0;32m\"<ipython-input-290-555dd9b571bf>\"\u001b[0;36m, line \u001b[0;32m12\u001b[0m\n\u001b[0;31m    print('%,%,%'sum(map_cc.values()),map_cc2[10],sum(map_cc.values())-map_cc2[10])\u001b[0m\n\u001b[0m                 ^\u001b[0m\n\u001b[0;31mSyntaxError\u001b[0m\u001b[0;31m:\u001b[0m invalid syntax\n"
     ]
    }
   ],
   "source": [
    "# 一球从100米高度自由落下，每次落地后反跳回原高度的一半；再落下，求它在第10次落地时，共经过多少米？第10次反弹多高？\n",
    "\n",
    "map_cc={}\n",
    "map_cc2={}\n",
    "100+100/2 \n",
    "50\n",
    "\n",
    "for i in range(1,11):\n",
    "    map_cc[i]=(100/(2**(i-1))+100/(2**i))\n",
    "    map_cc2[i]=100/(2**i)\n",
    "    \n",
    "print('10次+反弹后总经过米:{},{},{}'.format(sum(map_cc.values()),map_cc2[10],sum(map_cc.values())-map_cc2[10]) )"
   ]
  },
  {
   "cell_type": "code",
   "execution_count": 363,
   "metadata": {},
   "outputs": [
    {
     "data": {
      "text/plain": [
       "24"
      ]
     },
     "execution_count": 363,
     "metadata": {},
     "output_type": "execute_result"
    }
   ],
   "source": [
    "# 利用递归方法求5!。\n",
    "def dot_cc(num):\n",
    "    if num==1:\n",
    "        return 1\n",
    "    else:\n",
    "        return num*dot_cc(num-1)\n",
    "dot_cc(4)"
   ]
  },
  {
   "cell_type": "code",
   "execution_count": 389,
   "metadata": {},
   "outputs": [
    {
     "name": "stdout",
     "output_type": "stream",
     "text": [
      "[6, 9, 7, 4]\n",
      "4\n",
      "[2, 5, 3]\n",
      "2\n",
      "[3, 1]\n",
      "1\n",
      "[2]\n",
      "2\n"
     ]
    },
    {
     "data": {
      "text/plain": [
       "0"
      ]
     },
     "execution_count": 389,
     "metadata": {},
     "output_type": "execute_result"
    }
   ],
   "source": [
    " #一天，小Q得到了一个包含n个数字的数组，他想对这个数组进行k次如下操作：\n",
    "# 首先找出数组中最小的非0数字x，输出它，然后把数组中的所有非零数字都减去x；如果数组中都是0，那么直接输出0。\n",
    "    \n",
    "    \n",
    "def sub_min(input_list):\n",
    "    min_value=min(input_list)\n",
    "    max_value=max(input_list)\n",
    "    if min_value==0 and max_value==0:\n",
    "        return 0\n",
    "    else:\n",
    "        min_value_sub=min([x for x in input_list if x!=0])\n",
    "        print([x for x in input_list if x!=0])\n",
    "        print(min_value_sub)\n",
    "        return sub_min([(int(i) - min_value_sub) for i in input_list if i!=0])\n",
    "        \n",
    "\n",
    "t1=[6,9,0,7,4]\n",
    "t2=[6,9,0,-7,4]\n",
    "sub_min(t1)\n",
    "#print(sub_min(t1),sub_min(t2))\n"
   ]
  },
  {
   "cell_type": "code",
   "execution_count": 393,
   "metadata": {},
   "outputs": [
    {
     "data": {
      "text/plain": [
       "1612158859678"
      ]
     },
     "execution_count": 393,
     "metadata": {},
     "output_type": "execute_result"
    }
   ],
   "source": [
    "import time\n",
    "int(round(time.time()*1000,0))"
   ]
  },
  {
   "cell_type": "code",
   "execution_count": 240,
   "metadata": {},
   "outputs": [
    {
     "name": "stdout",
     "output_type": "stream",
     "text": [
      "DatetimeIndex(['2020-02-01 11:20:00', '2020-02-01 11:40:00',\n",
      "               '2020-02-02 11:20:00', '2020-02-01 11:20:02',\n",
      "               '2020-02-01 11:22:00', '2020-02-01 11:30:00'],\n",
      "              dtype='datetime64[ns]', freq=None)\n",
      "DatetimeIndex(['2020-02-01 11:20:00', '2020-02-01 11:40:00',\n",
      "               '2020-02-02 11:20:00', '2020-02-01 11:20:02',\n",
      "               '2020-02-01 11:22:00', '2020-02-01 11:30:00'],\n",
      "              dtype='datetime64[ns]', freq=None)\n",
      "0   2020-02-01\n",
      "1   2020-02-01\n",
      "2   2020-02-02\n",
      "3   2020-02-01\n",
      "4   2020-02-01\n",
      "5   2020-02-01\n",
      "Name: 0, dtype: datetime64[ns]\n",
      "0   2020-02-01\n",
      "1   2020-02-01\n",
      "2   2020-02-02\n",
      "3   2020-02-01\n",
      "4   2020-02-01\n",
      "5   2020-02-01\n",
      "dtype: datetime64[ns]\n",
      "DatetimeIndex(['2020-02-01', '2020-02-01', '2020-02-02', '2020-02-01',\n",
      "               '2020-02-01', '2020-02-01'],\n",
      "              dtype='datetime64[ns]', freq=None)\n",
      "DatetimeIndex(['2020-02-01', '2020-02-01', '2020-02-02', '2020-02-01',\n",
      "               '2020-02-01', '2020-02-01'],\n",
      "              dtype='datetime64[ns]', freq=None)\n"
     ]
    }
   ],
   "source": [
    "str=['2020-02-01 11:20:00', '2020-02-01 11:40:00', '2020-02-02 11:20:00', '2020-02-01 11:20:02','2020-02-01 11:22:00', '2020-02-01 11:30:00']\n",
    "print(pd.to_datetime(str))\n",
    "print(pd.to_datetime(str,format='%Y-%m-%d'))\n",
    "\n",
    "str_split=[i.split(' ')[0] for i in str]\n",
    "str_split\n",
    "print(pd.to_datetime(pd.Series(str).str.split(' ',expand=True)[0]))\n",
    "print(pd.to_datetime(pd.Series(str).str.slice(start=0,stop=10)))\n",
    "\n",
    "print(pd.to_datetime(str_split))\n",
    "print(pd.to_datetime(str_split,format='%Y-%m-%d'))"
   ]
  },
  {
   "cell_type": "code",
   "execution_count": 359,
   "metadata": {},
   "outputs": [
    {
     "name": "stdout",
     "output_type": "stream",
     "text": [
      "(1, 1534)\n",
      "1534\n"
     ]
    }
   ],
   "source": [
    "def peach(n,m):\n",
    "    n = n-1\n",
    "    m = 2*m+2\n",
    "    if n == 1:\n",
    "        return n, m\n",
    "    return peach(n,m)\n",
    "print(peach(10,1))\n",
    "\n",
    "m=1\n",
    "\n",
    "for i in range(9):\n",
    "    m=2*m+2\n",
    "\n",
    "    \n",
    "print(m)\n"
   ]
  },
  {
   "cell_type": "code",
   "execution_count": 180,
   "metadata": {},
   "outputs": [
    {
     "data": {
      "text/plain": [
       "{17: 17,\n",
       " 56: 15,\n",
       " 46: 10,\n",
       " 76: 12,\n",
       " 54: 9,\n",
       " 86: 11,\n",
       " 24: 9,\n",
       " 94: 19,\n",
       " 60: 9,\n",
       " 65: 12,\n",
       " 32: 6,\n",
       " 79: 9,\n",
       " 69: 12,\n",
       " 71: 12,\n",
       " 40: 13,\n",
       " 85: 8,\n",
       " 0: 11,\n",
       " 8: 9,\n",
       " 59: 10,\n",
       " 87: 14,\n",
       " 48: 6,\n",
       " 80: 11,\n",
       " 72: 11,\n",
       " 9: 16,\n",
       " 82: 11,\n",
       " 36: 16,\n",
       " 16: 12,\n",
       " 96: 11,\n",
       " 68: 13,\n",
       " 49: 9,\n",
       " 33: 3,\n",
       " 12: 10,\n",
       " 19: 11,\n",
       " 62: 10,\n",
       " 78: 9,\n",
       " 39: 7,\n",
       " 38: 5,\n",
       " 50: 14,\n",
       " 45: 10,\n",
       " 29: 9,\n",
       " 64: 11,\n",
       " 43: 11,\n",
       " 98: 11,\n",
       " 81: 11,\n",
       " 73: 16,\n",
       " 90: 10,\n",
       " 47: 11,\n",
       " 55: 5,\n",
       " 57: 18,\n",
       " 3: 11,\n",
       " 23: 13,\n",
       " 6: 11,\n",
       " 75: 12,\n",
       " 70: 8,\n",
       " 13: 7,\n",
       " 22: 8,\n",
       " 52: 12,\n",
       " 30: 7,\n",
       " 77: 12,\n",
       " 27: 8,\n",
       " 89: 9,\n",
       " 84: 9,\n",
       " 97: 14,\n",
       " 2: 8,\n",
       " 42: 7,\n",
       " 58: 11,\n",
       " 95: 15,\n",
       " 41: 11,\n",
       " 63: 6,\n",
       " 7: 8,\n",
       " 31: 11,\n",
       " 14: 12,\n",
       " 25: 9,\n",
       " 28: 5,\n",
       " 21: 11,\n",
       " 88: 9,\n",
       " 10: 9,\n",
       " 34: 9,\n",
       " 53: 12,\n",
       " 66: 11,\n",
       " 1: 13,\n",
       " 93: 13,\n",
       " 5: 9,\n",
       " 20: 5,\n",
       " 15: 10,\n",
       " 61: 10,\n",
       " 91: 7,\n",
       " 26: 13,\n",
       " 18: 6,\n",
       " 11: 11,\n",
       " 35: 6,\n",
       " 67: 5,\n",
       " 37: 11,\n",
       " 83: 9,\n",
       " 74: 8,\n",
       " 92: 13,\n",
       " 99: 3,\n",
       " 51: 4,\n",
       " 44: 2,\n",
       " 4: 2}"
      ]
     },
     "execution_count": 180,
     "metadata": {},
     "output_type": "execute_result"
    }
   ],
   "source": [
    "##实现如何对列表内的值计数：\n",
    "b3={}\n",
    "for i in b2:\n",
    "    if i in b3:\n",
    "        b3[i]+=1\n",
    "    else:\n",
    "        b3[i]=1\n",
    "b3"
   ]
  },
  {
   "cell_type": "code",
   "execution_count": 344,
   "metadata": {},
   "outputs": [
    {
     "data": {
      "text/plain": [
       "1534"
      ]
     },
     "execution_count": 344,
     "metadata": {},
     "output_type": "execute_result"
    }
   ],
   "source": [
    "#猴子吃桃问题：猴子第一天摘下若干个桃子，当即吃了一半，还不瘾，\n",
    "#又多吃了一个第二天早上又将剩下的桃子吃掉一半，又多吃了一个。以后每天早上都吃了前一天剩下的一半零一个。\n",
    "#到第10天早上想再吃时，见只剩下一个桃子了。求第一天共摘了多少。\n",
    "\n",
    "peach_day_num=[]\n",
    "\n",
    "# for i in range(8,-1,-1):\n",
    "#     if i==0:\n",
    "#         peach_day_num.append(1)\n",
    "#     else:\n",
    "#         peach_day_num.append((2**(i+1)+2**(i-1)))\n",
    "        \n",
    "    \n",
    "peach_day_num\n",
    "def peach_num(n,m):\n",
    "\n",
    "    if n==11:\n",
    "        return 0\n",
    "    else:\n",
    "        return m+peach_num((n+1),(m*2))\n",
    "\n",
    "peach_num(2,3)+1"
   ]
  },
  {
   "cell_type": "code",
   "execution_count": 319,
   "metadata": {},
   "outputs": [
    {
     "name": "stdout",
     "output_type": "stream",
     "text": [
      "x= 2.35\n",
      "x= 0.7430542279466668\n",
      "x= 3.9569457720533334\n",
      "x= 0.9226454449631756\n",
      "x= 3.7773545550368244\n",
      "x= 1.2289742123066099\n",
      "x= 3.4710257876933905\n",
      "x= 1.634897599686742\n",
      "x= 3.065102400313258\n",
      "x= 2.1043573406803087\n",
      "x= 2.5956426593196915\n",
      "x= 0.7071656810074167\n",
      "x= 3.9928343189925837\n",
      "x= 0.8152401392630815\n",
      "x= 3.884759860736919\n",
      "x= 1.0616507511324123\n",
      "x= 3.6383492488675877\n",
      "x= 1.4214507277968025\n",
      "x= 3.2785492722031977\n",
      "x= 1.8642517765425908\n",
      "x= 2.8357482234574096\n",
      "x= 1.525\n",
      "x= 0.7215271139733331\n",
      "x= 2.328472886026667\n",
      "x= 0.8113227224815877\n",
      "x= 2.2386772775184123\n",
      "x= 0.9644871061533047\n",
      "x= 2.085512893846695\n",
      "x= 1.167448799843371\n",
      "x= 1.882551200156629\n",
      "x= 1.4021786703401542\n",
      "x= 1.6478213296598456\n",
      "x= 0.7035828405037081\n",
      "x= 2.3464171594962915\n",
      "x= 0.7576200696315405\n",
      "x= 2.292379930368459\n",
      "x= 0.8808253755662059\n",
      "x= 2.169174624433794\n",
      "x= 1.060725363898401\n",
      "x= 1.9892746361015987\n",
      "x= 1.2821258882712951\n",
      "x= 1.7678741117287047\n",
      "x= 3.175\n",
      "x= 2.3715271139733334\n",
      "x= 3.9784728860266663\n",
      "x= 2.4613227224815875\n",
      "x= 3.888677277518412\n",
      "x= 2.614487106153305\n",
      "x= 3.735512893846695\n",
      "x= 2.817448799843371\n",
      "x= 3.532551200156629\n",
      "x= 3.052178670340154\n",
      "x= 3.2978213296598455\n",
      "x= 2.3535828405037083\n",
      "x= 3.9964171594962914\n",
      "x= 2.4076200696315406\n",
      "x= 3.942379930368459\n",
      "x= 2.530825375566206\n",
      "x= 3.819174624433794\n",
      "x= 2.7107253638984012\n",
      "x= 3.6392746361015984\n",
      "x= 2.9321258882712953\n",
      "x= 3.4178741117287044\n",
      "Integral area: 4.029065401143393\n"
     ]
    }
   ],
   "source": [
    "import math\n",
    "from scipy import integrate\n",
    "\n",
    "def func(x):\n",
    "    print(\"x=\",x)       #用于展示quad()函数对func的多次调用\n",
    "    return math.cos(2*math.pi*x)*math.exp(-x)+1.2\n",
    "\n",
    "fArea,err = integrate.quad(func,0.7,4)\n",
    "print(\"Integral area:\",fArea)\n",
    "\n",
    "\n",
    "#scipy.integrate"
   ]
  },
  {
   "cell_type": "code",
   "execution_count": 331,
   "metadata": {},
   "outputs": [
    {
     "name": "stdout",
     "output_type": "stream",
     "text": [
      "0.335\n"
     ]
    }
   ],
   "source": [
    "from scipy import integrate\n",
    "import numpy as np\n",
    "def f(x):\n",
    "    return 0.99*np.power(x,2)+0.01*x\n",
    "v, _ = integrate.quad(f, 0, 1)\n",
    "print(v)\n"
   ]
  },
  {
   "cell_type": "code",
   "execution_count": 360,
   "metadata": {},
   "outputs": [
    {
     "name": "stdout",
     "output_type": "stream",
     "text": [
      "21.556996032781562\n"
     ]
    }
   ],
   "source": [
    "from scipy import integrate\n",
    "import numpy as np\n",
    "def f(x):\n",
    "    return 0.6621*(np.power(x,-0.542)) \n",
    "v, _ = integrate.quad(f, 0, 365) ## 计算用户一年的LT\n",
    "print(v)"
   ]
  },
  {
   "cell_type": "code",
   "execution_count": 394,
   "metadata": {},
   "outputs": [],
   "source": [
    "from bs4 import BeautifulSoup\n",
    "import requests\n",
    "import time\n",
    "import re\n",
    "import pandas as pd \n",
    "import numpy as np\n",
    "url='https://bj.lianjia.com/zufang/BJ2692605332718354432.html?nav=0&unique_id=99f1e6f8-cc8d-435a-87f7-b0d360d6d5b2zufangl11612159012786'\n",
    "#url='https://bj.lianjia.com/zufang/'+str(house_code_number[i])+'.html'\n",
    "headers = {\n",
    "'Accept': 'application/json',\n",
    "'Accept-Encoding': 'gzip, deflate, br',\n",
    "'Accept-Language': 'zh-CN,zh;q=0.9,en;q=0.8',\n",
    "'Connection': 'keep-alive',\n",
    "'Cookie':  'lianjia_uuid=99f1e6f8-cc8d-435a-87f7-b0d360d6d5b2; _smt_uid=5cea4b11.2a13524e; _ga=GA1.2.1298220716.1558858518; _jzqa=1.4022354363956294700.1558858514.1559205609.1590936861.3; select_city=110000; _gid=GA1.2.1581606667.1610113282; csrfSecret=kWfghzqtT6sm4JCVrOoNXvhR; activity_ke_com=undefined; lianjia_ssid=be23dce7-ea64-4607-93d0-18e4ca13144c; sensorsdata2015jssdkcross=%7B%22distinct_id%22%3A%2216af3353f76675-0f15018c966e22-37677003-1296000-16af3353f7792b%22%2C%22%24device_id%22%3A%2216af3353f76675-0f15018c966e22-37677003-1296000-16af3353f7792b%22%2C%22props%22%3A%7B%22%24latest_traffic_source_type%22%3A%22%E4%BB%98%E8%B4%B9%E5%B9%BF%E5%91%8A%E6%B5%81%E9%87%8F%22%2C%22%24latest_referrer%22%3A%22%22%2C%22%24latest_referrer_host%22%3A%22%22%2C%22%24latest_search_keyword%22%3A%22%E6%9C%AA%E5%8F%96%E5%88%B0%E5%80%BC_%E7%9B%B4%E6%8E%A5%E6%89%93%E5%BC%80%22%2C%22%24latest_utm_source%22%3A%22guanwang%22%2C%22%24latest_utm_medium%22%3A%22pinzhuan%22%2C%22%24latest_utm_campaign%22%3A%22wybeijing%22%2C%22%24latest_utm_content%22%3A%22biaotimiaoshu%22%2C%22%24latest_utm_term%22%3A%22biaoti%22%7D%7D; Hm_lvt_9152f8221cb6243a53c83b956842be8a=1610113611; Hm_lpvt_9152f8221cb6243a53c83b956842be8a=1610113611; srcid=eyJ0Ijoie1wiZGF0YVwiOlwiMzQ3YjBkNjQzM2FlZDAyMTM2Yzg4Y2IwMTNhMjJkNGViODlhMGZhMGViYjc3NDdkZDdmYjFjOWNkN2E1MTk2ODg2ODYxOWM1MjA5MjhmNjU2MTgzMmFjZTRkZjNiYWU2M2E0YzBlZTVmOGQyNmQ3YzkxNzAwYTI3Y2E2MjZjNDU3YTUwMzZmMjAxNTBiYTU4M2QyMjA0ZWYxZjQ3NjY4NDEwZmY4ZmYyMDkxODJmMTljNmNmMGQzMjQ1NzYwZjZmYTkzOThiODI4NTdmZmQ1NmM4MzU5MTFmODUyN2JjY2Q3OGU5M2Q4YWFlNDk0OTk1YTdkYTk3ZDI3MmNjYTQzOTcyMTQ3ZDc1OGFmMGY5NmNlYjczZGFjMTBjZDdkY2Q2OGZjNjE0NjI4YmYxYmY2NWM1YWE2YTQyMmJjNWU4MmI3YWM3M2M3ZWYwMjc0MTVlZjAxNjNmZDQ1NTFkYWIyNFwiLFwia2V5X2lkXCI6XCIxXCIsXCJzaWduXCI6XCIyMDY3Zjk2ZlwifSIsInIiOiJodHRwczovL20ubGlhbmppYS5jb20vY2h1enUvYmovenVmYW5nL3J0MjAwNjAwMDAwMDAxbDEvIiwib3MiOiJ3ZWIiLCJ2IjoiMC4xIn0=',\n",
    "'Host': 'bj.lianjia.com',\n",
    "'Referer': 'https://bj.lianjia.com/zufang/pg1rt200600000001l1/',\n",
    "'User-Agent': 'Mozilla/5.0 (Windows NT 10.0; Win64; x64) AppleWebKit/537.36 (KHTML, like Gecko) Chrome/78.0.3904.97 Safari/537.36'\n",
    "}\n",
    "html = requests.get(url, headers=headers).text\n",
    "bs = BeautifulSoup(html,'lxml')\n",
    "bs_0=bs.select('script')"
   ]
  },
  {
   "cell_type": "code",
   "execution_count": 396,
   "metadata": {},
   "outputs": [
    {
     "data": {
      "text/plain": [
       "['',\n",
       " '  var contact = {};',\n",
       " '  contact = JSON.parse(JSON.stringify([]));',\n",
       " '  ',\n",
       " '  // 留资需要传参',\n",
       " \"  g_conf.hdic_bizcircle_id = '611100325';\",\n",
       " \"  g_conf.contact_ucid = '';\",\n",
       " \"  g_conf.hdic_resblock_id = '1111027381021';\",\n",
       " '  // 小程序二维码',\n",
       " \"  g_conf.qr_code_url = 'https://image1.ljcdn.com/params-compact/afc3ec38e30840cb66bc398d947d689b.jpeg';\",\n",
       " '',\n",
       " '  g_conf.coord = {',\n",
       " \"    longitude: '116.530553',\",\n",
       " \"    latitude: '39.921425'\",\n",
       " '  };',\n",
       " '  g_conf.subway = [{\"distance\":887,\"lines\":[\"\\\\u516b\\\\u901a\\\\u7ebf\"],\"name\":\"\\\\u9ad8\\\\u7891\\\\u5e97\",\"point_lat\":39.916198,\"point_lng\":116.537052},{\"distance\":1039,\"lines\":[\"1\\\\u53f7\\\\u7ebf\",\"\\\\u516b\\\\u901a\\\\u7ebf\"],\"name\":\"\\\\u56db\\\\u60e0\\\\u4e1c\",\"point_lat\":39.914741,\"point_lng\":116.52183},{\"distance\":1103,\"lines\":[\"6\\\\u53f7\\\\u7ebf\"],\"name\":\"\\\\u9752\\\\u5e74\\\\u8def\",\"point_lat\":39.929697,\"point_lng\":116.525295}];',\n",
       " \"  g_conf.name = '兴隆家园';\",\n",
       " \"  g_conf.houseCode = 'BJ2692605332718354432';\",\n",
       " \"  g_conf.offline = '';\",\n",
       " '  g_conf.city_id = 110000;',\n",
       " \"  g_conf.houseCondition = 'gaobeidian';\",\n",
       " \"  g_conf.houseConditionName = '高碑店'\",\n",
       " \"  g_conf.frame_hall_num = '1';\",\n",
       " \"  g_conf.bedroom_num = '2';\",\n",
       " \"  g_conf.rent_price = '6300';\",\n",
       " \"  g_conf.rent_type = '1';\",\n",
       " \"  g_conf.use_pc_duty_info = '';\",\n",
       " \"  g_conf.app_source = '200100000004';\",\n",
       " \"  g_conf.app_source_brand = '200301001000';\",\n",
       " \"  g_conf.bargainTitle = ''\",\n",
       " \"  g_conf.bargainDesc = ''\",\n",
       " \"  g_conf.appointUcId = '1000000026543719'\",\n",
       " \"  g_conf.pageId = 'rentalDetail';\",\n",
       " \"  var __requireList = ['https://s1.ljcdn.com/matrix_pc/dist/pc/src/page/detail/index.js?_v=20210119112805800'];\",\n",
       " '']"
      ]
     },
     "execution_count": 396,
     "metadata": {},
     "output_type": "execute_result"
    }
   ],
   "source": [
    "\n",
    "for k in bs_0[5]:\n",
    "    data_list=k.split('\\n')\n",
    "data_list"
   ]
  },
  {
   "cell_type": "code",
   "execution_count": 400,
   "metadata": {},
   "outputs": [],
   "source": [
    "## 获取第一部分数据\n",
    "map_columns_cc1={'g_conf.name':'name','g_conf.city_id':'city_id','g_conf.houseCode':'house_code','g_conf.houseConditionName':'house_condition_name'\n",
    "                 ,'g_conf.bedroom_num':'beadroom_num','g_conf.rent_price':'rent_price'\n",
    "                 ,'g_conf.frame_hall_num':'frame_hall_num'}\n",
    "\n",
    "data_cc1={\n",
    "        'house_code':[],\n",
    "        'city_id':[],\n",
    "        'house_condition_name':[],\n",
    "        'beadroom_num':[],\n",
    "        'rent_price':[],\n",
    "        'name':[],\n",
    "        'longitude':[],\n",
    "        'latitude':[],\n",
    "        'frame_hall_num':[],\n",
    "        'subway':[]\n",
    "    }\n",
    "re_str=re.compile(r'g_conf.subway = (.*)')\n",
    "\n",
    "for k in bs_0[5]:\n",
    "    data_list=k.split('\\n')\n",
    "\n",
    "    for j in data_list:\n",
    "        for cc1 in map_columns_cc1.items():\n",
    "            if j.replace(' ','').startswith(cc1[0]):\n",
    "                try:\n",
    "                    data_cc1[cc1[1]].append(re.sub(\"(')|(=)|(;)|()|()|\",'',j.replace(' ','').replace(cc1[0],'')))\n",
    "                    #data_cc1[cc1[1]].append(j.replace(' ','').replace(\"'\",'').replace('=','').replace(cc1[0],'').replace(';',''))\n",
    "                except:\n",
    "                    data_cc1[cc1[1]].append(np.nan)\n",
    "\n",
    "        if j.replace(' ','').startswith('longitude'):\n",
    "            try:\n",
    "                data_cc1['longitude'].append(re.sub(\"(')|(=)|(longitude)|(;)|(:)|()|\",'',j.replace(' ','')))\n",
    "            except:\n",
    "                data_cc1['longitude'].append(np.nan)\n",
    "        elif j.replace(' ','').startswith('latitude'):\n",
    "            try:\n",
    "                data_cc1['latitude'].append(re.sub(\"(')|(=)|(latitude)|(;)|(:)|()|\",'',j.replace(' ','')))\n",
    "            except:\n",
    "                data_cc1['latitude'].append(np.nan)\n",
    "        elif j.replace(' ','').startswith('g_conf.subway'):\n",
    "            try:\n",
    "                data_cc1['subway'].append(re_str.search(j).group(1))\n",
    "            except:\n",
    "                data_cc1['subway'].append(np.nan)\n",
    "            "
   ]
  },
  {
   "cell_type": "code",
   "execution_count": 397,
   "metadata": {},
   "outputs": [
    {
     "name": "stdout",
     "output_type": "stream",
     "text": [
      "[{\"distance\":887,\"lines\":[\"\\u516b\\u901a\\u7ebf\"],\"name\":\"\\u9ad8\\u7891\\u5e97\",\"point_lat\":39.916198,\"point_lng\":116.537052},{\"distance\":1039,\"lines\":[\"1\\u53f7\\u7ebf\",\"\\u516b\\u901a\\u7ebf\"],\"name\":\"\\u56db\\u60e0\\u4e1c\",\"point_lat\":39.914741,\"point_lng\":116.52183},{\"distance\":1103,\"lines\":[\"6\\u53f7\\u7ebf\"],\"name\":\"\\u9752\\u5e74\\u8def\",\"point_lat\":39.929697,\"point_lng\":116.525295}];\n"
     ]
    }
   ],
   "source": [
    "t='  g_conf.subway = [{\"distance\":887,\"lines\":[\"\\\\u516b\\\\u901a\\\\u7ebf\"],\"name\":\"\\\\u9ad8\\\\u7891\\\\u5e97\",\"point_lat\":39.916198,\"point_lng\":116.537052},{\"distance\":1039,\"lines\":[\"1\\\\u53f7\\\\u7ebf\",\"\\\\u516b\\\\u901a\\\\u7ebf\"],\"name\":\"\\\\u56db\\\\u60e0\\\\u4e1c\",\"point_lat\":39.914741,\"point_lng\":116.52183},{\"distance\":1103,\"lines\":[\"6\\\\u53f7\\\\u7ebf\"],\"name\":\"\\\\u9752\\\\u5e74\\\\u8def\",\"point_lat\":39.929697,\"point_lng\":116.525295}];'\n",
    "\n",
    "re_str=re.compile(r'g_conf.subway = (.*)')\n",
    "print(re_str.search(t).group(1))"
   ]
  },
  {
   "cell_type": "code",
   "execution_count": 401,
   "metadata": {},
   "outputs": [
    {
     "data": {
      "text/plain": [
       "{'house_code': ['BJ2692605332718354432'],\n",
       " 'city_id': ['110000'],\n",
       " 'house_condition_name': ['高碑店'],\n",
       " 'beadroom_num': ['2'],\n",
       " 'rent_price': ['6300'],\n",
       " 'name': ['兴隆家园'],\n",
       " 'longitude': ['116.530553,'],\n",
       " 'latitude': ['39.921425'],\n",
       " 'frame_hall_num': ['1'],\n",
       " 'subway': ['[{\"distance\":887,\"lines\":[\"\\\\u516b\\\\u901a\\\\u7ebf\"],\"name\":\"\\\\u9ad8\\\\u7891\\\\u5e97\",\"point_lat\":39.916198,\"point_lng\":116.537052},{\"distance\":1039,\"lines\":[\"1\\\\u53f7\\\\u7ebf\",\"\\\\u516b\\\\u901a\\\\u7ebf\"],\"name\":\"\\\\u56db\\\\u60e0\\\\u4e1c\",\"point_lat\":39.914741,\"point_lng\":116.52183},{\"distance\":1103,\"lines\":[\"6\\\\u53f7\\\\u7ebf\"],\"name\":\"\\\\u9752\\\\u5e74\\\\u8def\",\"point_lat\":39.929697,\"point_lng\":116.525295}];']}"
      ]
     },
     "execution_count": 401,
     "metadata": {},
     "output_type": "execute_result"
    }
   ],
   "source": [
    "data_cc1"
   ]
  },
  {
   "cell_type": "code",
   "execution_count": 405,
   "metadata": {},
   "outputs": [
    {
     "name": "stdout",
     "output_type": "stream",
     "text": [
      "1612166491938 1612166491.9386811\n"
     ]
    }
   ],
   "source": [
    "print(int(time.time()*1000),time.time())"
   ]
  },
  {
   "cell_type": "code",
   "execution_count": null,
   "metadata": {},
   "outputs": [],
   "source": []
  },
  {
   "cell_type": "code",
   "execution_count": null,
   "metadata": {},
   "outputs": [],
   "source": []
  }
 ],
 "metadata": {
  "kernelspec": {
   "display_name": "Python 3",
   "language": "python",
   "name": "python3"
  },
  "language_info": {
   "codemirror_mode": {
    "name": "ipython",
    "version": 3
   },
   "file_extension": ".py",
   "mimetype": "text/x-python",
   "name": "python",
   "nbconvert_exporter": "python",
   "pygments_lexer": "ipython3",
   "version": "3.8.3"
  }
 },
 "nbformat": 4,
 "nbformat_minor": 4
}
